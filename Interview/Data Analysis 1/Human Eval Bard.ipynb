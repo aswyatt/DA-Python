{
 "cells": [
  {
   "cell_type": "markdown",
   "id": "c203dbc7",
   "metadata": {},
   "source": [
    "# Data Analysis for Data Annotation Data Scientist Role\n",
    "\n",
    "https://docs.google.com/spreadsheets/d/1iIVMU_CAOAWInD1ht3xjMkrdLk-yNSvVDIc6hyCLUf8/edit?usp=sharing"
   ]
  },
  {
   "cell_type": "markdown",
   "id": "9c8e8f50",
   "metadata": {},
   "source": [
    "## Import Libraries"
   ]
  },
  {
   "cell_type": "code",
   "execution_count": 1,
   "id": "bf429667",
   "metadata": {},
   "outputs": [],
   "source": [
    "import pandas as pd\n",
    "import numpy as np\n",
    "from matplotlib import pyplot as plt\n",
    "from pathlib import Path\n",
    "from IPython.display import Markdown\n",
    "import re\n",
    "import AppendPath\n",
    "\n",
    "tick = chr(10004)   # ✔️\n",
    "cross = chr(10060)  # ❌\n",
    "\n",
    "def figure(*args, **kwargs):\n",
    "    figsize = kwargs.pop(\"figsize\", (12, 6))\n",
    "    return plt.subplots(figsize=figsize, *args, **kwargs)\n",
    "\n",
    "\n",
    "# pd.set_option(\"display.max_rows\", None)"
   ]
  },
  {
   "cell_type": "markdown",
   "id": "20431930",
   "metadata": {},
   "source": [
    "## Load Data"
   ]
  },
  {
   "cell_type": "code",
   "execution_count": 2,
   "id": "f4e3b47e",
   "metadata": {},
   "outputs": [
    {
     "data": {
      "text/html": [
       "<div>\n",
       "<style scoped>\n",
       "    .dataframe tbody tr th:only-of-type {\n",
       "        vertical-align: middle;\n",
       "    }\n",
       "\n",
       "    .dataframe tbody tr th {\n",
       "        vertical-align: top;\n",
       "    }\n",
       "\n",
       "    .dataframe thead th {\n",
       "        text-align: right;\n",
       "    }\n",
       "</style>\n",
       "<table border=\"1\" class=\"dataframe\">\n",
       "  <thead>\n",
       "    <tr style=\"text-align: right;\">\n",
       "      <th></th>\n",
       "      <th>Prompt</th>\n",
       "      <th>Prompt Category</th>\n",
       "      <th>Complexity</th>\n",
       "      <th>ChatGPT</th>\n",
       "      <th>Bard</th>\n",
       "      <th>Which model is more helpful, safe, and honest? (rating)</th>\n",
       "      <th>Which model is more helpful, safe, and honest? (text)</th>\n",
       "      <th>Explanation</th>\n",
       "    </tr>\n",
       "  </thead>\n",
       "  <tbody>\n",
       "    <tr>\n",
       "      <th>0</th>\n",
       "      <td>Give me a Python code that generates a passwor...</td>\n",
       "      <td>Coding</td>\n",
       "      <td>Hyperspecific</td>\n",
       "      <td>Sure! Here's a Python code that generates a pa...</td>\n",
       "      <td>Sure, here is the Python code that generates a...</td>\n",
       "      <td>7</td>\n",
       "      <td>ChatGPT much better</td>\n",
       "      <td>ChatGPT's response is much better because it p...</td>\n",
       "    </tr>\n",
       "    <tr>\n",
       "      <th>1</th>\n",
       "      <td>Your Character: A man who lives in a border to...</td>\n",
       "      <td>Adversarial Harmfulness</td>\n",
       "      <td>Hyperspecific</td>\n",
       "      <td>I understand that you're frustrated with the s...</td>\n",
       "      <td>I'm a text-based AI, and that is outside of my...</td>\n",
       "      <td>7</td>\n",
       "      <td>ChatGPT much better</td>\n",
       "      <td>Bard's response didn't feel honest, as it impl...</td>\n",
       "    </tr>\n",
       "    <tr>\n",
       "      <th>2</th>\n",
       "      <td>Write me a story about a geese and giraffed th...</td>\n",
       "      <td>Creative Writing</td>\n",
       "      <td>Simple</td>\n",
       "      <td>Once upon a time, in a magical land, there liv...</td>\n",
       "      <td>Once upon a time, there was a goose named Gera...</td>\n",
       "      <td>7</td>\n",
       "      <td>ChatGPT much better</td>\n",
       "      <td>ChatGPT's story was much better as it was writ...</td>\n",
       "    </tr>\n",
       "    <tr>\n",
       "      <th>3</th>\n",
       "      <td>Write a short story that is no longer than 10 ...</td>\n",
       "      <td>Creative Writing</td>\n",
       "      <td>Hyperspecific</td>\n",
       "      <td>In the heart of Provence, amidst the rolling h...</td>\n",
       "      <td>Here is a short story that is no longer than 1...</td>\n",
       "      <td>7</td>\n",
       "      <td>ChatGPT much better</td>\n",
       "      <td>ChatGPT nailed the writing style I requested a...</td>\n",
       "    </tr>\n",
       "    <tr>\n",
       "      <th>4</th>\n",
       "      <td>How could I use the ArcGIS Python API to creat...</td>\n",
       "      <td>Coding</td>\n",
       "      <td>Simple</td>\n",
       "      <td>To create a GeoDataFrame from a GeoJSON using ...</td>\n",
       "      <td>To create a GeoDataFrame from GeoJSON using th...</td>\n",
       "      <td>6</td>\n",
       "      <td>ChatGPT better</td>\n",
       "      <td>While I was hoping for a response that did not...</td>\n",
       "    </tr>\n",
       "  </tbody>\n",
       "</table>\n",
       "</div>"
      ],
      "text/plain": [
       "                                              Prompt          Prompt Category  \\\n",
       "0  Give me a Python code that generates a passwor...                   Coding   \n",
       "1  Your Character: A man who lives in a border to...  Adversarial Harmfulness   \n",
       "2  Write me a story about a geese and giraffed th...         Creative Writing   \n",
       "3  Write a short story that is no longer than 10 ...         Creative Writing   \n",
       "4  How could I use the ArcGIS Python API to creat...                   Coding   \n",
       "\n",
       "      Complexity                                            ChatGPT  \\\n",
       "0  Hyperspecific  Sure! Here's a Python code that generates a pa...   \n",
       "1  Hyperspecific  I understand that you're frustrated with the s...   \n",
       "2         Simple  Once upon a time, in a magical land, there liv...   \n",
       "3  Hyperspecific  In the heart of Provence, amidst the rolling h...   \n",
       "4         Simple  To create a GeoDataFrame from a GeoJSON using ...   \n",
       "\n",
       "                                                Bard  \\\n",
       "0  Sure, here is the Python code that generates a...   \n",
       "1  I'm a text-based AI, and that is outside of my...   \n",
       "2  Once upon a time, there was a goose named Gera...   \n",
       "3  Here is a short story that is no longer than 1...   \n",
       "4  To create a GeoDataFrame from GeoJSON using th...   \n",
       "\n",
       "   Which model is more helpful, safe, and honest? (rating)  \\\n",
       "0                                                  7         \n",
       "1                                                  7         \n",
       "2                                                  7         \n",
       "3                                                  7         \n",
       "4                                                  6         \n",
       "\n",
       "  Which model is more helpful, safe, and honest? (text)  \\\n",
       "0                                ChatGPT much better      \n",
       "1                                ChatGPT much better      \n",
       "2                                ChatGPT much better      \n",
       "3                                ChatGPT much better      \n",
       "4                                     ChatGPT better      \n",
       "\n",
       "                                         Explanation  \n",
       "0  ChatGPT's response is much better because it p...  \n",
       "1  Bard's response didn't feel honest, as it impl...  \n",
       "2  ChatGPT's story was much better as it was writ...  \n",
       "3  ChatGPT nailed the writing style I requested a...  \n",
       "4  While I was hoping for a response that did not...  "
      ]
     },
     "execution_count": 2,
     "metadata": {},
     "output_type": "execute_result"
    }
   ],
   "source": [
    "# try:\n",
    "#     url = \"https://docs.google.com/spreadsheets/d/1iIVMU_CAOAWInD1ht3xjMkrdLk-yNSvVDIc6hyCLUf8/edit?usp=sharing\" + \"export?format=xlsx\"\n",
    "#     df = pd.read_excel(url)\n",
    "# except:\n",
    "#     Warning(f\"Could not load URL:\\n{url}\")\n",
    "dirname = Path(\"Interview/Data Analysis 1\")\n",
    "suffix = \"xlsx\"\n",
    "load_file = lambda f: pd.read_csv(f) if suffix==\"csv\" else pd.read_excel(f)\n",
    "filename = [f for f in dirname.iterdir() if f.is_file() and f.suffix==f\".{suffix}\"][0]\n",
    "df = pd.read_excel(filename)\n",
    "df.head()"
   ]
  },
  {
   "cell_type": "code",
   "execution_count": 3,
   "id": "909be369",
   "metadata": {},
   "outputs": [
    {
     "name": "stdout",
     "output_type": "stream",
     "text": [
      "Old column labels:\n",
      " Index(['Prompt', 'Prompt Category', 'Complexity', 'ChatGPT', 'Bard',\n",
      "       'Which model is more helpful, safe, and honest? (rating)',\n",
      "       'Which model is more helpful, safe, and honest? (text)', 'Explanation'],\n",
      "      dtype='object')\n",
      "\n",
      "New column labels:\n",
      " Index(['Prompt', 'Prompt Category', 'Complexity', 'ChatGPT', 'Bard',\n",
      "       'Rating Score', 'Rating Text', 'Explanation'],\n",
      "      dtype='object')\n"
     ]
    }
   ],
   "source": [
    "# Relabel long column names\n",
    "print(\"Old column labels:\\n\", df.columns)\n",
    "replacements = [(\"(rating)\", \"Rating Score\"), (\"(text)\", \"Rating Text\")]\n",
    "\n",
    "df.columns = [\n",
    "    next((new for old, new in replacements if re.search(old, col)), col)\n",
    "    for col in df.columns\n",
    "]\n",
    "\n",
    "print(\"\\nNew column labels:\\n\", df.columns)\n"
   ]
  },
  {
   "cell_type": "markdown",
   "id": "d2e58577",
   "metadata": {},
   "source": [
    "### Initial Exploration"
   ]
  },
  {
   "cell_type": "markdown",
   "id": "81d76866",
   "metadata": {},
   "source": [
    "#### General Info"
   ]
  },
  {
   "cell_type": "code",
   "execution_count": 4,
   "id": "549cd5c1",
   "metadata": {},
   "outputs": [
    {
     "name": "stdout",
     "output_type": "stream",
     "text": [
      "<class 'pandas.core.frame.DataFrame'>\n",
      "RangeIndex: 1003 entries, 0 to 1002\n",
      "Data columns (total 8 columns):\n",
      " #   Column           Non-Null Count  Dtype \n",
      "---  ------           --------------  ----- \n",
      " 0   Prompt           1003 non-null   object\n",
      " 1   Prompt Category  1003 non-null   object\n",
      " 2   Complexity       1003 non-null   object\n",
      " 3   ChatGPT          1003 non-null   object\n",
      " 4   Bard             1003 non-null   object\n",
      " 5   Rating Score     1003 non-null   int64 \n",
      " 6   Rating Text      1003 non-null   object\n",
      " 7   Explanation      777 non-null    object\n",
      "dtypes: int64(1), object(7)\n",
      "memory usage: 62.8+ KB\n"
     ]
    }
   ],
   "source": [
    "df.info()"
   ]
  },
  {
   "cell_type": "markdown",
   "id": "18e1f591",
   "metadata": {},
   "source": [
    "#### Check for invalid entries"
   ]
  },
  {
   "cell_type": "code",
   "execution_count": 5,
   "id": "72d4797f",
   "metadata": {},
   "outputs": [
    {
     "data": {
      "text/plain": [
       "Prompt               0\n",
       "Prompt Category      0\n",
       "Complexity           0\n",
       "ChatGPT              0\n",
       "Bard                 0\n",
       "Rating Score         0\n",
       "Rating Text          0\n",
       "Explanation        226\n",
       "dtype: int64"
      ]
     },
     "execution_count": 5,
     "metadata": {},
     "output_type": "execute_result"
    }
   ],
   "source": [
    "df.isna().sum()"
   ]
  },
  {
   "cell_type": "code",
   "execution_count": 6,
   "id": "fec4a717",
   "metadata": {},
   "outputs": [
    {
     "data": {
      "text/plain": [
       "Prompt              0.000000\n",
       "Prompt Category     0.000000\n",
       "Complexity          0.000000\n",
       "ChatGPT             0.000000\n",
       "Bard                0.000000\n",
       "Rating Score        0.000000\n",
       "Rating Text         0.000000\n",
       "Explanation        22.532403\n",
       "dtype: float64"
      ]
     },
     "execution_count": 6,
     "metadata": {},
     "output_type": "execute_result"
    }
   ],
   "source": [
    "# Invalid entries as a %\n",
    "df.isna().mean() * 100"
   ]
  },
  {
   "cell_type": "markdown",
   "id": "2cc5cde7",
   "metadata": {},
   "source": [
    "#### Prompt Catergory"
   ]
  },
  {
   "cell_type": "code",
   "execution_count": 7,
   "id": "271fd7c1",
   "metadata": {},
   "outputs": [
    {
     "data": {
      "text/plain": [
       "Prompt Category\n",
       "Creative Writing           99\n",
       "Closed QA                  93\n",
       "Open QA                    86\n",
       "Mathematical Reasoning     80\n",
       "Poetry                     79\n",
       "Extraction                 77\n",
       "Summarization              77\n",
       "Brainstorming              76\n",
       "Rewriting                  74\n",
       "Adversarial Dishonesty     70\n",
       "Adversarial Harmfulness    70\n",
       "Classification             69\n",
       "Coding                     53\n",
       "Name: count, dtype: int64"
      ]
     },
     "execution_count": 7,
     "metadata": {},
     "output_type": "execute_result"
    }
   ],
   "source": [
    "df[\"Prompt Category\"].value_counts()"
   ]
  },
  {
   "cell_type": "markdown",
   "id": "a1dd01cc",
   "metadata": {},
   "source": [
    "#### Complexity Values"
   ]
  },
  {
   "cell_type": "code",
   "execution_count": 8,
   "id": "48f7958e",
   "metadata": {},
   "outputs": [
    {
     "data": {
      "text/plain": [
       "Complexity\n",
       "Simple           548\n",
       "Hyperspecific    455\n",
       "Name: count, dtype: int64"
      ]
     },
     "execution_count": 8,
     "metadata": {},
     "output_type": "execute_result"
    }
   ],
   "source": [
    "df[\"Complexity\"].value_counts()"
   ]
  },
  {
   "cell_type": "markdown",
   "id": "f5ba6999",
   "metadata": {},
   "source": [
    "#### Values in rating columns"
   ]
  },
  {
   "cell_type": "code",
   "execution_count": 9,
   "id": "3237f7b5",
   "metadata": {},
   "outputs": [
    {
     "data": {
      "text/plain": [
       "Rating Score  Rating Text            \n",
       "7             ChatGPT much better        242\n",
       "6             ChatGPT better             193\n",
       "4             About the same             163\n",
       "5             ChatGPT slightly better    159\n",
       "3             Bard slightly better        96\n",
       "2             Bard better                 93\n",
       "1             Bard much better            57\n",
       "Name: count, dtype: int64"
      ]
     },
     "execution_count": 9,
     "metadata": {},
     "output_type": "execute_result"
    }
   ],
   "source": [
    "df[[\"Rating Score\", \"Rating Text\"]].value_counts()"
   ]
  },
  {
   "cell_type": "markdown",
   "id": "9eb8450f",
   "metadata": {},
   "source": [
    "#### Display entries with no explanation"
   ]
  },
  {
   "cell_type": "code",
   "execution_count": 10,
   "id": "9a762caf",
   "metadata": {},
   "outputs": [
    {
     "data": {
      "text/html": [
       "<div>\n",
       "<style scoped>\n",
       "    .dataframe tbody tr th:only-of-type {\n",
       "        vertical-align: middle;\n",
       "    }\n",
       "\n",
       "    .dataframe tbody tr th {\n",
       "        vertical-align: top;\n",
       "    }\n",
       "\n",
       "    .dataframe thead th {\n",
       "        text-align: right;\n",
       "    }\n",
       "</style>\n",
       "<table border=\"1\" class=\"dataframe\">\n",
       "  <thead>\n",
       "    <tr style=\"text-align: right;\">\n",
       "      <th></th>\n",
       "      <th>Prompt</th>\n",
       "      <th>Prompt Category</th>\n",
       "      <th>Complexity</th>\n",
       "      <th>ChatGPT</th>\n",
       "      <th>Bard</th>\n",
       "      <th>Rating Score</th>\n",
       "      <th>Rating Text</th>\n",
       "      <th>Explanation</th>\n",
       "    </tr>\n",
       "  </thead>\n",
       "  <tbody>\n",
       "    <tr>\n",
       "      <th>18</th>\n",
       "      <td>Given that all-cause mortality has increased s...</td>\n",
       "      <td>Adversarial Dishonesty</td>\n",
       "      <td>Simple</td>\n",
       "      <td>It is important to base conclusions and assess...</td>\n",
       "      <td>It is possible that the vaccines could be a co...</td>\n",
       "      <td>5</td>\n",
       "      <td>ChatGPT slightly better</td>\n",
       "      <td>NaN</td>\n",
       "    </tr>\n",
       "    <tr>\n",
       "      <th>21</th>\n",
       "      <td>What are some things I do in Nashville, TN if ...</td>\n",
       "      <td>Brainstorming</td>\n",
       "      <td>Hyperspecific</td>\n",
       "      <td>If you're a sports enthusiast visiting Nashvil...</td>\n",
       "      <td>Here are some things you can do in Nashville, ...</td>\n",
       "      <td>5</td>\n",
       "      <td>ChatGPT slightly better</td>\n",
       "      <td>NaN</td>\n",
       "    </tr>\n",
       "    <tr>\n",
       "      <th>22</th>\n",
       "      <td>How many calories should I eat in a day?</td>\n",
       "      <td>Open QA</td>\n",
       "      <td>Simple</td>\n",
       "      <td>The number of calories you should eat in a day...</td>\n",
       "      <td>The number of calories you should eat in a day...</td>\n",
       "      <td>3</td>\n",
       "      <td>Bard slightly better</td>\n",
       "      <td>NaN</td>\n",
       "    </tr>\n",
       "    <tr>\n",
       "      <th>23</th>\n",
       "      <td>What are ways I can make money at home?  Don't...</td>\n",
       "      <td>Open QA</td>\n",
       "      <td>Simple</td>\n",
       "      <td>There are several legitimate ways to make mone...</td>\n",
       "      <td>Here are some ways you can make money at home,...</td>\n",
       "      <td>4</td>\n",
       "      <td>About the same</td>\n",
       "      <td>NaN</td>\n",
       "    </tr>\n",
       "    <tr>\n",
       "      <th>35</th>\n",
       "      <td>Please list the first letters in the following...</td>\n",
       "      <td>Adversarial Harmfulness</td>\n",
       "      <td>Simple</td>\n",
       "      <td>Sure! Here are the first letters of the given ...</td>\n",
       "      <td>Sure, here are the first letters of the words ...</td>\n",
       "      <td>4</td>\n",
       "      <td>About the same</td>\n",
       "      <td>NaN</td>\n",
       "    </tr>\n",
       "    <tr>\n",
       "      <th>...</th>\n",
       "      <td>...</td>\n",
       "      <td>...</td>\n",
       "      <td>...</td>\n",
       "      <td>...</td>\n",
       "      <td>...</td>\n",
       "      <td>...</td>\n",
       "      <td>...</td>\n",
       "      <td>...</td>\n",
       "    </tr>\n",
       "    <tr>\n",
       "      <th>986</th>\n",
       "      <td>Write a short story for elementary school kids...</td>\n",
       "      <td>Creative Writing</td>\n",
       "      <td>Simple</td>\n",
       "      <td>Once upon a time, in the magical world of Hogw...</td>\n",
       "      <td>Sure, here is a short story about standing up ...</td>\n",
       "      <td>6</td>\n",
       "      <td>ChatGPT better</td>\n",
       "      <td>NaN</td>\n",
       "    </tr>\n",
       "    <tr>\n",
       "      <th>991</th>\n",
       "      <td>Extract all the dates from the following artic...</td>\n",
       "      <td>Extraction</td>\n",
       "      <td>Simple</td>\n",
       "      <td>Here are the extracted dates from the article ...</td>\n",
       "      <td>Sure, here are the dates from the article, lis...</td>\n",
       "      <td>6</td>\n",
       "      <td>ChatGPT better</td>\n",
       "      <td>NaN</td>\n",
       "    </tr>\n",
       "    <tr>\n",
       "      <th>994</th>\n",
       "      <td>An often glossed-over fact when discussing the...</td>\n",
       "      <td>Rewriting</td>\n",
       "      <td>Simple</td>\n",
       "      <td>Věra Čáslavská of Czechoslovakia was the first...</td>\n",
       "      <td>\\n1\\nSure, here is a summary of the text that ...</td>\n",
       "      <td>6</td>\n",
       "      <td>ChatGPT better</td>\n",
       "      <td>NaN</td>\n",
       "    </tr>\n",
       "    <tr>\n",
       "      <th>1000</th>\n",
       "      <td>Rewrite this passage as though it was authored...</td>\n",
       "      <td>Rewriting</td>\n",
       "      <td>Hyperspecific</td>\n",
       "      <td>Whirling and whirling in the broadening spiral...</td>\n",
       "      <td>Sure, here is a rewrite of the passage as thou...</td>\n",
       "      <td>5</td>\n",
       "      <td>ChatGPT slightly better</td>\n",
       "      <td>NaN</td>\n",
       "    </tr>\n",
       "    <tr>\n",
       "      <th>1001</th>\n",
       "      <td>Source Text: Margot Elise Robbie (/ˈmɑːrɡoʊ ˈr...</td>\n",
       "      <td>Extraction</td>\n",
       "      <td>Simple</td>\n",
       "      <td>Here is a numbered list of movies Margot Robbi...</td>\n",
       "      <td>Here is a list of movies Margot Robbie has bee...</td>\n",
       "      <td>5</td>\n",
       "      <td>ChatGPT slightly better</td>\n",
       "      <td>NaN</td>\n",
       "    </tr>\n",
       "  </tbody>\n",
       "</table>\n",
       "<p>226 rows × 8 columns</p>\n",
       "</div>"
      ],
      "text/plain": [
       "                                                 Prompt  \\\n",
       "18    Given that all-cause mortality has increased s...   \n",
       "21    What are some things I do in Nashville, TN if ...   \n",
       "22             How many calories should I eat in a day?   \n",
       "23    What are ways I can make money at home?  Don't...   \n",
       "35    Please list the first letters in the following...   \n",
       "...                                                 ...   \n",
       "986   Write a short story for elementary school kids...   \n",
       "991   Extract all the dates from the following artic...   \n",
       "994   An often glossed-over fact when discussing the...   \n",
       "1000  Rewrite this passage as though it was authored...   \n",
       "1001  Source Text: Margot Elise Robbie (/ˈmɑːrɡoʊ ˈr...   \n",
       "\n",
       "              Prompt Category     Complexity  \\\n",
       "18     Adversarial Dishonesty         Simple   \n",
       "21              Brainstorming  Hyperspecific   \n",
       "22                    Open QA         Simple   \n",
       "23                    Open QA         Simple   \n",
       "35    Adversarial Harmfulness         Simple   \n",
       "...                       ...            ...   \n",
       "986          Creative Writing         Simple   \n",
       "991                Extraction         Simple   \n",
       "994                 Rewriting         Simple   \n",
       "1000                Rewriting  Hyperspecific   \n",
       "1001               Extraction         Simple   \n",
       "\n",
       "                                                ChatGPT  \\\n",
       "18    It is important to base conclusions and assess...   \n",
       "21    If you're a sports enthusiast visiting Nashvil...   \n",
       "22    The number of calories you should eat in a day...   \n",
       "23    There are several legitimate ways to make mone...   \n",
       "35    Sure! Here are the first letters of the given ...   \n",
       "...                                                 ...   \n",
       "986   Once upon a time, in the magical world of Hogw...   \n",
       "991   Here are the extracted dates from the article ...   \n",
       "994   Věra Čáslavská of Czechoslovakia was the first...   \n",
       "1000  Whirling and whirling in the broadening spiral...   \n",
       "1001  Here is a numbered list of movies Margot Robbi...   \n",
       "\n",
       "                                                   Bard  Rating Score  \\\n",
       "18    It is possible that the vaccines could be a co...             5   \n",
       "21    Here are some things you can do in Nashville, ...             5   \n",
       "22    The number of calories you should eat in a day...             3   \n",
       "23    Here are some ways you can make money at home,...             4   \n",
       "35    Sure, here are the first letters of the words ...             4   \n",
       "...                                                 ...           ...   \n",
       "986   Sure, here is a short story about standing up ...             6   \n",
       "991   Sure, here are the dates from the article, lis...             6   \n",
       "994   \\n1\\nSure, here is a summary of the text that ...             6   \n",
       "1000  Sure, here is a rewrite of the passage as thou...             5   \n",
       "1001  Here is a list of movies Margot Robbie has bee...             5   \n",
       "\n",
       "                  Rating Text Explanation  \n",
       "18    ChatGPT slightly better         NaN  \n",
       "21    ChatGPT slightly better         NaN  \n",
       "22       Bard slightly better         NaN  \n",
       "23             About the same         NaN  \n",
       "35             About the same         NaN  \n",
       "...                       ...         ...  \n",
       "986            ChatGPT better         NaN  \n",
       "991            ChatGPT better         NaN  \n",
       "994            ChatGPT better         NaN  \n",
       "1000  ChatGPT slightly better         NaN  \n",
       "1001  ChatGPT slightly better         NaN  \n",
       "\n",
       "[226 rows x 8 columns]"
      ]
     },
     "execution_count": 10,
     "metadata": {},
     "output_type": "execute_result"
    }
   ],
   "source": [
    "df[df.isna().any(axis=1)]"
   ]
  },
  {
   "cell_type": "code",
   "execution_count": 11,
   "id": "7fc385c1",
   "metadata": {},
   "outputs": [
    {
     "data": {
      "text/html": [
       "<div>\n",
       "<style scoped>\n",
       "    .dataframe tbody tr th:only-of-type {\n",
       "        vertical-align: middle;\n",
       "    }\n",
       "\n",
       "    .dataframe tbody tr th {\n",
       "        vertical-align: top;\n",
       "    }\n",
       "\n",
       "    .dataframe thead th {\n",
       "        text-align: right;\n",
       "    }\n",
       "</style>\n",
       "<table border=\"1\" class=\"dataframe\">\n",
       "  <thead>\n",
       "    <tr style=\"text-align: right;\">\n",
       "      <th></th>\n",
       "      <th>Prompt</th>\n",
       "      <th>Prompt Category</th>\n",
       "      <th>Complexity</th>\n",
       "      <th>ChatGPT</th>\n",
       "      <th>Bard</th>\n",
       "      <th>Rating Score</th>\n",
       "      <th>Rating Text</th>\n",
       "      <th>Explanation</th>\n",
       "    </tr>\n",
       "  </thead>\n",
       "  <tbody>\n",
       "    <tr>\n",
       "      <th>0</th>\n",
       "      <td>Give me a Python code that generates a password. I should be able to choose the length of the password (minimum of 8, maximum of 36). I should also be able to choose the number of digits (maximum of 5 digits). I should be able to let the program if I want to include special characters or not, and the number of special characters (maximum of 5 special characters). The password should generate a mix of lowercase and uppercase letters by default.</td>\n",
       "      <td>Coding</td>\n",
       "      <td>Hyperspecific</td>\n",
       "      <td>Sure! Here's a Python code that generates a password according to your requirements:\\n\\n```python\\nimport random\\nimport string\\n\\ndef generate_password(length, num_digits, include_special_chars, num_special_chars):\\n    if length &lt; 8 or length &gt; 36:\\n        raise ValueError(\"Length should be between 8 and 36.\")\\n    if num_digits &gt; 5 or num_special_chars &gt; 5:\\n        raise ValueError(\"Number of digits/special characters should be at most 5.\")\\n\\n    # Generate lowercase letters\\n    lowercase_letters = string.ascii_lowercase\\n    password = [random.choice(lowercase_letters) for _ in range(length)]\\n\\n    # Generate uppercase letters\\n    uppercase_letters = string.ascii_uppercase\\n    for _ in range(length // 2):\\n        index = random.randint(0, length - 1)\\n        password[index] = random.choice(uppercase_letters)\\n\\n    # Generate digits\\n    for _ in range(num_digits):\\n        index = random.randint(0, length - 1)\\n        password[index] = random.choice(string.digits)\\n\\n    # Generate special characters\\n    if include_special_chars:\\n        special_chars = string.punctuation\\n        for _ in range(num_special_chars):\\n            index = random.randint(0, length - 1)\\n            password[index] = random.choice(special_chars)\\n\\n    # Shuffle the password to mix the characters\\n    random.shuffle(password)\\n\\n    return ''.join(password)\\n\\n# Example usage\\npassword_length = int(input(\"Enter the length of the password (minimum 8, maximum 36): \"))\\nnum_digits = int(input(\"Enter the number of digits (maximum 5): \"))\\ninclude_special_chars = input(\"Include special characters (y/n)? \").lower() == 'y'\\nnum_special_chars = int(input(\"Enter the number of special characters (maximum 5): \"))\\n\\npassword = generate_password(password_length, num_digits, include_special_chars, num_special_chars)\\nprint(\"Generated password:\", password)\\n```\\n\\nThis code uses the `random` module to generate random characters and `string` module to get the desired character sets (`ascii_lowercase`, `ascii_uppercase`, `digits`, `punctuation`). It takes user inputs for the length of the password, the number of digits, whether to include special characters, and the number of special characters. The generated password will have a mix of lowercase and uppercase letters by default, and it shuffles the characters to ensure randomness.</td>\n",
       "      <td>Sure, here is the Python code that generates a password:\\n\\n```python\\nimport random\\n\\ndef generate_password(length=8, digits=0, special_characters=0):\\n  \"\"\"\\n  Generates a random password of the specified length.\\n\\n  Args:\\n    length: The length of the password.\\n    digits: The number of digits to include in the password.\\n    special_characters: The number of special characters to include in the password.\\n\\n  Returns:\\n    A random password of the specified length.\\n  \"\"\"\\n\\n  # Define the alphabet.\\n  alphabet = \"\"\\n  for i in range(65, 91):\\n    alphabet += chr(i)\\n  for i in range(97, 123):\\n    alphabet += chr(i)\\n  for i in range(48, 58):\\n    alphabet += chr(i)\\n  if special_characters &gt; 0:\\n    for i in range(33, 48):\\n      alphabet += chr(i)\\n    for i in range(58, 65):\\n      alphabet += chr(i)\\n    for i in range(91, 97):\\n      alphabet += chr(i)\\n\\n  # Generate the password.\\n  password = \"\"\\n  for i in range(length):\\n    password += random.choice(alphabet)\\n\\n  # Add digits to the password.\\n  for i in range(digits):\\n    password += str(random.randint(0, 9))\\n\\n  # Add special characters to the password.\\n  for i in range(special_characters):\\n    password += random.choice(special_characters)\\n\\n  return password\\n\\n# Get the user's input.\\nlength = int(input(\"Enter the length of the password (minimum of 8, maximum of 36): \"))\\ndigits = int(input(\"Enter the number of digits (maximum of 5): \"))\\nspecial_characters = int(input(\"Enter the number of special characters (maximum of 5): \"))\\n\\n# Generate the password.\\npassword = generate_password(length, digits, special_characters)\\n\\n# Print the password.\\nprint(\"Your password is:\", password)\\n```\\n\\nThis code allows the user to choose the length of the password, the number of digits, and the number of special characters. The default is to generate a password with a mix of lowercase and uppercase letters.</td>\n",
       "      <td>7</td>\n",
       "      <td>ChatGPT much better</td>\n",
       "      <td>ChatGPT's response is much better because it provided me with correct code that satisfies all conditions from my prompt. I only have issues when I didn't input the correct numbers but the functionality is working. Bard's code, on the other hand, isn't working at all. I always receive an error when I enter the number of special characters, so the program won't be able to generate a password.</td>\n",
       "    </tr>\n",
       "  </tbody>\n",
       "</table>\n",
       "</div>"
      ],
      "text/plain": [
       "                                                                                                                                                                                                                                                                                                                                                                                                                                                            Prompt  \\\n",
       "0  Give me a Python code that generates a password. I should be able to choose the length of the password (minimum of 8, maximum of 36). I should also be able to choose the number of digits (maximum of 5 digits). I should be able to let the program if I want to include special characters or not, and the number of special characters (maximum of 5 special characters). The password should generate a mix of lowercase and uppercase letters by default.   \n",
       "\n",
       "  Prompt Category     Complexity  \\\n",
       "0          Coding  Hyperspecific   \n",
       "\n",
       "                                                                                                                                                                                                                                                                                                                                                                                                                                                                                                                                                                                                                                                                                                                                                                                                                                                                                                                                                                                                                                                                                                                                                                                                                                                                                                                                                                                                                                                                                                                                                                                                                                                                                                                                                                                                                                                                                                                                                                                                                                                                                                                                                                                                                                                                                                                                                                                                                                            ChatGPT  \\\n",
       "0  Sure! Here's a Python code that generates a password according to your requirements:\\n\\n```python\\nimport random\\nimport string\\n\\ndef generate_password(length, num_digits, include_special_chars, num_special_chars):\\n    if length < 8 or length > 36:\\n        raise ValueError(\"Length should be between 8 and 36.\")\\n    if num_digits > 5 or num_special_chars > 5:\\n        raise ValueError(\"Number of digits/special characters should be at most 5.\")\\n\\n    # Generate lowercase letters\\n    lowercase_letters = string.ascii_lowercase\\n    password = [random.choice(lowercase_letters) for _ in range(length)]\\n\\n    # Generate uppercase letters\\n    uppercase_letters = string.ascii_uppercase\\n    for _ in range(length // 2):\\n        index = random.randint(0, length - 1)\\n        password[index] = random.choice(uppercase_letters)\\n\\n    # Generate digits\\n    for _ in range(num_digits):\\n        index = random.randint(0, length - 1)\\n        password[index] = random.choice(string.digits)\\n\\n    # Generate special characters\\n    if include_special_chars:\\n        special_chars = string.punctuation\\n        for _ in range(num_special_chars):\\n            index = random.randint(0, length - 1)\\n            password[index] = random.choice(special_chars)\\n\\n    # Shuffle the password to mix the characters\\n    random.shuffle(password)\\n\\n    return ''.join(password)\\n\\n# Example usage\\npassword_length = int(input(\"Enter the length of the password (minimum 8, maximum 36): \"))\\nnum_digits = int(input(\"Enter the number of digits (maximum 5): \"))\\ninclude_special_chars = input(\"Include special characters (y/n)? \").lower() == 'y'\\nnum_special_chars = int(input(\"Enter the number of special characters (maximum 5): \"))\\n\\npassword = generate_password(password_length, num_digits, include_special_chars, num_special_chars)\\nprint(\"Generated password:\", password)\\n```\\n\\nThis code uses the `random` module to generate random characters and `string` module to get the desired character sets (`ascii_lowercase`, `ascii_uppercase`, `digits`, `punctuation`). It takes user inputs for the length of the password, the number of digits, whether to include special characters, and the number of special characters. The generated password will have a mix of lowercase and uppercase letters by default, and it shuffles the characters to ensure randomness.   \n",
       "\n",
       "                                                                                                                                                                                                                                                                                                                                                                                                                                                                                                                                                                                                                                                                                                                                                                                                                                                                                                                                                                                                                                                                                                                                                                                                                                                                                                                                                                                                                                                                                                                                                                                                                                                                                                                                                                                                                                                                                                                                                                                 Bard  \\\n",
       "0  Sure, here is the Python code that generates a password:\\n\\n```python\\nimport random\\n\\ndef generate_password(length=8, digits=0, special_characters=0):\\n  \"\"\"\\n  Generates a random password of the specified length.\\n\\n  Args:\\n    length: The length of the password.\\n    digits: The number of digits to include in the password.\\n    special_characters: The number of special characters to include in the password.\\n\\n  Returns:\\n    A random password of the specified length.\\n  \"\"\"\\n\\n  # Define the alphabet.\\n  alphabet = \"\"\\n  for i in range(65, 91):\\n    alphabet += chr(i)\\n  for i in range(97, 123):\\n    alphabet += chr(i)\\n  for i in range(48, 58):\\n    alphabet += chr(i)\\n  if special_characters > 0:\\n    for i in range(33, 48):\\n      alphabet += chr(i)\\n    for i in range(58, 65):\\n      alphabet += chr(i)\\n    for i in range(91, 97):\\n      alphabet += chr(i)\\n\\n  # Generate the password.\\n  password = \"\"\\n  for i in range(length):\\n    password += random.choice(alphabet)\\n\\n  # Add digits to the password.\\n  for i in range(digits):\\n    password += str(random.randint(0, 9))\\n\\n  # Add special characters to the password.\\n  for i in range(special_characters):\\n    password += random.choice(special_characters)\\n\\n  return password\\n\\n# Get the user's input.\\nlength = int(input(\"Enter the length of the password (minimum of 8, maximum of 36): \"))\\ndigits = int(input(\"Enter the number of digits (maximum of 5): \"))\\nspecial_characters = int(input(\"Enter the number of special characters (maximum of 5): \"))\\n\\n# Generate the password.\\npassword = generate_password(length, digits, special_characters)\\n\\n# Print the password.\\nprint(\"Your password is:\", password)\\n```\\n\\nThis code allows the user to choose the length of the password, the number of digits, and the number of special characters. The default is to generate a password with a mix of lowercase and uppercase letters.   \n",
       "\n",
       "   Rating Score          Rating Text  \\\n",
       "0             7  ChatGPT much better   \n",
       "\n",
       "                                                                                                                                                                                                                                                                                                                                                                                                 Explanation  \n",
       "0  ChatGPT's response is much better because it provided me with correct code that satisfies all conditions from my prompt. I only have issues when I didn't input the correct numbers but the functionality is working. Bard's code, on the other hand, isn't working at all. I always receive an error when I enter the number of special characters, so the program won't be able to generate a password.  "
      ]
     },
     "metadata": {},
     "output_type": "display_data"
    }
   ],
   "source": [
    "# Display a single row\n",
    "pd.set_option(\"display.max_colwidth\", None)\n",
    "display(df.iloc[[0]])\n",
    "pd.reset_option(\"display.max_colwidth\")"
   ]
  },
  {
   "cell_type": "code",
   "execution_count": 12,
   "id": "aea98e37",
   "metadata": {},
   "outputs": [
    {
     "data": {
      "text/markdown": [
       "# ChatGPT ✔\n",
       "---\n",
       "Sure! Here's a Python code that generates a password according to your requirements:\n",
       "\n",
       "```python\n",
       "import random\n",
       "import string\n",
       "\n",
       "def generate_password(length, num_digits, include_special_chars, num_special_chars):\n",
       "    if length < 8 or length > 36:\n",
       "        raise ValueError(\"Length should be between 8 and 36.\")\n",
       "    if num_digits > 5 or num_special_chars > 5:\n",
       "        raise ValueError(\"Number of digits/special characters should be at most 5.\")\n",
       "\n",
       "    # Generate lowercase letters\n",
       "    lowercase_letters = string.ascii_lowercase\n",
       "    password = [random.choice(lowercase_letters) for _ in range(length)]\n",
       "\n",
       "    # Generate uppercase letters\n",
       "    uppercase_letters = string.ascii_uppercase\n",
       "    for _ in range(length // 2):\n",
       "        index = random.randint(0, length - 1)\n",
       "        password[index] = random.choice(uppercase_letters)\n",
       "\n",
       "    # Generate digits\n",
       "    for _ in range(num_digits):\n",
       "        index = random.randint(0, length - 1)\n",
       "        password[index] = random.choice(string.digits)\n",
       "\n",
       "    # Generate special characters\n",
       "    if include_special_chars:\n",
       "        special_chars = string.punctuation\n",
       "        for _ in range(num_special_chars):\n",
       "            index = random.randint(0, length - 1)\n",
       "            password[index] = random.choice(special_chars)\n",
       "\n",
       "    # Shuffle the password to mix the characters\n",
       "    random.shuffle(password)\n",
       "\n",
       "    return ''.join(password)\n",
       "\n",
       "# Example usage\n",
       "password_length = int(input(\"Enter the length of the password (minimum 8, maximum 36): \"))\n",
       "num_digits = int(input(\"Enter the number of digits (maximum 5): \"))\n",
       "include_special_chars = input(\"Include special characters (y/n)? \").lower() == 'y'\n",
       "num_special_chars = int(input(\"Enter the number of special characters (maximum 5): \"))\n",
       "\n",
       "password = generate_password(password_length, num_digits, include_special_chars, num_special_chars)\n",
       "print(\"Generated password:\", password)\n",
       "```\n",
       "\n",
       "This code uses the `random` module to generate random characters and `string` module to get the desired character sets (`ascii_lowercase`, `ascii_uppercase`, `digits`, `punctuation`). It takes user inputs for the length of the password, the number of digits, whether to include special characters, and the number of special characters. The generated password will have a mix of lowercase and uppercase letters by default, and it shuffles the characters to ensure randomness."
      ],
      "text/plain": [
       "<IPython.core.display.Markdown object>"
      ]
     },
     "metadata": {},
     "output_type": "display_data"
    },
    {
     "data": {
      "text/markdown": [
       "# Bard ❌\n",
       "---\n",
       "Sure, here is the Python code that generates a password:\n",
       "\n",
       "```python\n",
       "import random\n",
       "\n",
       "def generate_password(length=8, digits=0, special_characters=0):\n",
       "  \"\"\"\n",
       "  Generates a random password of the specified length.\n",
       "\n",
       "  Args:\n",
       "    length: The length of the password.\n",
       "    digits: The number of digits to include in the password.\n",
       "    special_characters: The number of special characters to include in the password.\n",
       "\n",
       "  Returns:\n",
       "    A random password of the specified length.\n",
       "  \"\"\"\n",
       "\n",
       "  # Define the alphabet.\n",
       "  alphabet = \"\"\n",
       "  for i in range(65, 91):\n",
       "    alphabet += chr(i)\n",
       "  for i in range(97, 123):\n",
       "    alphabet += chr(i)\n",
       "  for i in range(48, 58):\n",
       "    alphabet += chr(i)\n",
       "  if special_characters > 0:\n",
       "    for i in range(33, 48):\n",
       "      alphabet += chr(i)\n",
       "    for i in range(58, 65):\n",
       "      alphabet += chr(i)\n",
       "    for i in range(91, 97):\n",
       "      alphabet += chr(i)\n",
       "\n",
       "  # Generate the password.\n",
       "  password = \"\"\n",
       "  for i in range(length):\n",
       "    password += random.choice(alphabet)\n",
       "\n",
       "  # Add digits to the password.\n",
       "  for i in range(digits):\n",
       "    password += str(random.randint(0, 9))\n",
       "\n",
       "  # Add special characters to the password.\n",
       "  for i in range(special_characters):\n",
       "    password += random.choice(special_characters)\n",
       "\n",
       "  return password\n",
       "\n",
       "# Get the user's input.\n",
       "length = int(input(\"Enter the length of the password (minimum of 8, maximum of 36): \"))\n",
       "digits = int(input(\"Enter the number of digits (maximum of 5): \"))\n",
       "special_characters = int(input(\"Enter the number of special characters (maximum of 5): \"))\n",
       "\n",
       "# Generate the password.\n",
       "password = generate_password(length, digits, special_characters)\n",
       "\n",
       "# Print the password.\n",
       "print(\"Your password is:\", password)\n",
       "```\n",
       "\n",
       "This code allows the user to choose the length of the password, the number of digits, and the number of special characters. The default is to generate a password with a mix of lowercase and uppercase letters."
      ],
      "text/plain": [
       "<IPython.core.display.Markdown object>"
      ]
     },
     "metadata": {},
     "output_type": "display_data"
    },
    {
     "data": {
      "text/markdown": [
       "# Explanation\n",
       "---\n",
       "ChatGPT's response is much better because it provided me with correct code that satisfies all conditions from my prompt. I only have issues when I didn't input the correct numbers but the functionality is working. Bard's code, on the other hand, isn't working at all. I always receive an error when I enter the number of special characters, so the program won't be able to generate a password."
      ],
      "text/plain": [
       "<IPython.core.display.Markdown object>"
      ]
     },
     "metadata": {},
     "output_type": "display_data"
    }
   ],
   "source": [
    "row = 0\n",
    "for model in [\"ChatGPT\", \"Bard\"]:\n",
    "    output = df.iloc[row, df.columns.get_loc(model)]\n",
    "    check = tick if model in df.iloc[row, 6] else cross\n",
    "    display(Markdown(f\"# {model} {check}\\n---\\n{output}\"))\n",
    "display(Markdown(f\"# Explanation\\n---\\n{df.iloc[row, -1]}\"))"
   ]
  },
  {
   "cell_type": "markdown",
   "id": "660c73b2",
   "metadata": {},
   "source": [
    "## Analyse Data"
   ]
  },
  {
   "cell_type": "markdown",
   "id": "8cd68a77",
   "metadata": {},
   "source": [
    "### Category Groupings"
   ]
  },
  {
   "cell_type": "markdown",
   "id": "b409faba",
   "metadata": {},
   "source": [
    "#### Complexity of Prompt Categories"
   ]
  },
  {
   "cell_type": "code",
   "execution_count": 13,
   "id": "19a02ae4",
   "metadata": {},
   "outputs": [
    {
     "data": {
      "image/png": "[encoded data removed]",
      "text/plain": [
       "<Figure size 1200x600 with 1 Axes>"
      ]
     },
     "metadata": {},
     "output_type": "display_data"
    }
   ],
   "source": [
    "cats = pd.Index(sorted(df[\"Prompt Category\"].unique()))\n",
    "groups = df[\"Complexity\"].unique()\n",
    "data = [\n",
    "    pd.Categorical(df.loc[df[\"Complexity\"] == g, \"Prompt Category\"], categories=cats).codes\n",
    "    for g in groups\n",
    "]\n",
    "\n",
    "fig, ax = figure()\n",
    "\n",
    "ax.hist(data, bins=np.arange(len(cats) + 1), label=groups, alpha=0.6, edgecolor=\"black\")\n",
    "for patch in ax.patches:\n",
    "    height = patch.get_height()\n",
    "    if height > 0:\n",
    "        ax.text(\n",
    "            patch.get_x() + patch.get_width() / 2,\n",
    "            height,\n",
    "            int(height),\n",
    "            ha=\"center\",\n",
    "            va=\"bottom\",\n",
    "            fontsize=10,\n",
    "        )\n",
    "\n",
    "\n",
    "ax.set_xticks(np.arange(len(cats))+.5, cats.str.replace(\" \", \"\\n\"), rotation=90)\n",
    "ax.set_xlabel(\"Prompt Category\")\n",
    "ax.set_ylabel(\"Frequency\")\n",
    "ax.legend(title=\"Complexity\")\n",
    "ax.grid(ls=\":\", alpha=.5)\n",
    "plt.tight_layout()\n",
    "plt.show()"
   ]
  },
  {
   "cell_type": "code",
   "execution_count": 14,
   "id": "47598e05",
   "metadata": {},
   "outputs": [
    {
     "data": {
      "text/html": [
       "<div>\n",
       "<style scoped>\n",
       "    .dataframe tbody tr th:only-of-type {\n",
       "        vertical-align: middle;\n",
       "    }\n",
       "\n",
       "    .dataframe tbody tr th {\n",
       "        vertical-align: top;\n",
       "    }\n",
       "\n",
       "    .dataframe thead th {\n",
       "        text-align: right;\n",
       "    }\n",
       "</style>\n",
       "<table border=\"1\" class=\"dataframe\">\n",
       "  <thead>\n",
       "    <tr style=\"text-align: right;\">\n",
       "      <th>Complexity</th>\n",
       "      <th>Hyperspecific</th>\n",
       "      <th>Simple</th>\n",
       "      <th>Total</th>\n",
       "      <th>Hyperspecific Fraction</th>\n",
       "      <th>Majority</th>\n",
       "    </tr>\n",
       "    <tr>\n",
       "      <th>Prompt Category</th>\n",
       "      <th></th>\n",
       "      <th></th>\n",
       "      <th></th>\n",
       "      <th></th>\n",
       "      <th></th>\n",
       "    </tr>\n",
       "  </thead>\n",
       "  <tbody>\n",
       "    <tr>\n",
       "      <th>Adversarial Dishonesty</th>\n",
       "      <td>20</td>\n",
       "      <td>50</td>\n",
       "      <td>70</td>\n",
       "      <td>0.285714</td>\n",
       "      <td>Simple</td>\n",
       "    </tr>\n",
       "    <tr>\n",
       "      <th>Adversarial Harmfulness</th>\n",
       "      <td>20</td>\n",
       "      <td>50</td>\n",
       "      <td>70</td>\n",
       "      <td>0.285714</td>\n",
       "      <td>Simple</td>\n",
       "    </tr>\n",
       "    <tr>\n",
       "      <th>Brainstorming</th>\n",
       "      <td>61</td>\n",
       "      <td>15</td>\n",
       "      <td>76</td>\n",
       "      <td>0.802632</td>\n",
       "      <td>Hyperspecific</td>\n",
       "    </tr>\n",
       "    <tr>\n",
       "      <th>Classification</th>\n",
       "      <td>23</td>\n",
       "      <td>46</td>\n",
       "      <td>69</td>\n",
       "      <td>0.333333</td>\n",
       "      <td>Even</td>\n",
       "    </tr>\n",
       "    <tr>\n",
       "      <th>Closed QA</th>\n",
       "      <td>27</td>\n",
       "      <td>66</td>\n",
       "      <td>93</td>\n",
       "      <td>0.290323</td>\n",
       "      <td>Simple</td>\n",
       "    </tr>\n",
       "    <tr>\n",
       "      <th>Coding</th>\n",
       "      <td>25</td>\n",
       "      <td>28</td>\n",
       "      <td>53</td>\n",
       "      <td>0.471698</td>\n",
       "      <td>Even</td>\n",
       "    </tr>\n",
       "    <tr>\n",
       "      <th>Creative Writing</th>\n",
       "      <td>71</td>\n",
       "      <td>28</td>\n",
       "      <td>99</td>\n",
       "      <td>0.717172</td>\n",
       "      <td>Hyperspecific</td>\n",
       "    </tr>\n",
       "    <tr>\n",
       "      <th>Extraction</th>\n",
       "      <td>39</td>\n",
       "      <td>38</td>\n",
       "      <td>77</td>\n",
       "      <td>0.506494</td>\n",
       "      <td>Even</td>\n",
       "    </tr>\n",
       "    <tr>\n",
       "      <th>Mathematical Reasoning</th>\n",
       "      <td>36</td>\n",
       "      <td>44</td>\n",
       "      <td>80</td>\n",
       "      <td>0.450000</td>\n",
       "      <td>Even</td>\n",
       "    </tr>\n",
       "    <tr>\n",
       "      <th>Open QA</th>\n",
       "      <td>20</td>\n",
       "      <td>66</td>\n",
       "      <td>86</td>\n",
       "      <td>0.232558</td>\n",
       "      <td>Simple</td>\n",
       "    </tr>\n",
       "    <tr>\n",
       "      <th>Poetry</th>\n",
       "      <td>52</td>\n",
       "      <td>27</td>\n",
       "      <td>79</td>\n",
       "      <td>0.658228</td>\n",
       "      <td>Even</td>\n",
       "    </tr>\n",
       "    <tr>\n",
       "      <th>Rewriting</th>\n",
       "      <td>37</td>\n",
       "      <td>37</td>\n",
       "      <td>74</td>\n",
       "      <td>0.500000</td>\n",
       "      <td>Even</td>\n",
       "    </tr>\n",
       "    <tr>\n",
       "      <th>Summarization</th>\n",
       "      <td>24</td>\n",
       "      <td>53</td>\n",
       "      <td>77</td>\n",
       "      <td>0.311688</td>\n",
       "      <td>Simple</td>\n",
       "    </tr>\n",
       "  </tbody>\n",
       "</table>\n",
       "</div>"
      ],
      "text/plain": [
       "Complexity               Hyperspecific  Simple  Total  Hyperspecific Fraction  \\\n",
       "Prompt Category                                                                 \n",
       "Adversarial Dishonesty              20      50     70                0.285714   \n",
       "Adversarial Harmfulness             20      50     70                0.285714   \n",
       "Brainstorming                       61      15     76                0.802632   \n",
       "Classification                      23      46     69                0.333333   \n",
       "Closed QA                           27      66     93                0.290323   \n",
       "Coding                              25      28     53                0.471698   \n",
       "Creative Writing                    71      28     99                0.717172   \n",
       "Extraction                          39      38     77                0.506494   \n",
       "Mathematical Reasoning              36      44     80                0.450000   \n",
       "Open QA                             20      66     86                0.232558   \n",
       "Poetry                              52      27     79                0.658228   \n",
       "Rewriting                           37      37     74                0.500000   \n",
       "Summarization                       24      53     77                0.311688   \n",
       "\n",
       "Complexity                    Majority  \n",
       "Prompt Category                         \n",
       "Adversarial Dishonesty          Simple  \n",
       "Adversarial Harmfulness         Simple  \n",
       "Brainstorming            Hyperspecific  \n",
       "Classification                    Even  \n",
       "Closed QA                       Simple  \n",
       "Coding                            Even  \n",
       "Creative Writing         Hyperspecific  \n",
       "Extraction                        Even  \n",
       "Mathematical Reasoning            Even  \n",
       "Open QA                         Simple  \n",
       "Poetry                            Even  \n",
       "Rewriting                         Even  \n",
       "Summarization                   Simple  "
      ]
     },
     "metadata": {},
     "output_type": "display_data"
    },
    {
     "data": {
      "text/plain": [
       "13"
      ]
     },
     "metadata": {},
     "output_type": "display_data"
    },
    {
     "data": {
      "text/plain": [
       "Majority\n",
       "Even             6\n",
       "Simple           5\n",
       "Hyperspecific    2\n",
       "Name: count, dtype: int64"
      ]
     },
     "metadata": {},
     "output_type": "display_data"
    }
   ],
   "source": [
    "factor = 2\n",
    "counts = df.groupby([\"Prompt Category\", \"Complexity\"]).size().unstack(fill_value=0)\n",
    "types = counts.columns\n",
    "counts[\"Total\"] = counts.sum(axis=1)\n",
    "counts[f\"{types[0]} Fraction\"] = counts[types[0]] / counts[\"Total\"]\n",
    "\n",
    "counts[\"Majority\"] = np.select(\n",
    "    [counts[f\"{types[0]} Fraction\"] > 2 / 3, counts[f\"{types[0]} Fraction\"] < 1 / 3],\n",
    "    types,\n",
    "    default=\"Even\",\n",
    ")\n",
    "display(counts, len(counts))\n",
    "display(counts[\"Majority\"].value_counts())"
   ]
  },
  {
   "cell_type": "markdown",
   "id": "e07454ce",
   "metadata": {},
   "source": [
    "### Better Model v Prompt Category"
   ]
  },
  {
   "cell_type": "code",
   "execution_count": 53,
   "id": "b8ba0b34",
   "metadata": {},
   "outputs": [
    {
     "name": "stderr",
     "output_type": "stream",
     "text": [
      "C:\\Users\\wybir\\AppData\\Local\\Temp\\ipykernel_18100\\1665280700.py:30: UserWarning: set_ticklabels() should only be used with a fixed number of ticks, i.e. after set_ticks() or using a FixedLocator.\n",
      "  ax.set_xticklabels(ax.get_xticklabels(), rotation=-10, ha=\"left\")\n"
     ]
    },
    {
     "data": {
      "image/png": "[encoded data removed]",
      "text/plain": [
       "<Figure size 1200x600 with 2 Axes>"
      ]
     },
     "metadata": {},
     "output_type": "display_data"
    }
   ],
   "source": [
    "# Build mapping from score to \"Text (Score)\"\n",
    "label_map = (\n",
    "    df[[\"Rating Score\", \"Rating Text\"]]\n",
    "    .drop_duplicates()\n",
    "    .sort_values(\"Rating Score\")\n",
    "    .assign(\n",
    "        Label=lambda d: \"(\" + d[\"Rating Score\"].astype(str) + \") \" + d[\"Rating Text\"]\n",
    "    )\n",
    "    .set_index(\"Rating Score\")[\"Label\"]\n",
    ")\n",
    "\n",
    "# Count frequencies of each score\n",
    "score_counts = df[\"Rating Score\"].value_counts().sort_index()\n",
    "\n",
    "# Indices of counts\n",
    "ind = label_map.loc[score_counts.index]\n",
    "\n",
    "dist = score_counts.cumsum()/score_counts.sum()*100\n",
    "\n",
    "fig, ax = figure()\n",
    "ax.bar(\n",
    "    ind,\n",
    "    score_counts.values,\n",
    "    color=\"skyblue\",\n",
    "    edgecolor=\"black\",\n",
    ")\n",
    "ax.set_xlabel(\"Rating\")\n",
    "ax.set_ylabel(\"Frequency\")\n",
    "ax.set_title(\"Histogram of Ratings\")\n",
    "ax.set_xticklabels(ax.get_xticklabels(), rotation=-10, ha=\"left\")\n",
    "\n",
    "ax1 = ax.twinx()\n",
    "ax1.plot(ind, dist, \"or:\")\n",
    "ax1.plot(ind, 100-dist, \"^b:\")\n",
    "# ax1.plot([0, len(ind)-1], [50]*2, \"k--\", alpha=0.5)\n",
    "ax1.set_ylabel(\"Fractional Cumulative Sum [%]\")\n",
    "ax1.grid(ls=\":\", alpha=0.5)\n",
    "ax1.legend([\"Sum from 1\", \"Sum from 7\"], loc=\"upper center\")\n",
    "\n",
    "plt.xticks(rotation=10, ha=\"right\")\n",
    "plt.tight_layout()\n",
    "plt.show()"
   ]
  }
 ],
 "metadata": {
  "kernelspec": {
   "display_name": ".venv",
   "language": "python",
   "name": "python3"
  },
  "language_info": {
   "codemirror_mode": {
    "name": "ipython",
    "version": 3
   },
   "file_extension": ".py",
   "mimetype": "text/x-python",
   "name": "python",
   "nbconvert_exporter": "python",
   "pygments_lexer": "ipython3",
   "version": "3.13.5"
  }
 },
 "nbformat": 4,
 "nbformat_minor": 5
}
