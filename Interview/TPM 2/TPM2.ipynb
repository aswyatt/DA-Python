{
 "cells": [
  {
   "cell_type": "markdown",
   "id": "bf7cac9d",
   "metadata": {},
   "source": [
    "# Technical Project Management Round 2\n",
    "\n",
    "Data:\n",
    "- [Slack Pings](https://app.dataannotation.tech/publish/g/Y30OIG9YCwtDZSQjHSBWCiY0FTcPWj8AJTcyXyALBnsxDHV8MT1eDkM1JkA=)\n",
    "- [Emails](https://app.dataannotation.tech/publish/g/Y30OIG9YCwtDZSQjHSBWCiY0FTcPWj8AJTcyXyALBnsxDHV8MT1eDkM1JkA=)\n",
    "- [Meeting Notes](https://app.dataannotation.tech/publish/g/Y3lDAwBfBjdUaT0vbGJNHwE_RwsTVDdbNW5MYA1AOlsAM0BSExlRDiAbHi0=)\n",
    "- [Calendar Invites](https://app.dataannotation.tech/publish/g/Y1ElOXJlOwcAdioydCAJNXgQRQZUL2N9eSs_DEtzMG8yNERhIyNRIRw_JjE=)\n",
    "- [Spec Docs](https://app.dataannotation.tech/publish/g/Y0EOBU1BMiB0R0BaP2R_NiZESHAKVAJ6HhMwUzZRHUA4KlpjAwANPRQacTk=)\n",
    "- [Tickets](https://app.dataannotation.tech/publish/g/Y38EGgFafB5-C18NHTYJInoLPXdVFyNFDncgcg51FW9VLgwLdTIiLEMHJEQ=)"
   ]
  },
  {
   "cell_type": "code",
   "execution_count": 21,
   "id": "6830b059",
   "metadata": {},
   "outputs": [],
   "source": [
    "import AppendPath\n",
    "from pathlib import Path\n",
    "import requests\n",
    "from bs4 import BeautifulSoup\n",
    "from IPython.display import Markdown\n",
    "import keyring"
   ]
  },
  {
   "cell_type": "code",
   "execution_count": 22,
   "id": "ebc1d8b9",
   "metadata": {},
   "outputs": [],
   "source": [
    "def authenticate() -> tuple[requests.sessions.Session, requests.Response]:\n",
    "    session = requests.Session()\n",
    "\n",
    "    # Step 1: Load login page to get CSRF token\n",
    "    login_url = \"https://app.dataannotation.tech/users/sign_in\"\n",
    "    login_page = session.get(login_url)\n",
    "    soup = BeautifulSoup(login_page.text, \"html.parser\")\n",
    "\n",
    "    # Step 2: Extract CSRF token\n",
    "    token_input = soup.find(\"input\", {\"name\": \"authenticity_token\"})\n",
    "    auth_token = token_input[\"value\"] if token_input else None\n",
    "\n",
    "    # Step 3: Build login payload\n",
    "    payload = {\n",
    "        \"user[email]\": keyring.get_password(\"DataAnnotation\", \"email\"),\n",
    "        \"user[password]\": keyring.get_password(\"DataAnnotation\", \"password\"),\n",
    "        \"authenticity_token\": auth_token,\n",
    "        \"commit\": \"Login\",\n",
    "    }\n",
    "\n",
    "    # Step 4: Submit login form\n",
    "    response = session.post(login_url, data=payload)\n",
    "    return (session, response)\n",
    "\n",
    "session, response = authenticate()"
   ]
  },
  {
   "cell_type": "markdown",
   "id": "73cbcc66",
   "metadata": {},
   "source": [
    "## Load Data\n",
    "\n",
    "If files exist, load directly from file, otherwise load from network and save"
   ]
  },
  {
   "cell_type": "code",
   "execution_count": 23,
   "id": "ab7a1588",
   "metadata": {},
   "outputs": [],
   "source": [
    "dirname = Path(\"./Interview/TPM 2\")\n",
    "document_types = [\"Instructions\", \"Slack\", \"Emails\", \"Meetings\", \"Calendar\", \"Spec\", \"Tickets\"]\n",
    "base_url = \"https://app.dataannotation.tech/publish/g/\"\n",
    "urls = {\n",
    "    \"Instructions\":\"Y18uOWhlBmFjeygTDmB9FSgfHSY8CAIDFiYTcg10ZGdSBwVjCENbewQDLDU=\",\n",
    "    \"Slack\": \"Y30OIG9YCwtDZSQjHSBWCiY0FTcPWj8AJTcyXyALBnsxDHV8MT1eDkM1JkA=\",\n",
    "    \"Emails\": \"Y38iGkFNFxZySgovFmAIFzhAKxQTJjhdFXcMCQANJWsjIm5fLANYK0AwBxc=\",\n",
    "    \"Meetings\": \"Y3lDAwBfBjdUaT0vbGJNHwE_RwsTVDdbNW5MYA1AOlsAM0BSExlRDiAbHi0=\",\n",
    "    \"Calendar\": \"Y1ElOXJlOwcAdioydCAJNXgQRQZUL2N9eSs_DEtzMG8yNERhIyNRIRw_JjE=\",\n",
    "    \"Spec\": \"Y0EOBU1BMiB0R0BaP2R_NiZESHAKVAJ6HhMwUzZRHUA4KlpjAwANPRQacTk=\",\n",
    "    \"Tickets\": \"Y38EGgFafB5-C18NHTYJInoLPXdVFyNFDncgcg51FW9VLgwLdTIiLEMHJEQ=\",\n",
    "}\n",
    "\n",
    "documents = {}\n",
    "for doc_type in document_types:\n",
    "    filename = dirname.joinpath(doc_type + \".txt\")\n",
    "    if filename.exists():\n",
    "        text = filename.read_text(encoding=\"UTF8\")\n",
    "    else:\n",
    "        url = base_url + urls[doc_type]\n",
    "        response = session.get(url)\n",
    "        soup = BeautifulSoup(response.text, \"html.parser\")\n",
    "        text = soup.body.get_text(separator=\"\\n\", strip=True)\n",
    "        filename.write_text(text, encoding=\"UTF8\")\n",
    "    documents[doc_type] = text"
   ]
  }
 ],
 "metadata": {
  "kernelspec": {
   "display_name": ".venv",
   "language": "python",
   "name": "python3"
  },
  "language_info": {
   "codemirror_mode": {
    "name": "ipython",
    "version": 3
   },
   "file_extension": ".py",
   "mimetype": "text/x-python",
   "name": "python",
   "nbconvert_exporter": "python",
   "pygments_lexer": "ipython3",
   "version": "3.13.5"
  }
 },
 "nbformat": 4,
 "nbformat_minor": 5
}
