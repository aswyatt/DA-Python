{
 "cells": [
  {
   "cell_type": "code",
   "execution_count": 1,
   "id": "ce32cf19",
   "metadata": {},
   "outputs": [],
   "source": [
    "import sympy as sp\n",
    "sp.init_printing(use_unicode=False, use_latex=\"mathjax\")"
   ]
  },
  {
   "cell_type": "code",
   "execution_count": 2,
   "id": "70e4e204",
   "metadata": {},
   "outputs": [
    {
     "name": "stdout",
     "output_type": "stream",
     "text": [
      "n, n simplified, d, d simplified:\n"
     ]
    },
    {
     "data": {
      "text/latex": [
       "$\\displaystyle w^{4} \\left(1 - 2 e^{- \\alpha^{2}} \\cos{\\left(\\frac{\\Delta \\gamma}{\\frac{\\Delta}{f} + 1} \\right)} + e^{- 2 \\alpha^{2}}\\right)$"
      ],
      "text/plain": [
       "   /             2                             2\\\n",
       " 4 |       -alpha     /Delta*gamma\\    -2*alpha |\n",
       "w *|1 - 2*e       *cos|-----------| + e         |\n",
       "   |                  | Delta     |             |\n",
       "   |                  | ----- + 1 |             |\n",
       "   \\                  \\   f       /             /"
      ]
     },
     "metadata": {},
     "output_type": "display_data"
    },
    {
     "data": {
      "text/latex": [
       "$\\displaystyle w^{4} - 2 w^{4} e^{- \\alpha^{2}} \\cos{\\left(\\frac{\\Delta f \\gamma}{\\Delta + f} \\right)} + w^{4} e^{- 2 \\alpha^{2}}$"
      ],
      "text/plain": [
       "                 2                                  2\n",
       " 4      4  -alpha     /Delta*f*gamma\\    4  -2*alpha \n",
       "w  - 2*w *e       *cos|-------------| + w *e         \n",
       "                      \\  Delta + f  /                "
      ]
     },
     "metadata": {},
     "output_type": "display_data"
    },
    {
     "data": {
      "text/latex": [
       "$\\displaystyle 4 \\left(\\Delta + f\\right)^{2} \\left(\\frac{\\Delta^{2} \\beta^{2}}{\\left(\\frac{\\Delta}{f} + 1\\right)^{2}} + 1\\right)$"
      ],
      "text/plain": [
       "               /     2     2    \\\n",
       "             2 |Delta *beta     |\n",
       "4*(Delta + f) *|------------ + 1|\n",
       "               |           2    |\n",
       "               |/Delta    \\     |\n",
       "               ||----- + 1|     |\n",
       "               \\\\  f      /     /"
      ]
     },
     "metadata": {},
     "output_type": "display_data"
    },
    {
     "data": {
      "text/latex": [
       "$\\displaystyle 4 \\Delta^{2} \\beta^{2} f^{2} + 4 \\left(\\Delta + f\\right)^{2}$"
      ],
      "text/plain": [
       "       2     2  2                2\n",
       "4*Delta *beta *f  + 4*(Delta + f) "
      ]
     },
     "metadata": {},
     "output_type": "display_data"
    }
   ],
   "source": [
    "X = sp.symbols('X')\n",
    "w, a, k = sp.symbols('w a k', real=True, positive=True)\n",
    "alpha, beta, gamma = sp.symbols('alpha beta gamma', real=True, positive=True)\n",
    "Delta, xi, f = sp.symbols('Delta xi f', real=True)\n",
    "Delta1 = Delta/(1+Delta/f)\n",
    "I = sp.Function('I')(Delta)\n",
    "N = sp.Function('N')(Delta)\n",
    "D = sp.Function('D')(Delta)\n",
    "\n",
    "dI = sp.diff(I, Delta)\n",
    "dN = sp.diff(N, Delta)\n",
    "dD = sp.diff(D, Delta)\n",
    "dI2 = sp.diff(dI, Delta)\n",
    "dN2 = sp.diff(dN, Delta)\n",
    "dD2 = sp.diff(dD, Delta)\n",
    "\n",
    "n = w**4 * (1 + sp.exp(-2*alpha**2) - 2*sp.exp(-alpha**2)*sp.cos(gamma*Delta1))\n",
    "d = 4*(f+Delta)**2*(1 + (beta*Delta1)**2)\n",
    "\n",
    "print(\"n, n simplified, d, d simplified:\")\n",
    "display(n,n.simplify(),  d, d.simplify())"
   ]
  },
  {
   "cell_type": "code",
   "execution_count": 3,
   "id": "0914475e",
   "metadata": {},
   "outputs": [
    {
     "data": {
      "text/latex": [
       "$\\displaystyle \\frac{\\frac{d}{d \\Delta} I{\\left(\\Delta \\right)}}{I{\\left(\\Delta \\right)}}$"
      ],
      "text/plain": [
       "  d             \n",
       "------(I(Delta))\n",
       "dDelta          \n",
       "----------------\n",
       "    I(Delta)    "
      ]
     },
     "execution_count": 3,
     "metadata": {},
     "output_type": "execute_result"
    }
   ],
   "source": [
    "sp.diff(sp.ln(I), Delta)"
   ]
  },
  {
   "cell_type": "code",
   "execution_count": 4,
   "id": "d34b81c3",
   "metadata": {},
   "outputs": [
    {
     "data": {
      "text/latex": [
       "$\\displaystyle \\frac{\\frac{d}{d \\Delta} N{\\left(\\Delta \\right)}}{N{\\left(\\Delta \\right)}} - \\frac{\\frac{d}{d \\Delta} D{\\left(\\Delta \\right)}}{D{\\left(\\Delta \\right)}}$"
      ],
      "text/plain": [
       "  d                  d             \n",
       "------(N(Delta))   ------(D(Delta))\n",
       "dDelta             dDelta          \n",
       "---------------- - ----------------\n",
       "    N(Delta)           D(Delta)    "
      ]
     },
     "execution_count": 4,
     "metadata": {},
     "output_type": "execute_result"
    }
   ],
   "source": [
    "sp.diff(sp.ln(N/D), Delta).simplify()"
   ]
  },
  {
   "cell_type": "code",
   "execution_count": 5,
   "id": "461b9860",
   "metadata": {},
   "outputs": [
    {
     "data": {
      "text/latex": [
       "$\\displaystyle \\frac{\\frac{d^{2}}{d \\Delta^{2}} I{\\left(\\Delta \\right)}}{I{\\left(\\Delta \\right)}}$"
      ],
      "text/plain": [
       "   2             \n",
       "  d              \n",
       "-------(I(Delta))\n",
       "      2          \n",
       "dDelta           \n",
       "-----------------\n",
       "    I(Delta)     "
      ]
     },
     "execution_count": 5,
     "metadata": {},
     "output_type": "execute_result"
    }
   ],
   "source": [
    "# Trick to preserve dI2 in the expression\n",
    "# Substitute dI2 with X, then dI with 0, then X back with dI2\n",
    "sp.diff(sp.ln(I), Delta, 2).subs(dI2, X).subs(dI, 0).subs(X,dI2).simplify()"
   ]
  },
  {
   "cell_type": "code",
   "execution_count": 6,
   "id": "f9a496e6",
   "metadata": {},
   "outputs": [
    {
     "data": {
      "text/latex": [
       "$\\displaystyle \\frac{\\frac{d^{2}}{d \\Delta^{2}} N{\\left(\\Delta \\right)}}{N{\\left(\\Delta \\right)}} - \\frac{\\frac{d^{2}}{d \\Delta^{2}} D{\\left(\\Delta \\right)}}{D{\\left(\\Delta \\right)}}$"
      ],
      "text/plain": [
       "   2                   2             \n",
       "  d                   d              \n",
       "-------(N(Delta))   -------(D(Delta))\n",
       "      2                   2          \n",
       "dDelta              dDelta           \n",
       "----------------- - -----------------\n",
       "    N(Delta)            D(Delta)     "
      ]
     },
     "metadata": {},
     "output_type": "display_data"
    }
   ],
   "source": [
    "display(expr := sp.diff(sp.ln(N/D), Delta, 2).simplify().subs(dN/N, dD/D).simplify())"
   ]
  },
  {
   "cell_type": "code",
   "execution_count": 7,
   "id": "f13ee645",
   "metadata": {},
   "outputs": [
    {
     "data": {
      "text/latex": [
       "$\\displaystyle \\frac{2 f^{2} \\gamma w^{4} e^{- \\alpha^{2}} \\sin{\\left(\\frac{\\Delta f \\gamma}{\\Delta + f} \\right)}}{\\left(\\Delta + f\\right)^{2}}$"
      ],
      "text/plain": [
       "                     2                   \n",
       "   2        4  -alpha     /Delta*f*gamma\\\n",
       "2*f *gamma*w *e       *sin|-------------|\n",
       "                          \\  Delta + f  /\n",
       "-----------------------------------------\n",
       "                         2               \n",
       "              (Delta + f)                "
      ]
     },
     "metadata": {},
     "output_type": "display_data"
    }
   ],
   "source": [
    "display(n1:=dN.subs(N, n).simplify().factor())"
   ]
  },
  {
   "cell_type": "code",
   "execution_count": 8,
   "id": "527eaeac",
   "metadata": {},
   "outputs": [
    {
     "data": {
      "text/latex": [
       "$\\displaystyle 8 \\Delta \\beta^{2} f^{2} + 8 \\Delta + 8 f$"
      ],
      "text/plain": [
       "            2  2                \n",
       "8*Delta*beta *f  + 8*Delta + 8*f"
      ]
     },
     "metadata": {},
     "output_type": "display_data"
    }
   ],
   "source": [
    "display(d1:=dD.subs(D, d).simplify())"
   ]
  },
  {
   "cell_type": "code",
   "execution_count": 9,
   "id": "ea9b8d7a",
   "metadata": {},
   "outputs": [
    {
     "data": {
      "text/latex": [
       "$\\displaystyle \\frac{2 \\left(f^{2} \\gamma \\left(\\Delta^{2} \\beta^{2} f^{2} + \\left(\\Delta + f\\right)^{2}\\right) e^{\\alpha^{2}} \\sin{\\left(\\frac{\\Delta f \\gamma}{\\Delta + f} \\right)} - \\left(\\Delta + f\\right)^{2} \\left(\\Delta \\beta^{2} f^{2} + \\Delta + f\\right) \\left(e^{2 \\alpha^{2}} - 2 e^{\\alpha^{2}} \\cos{\\left(\\frac{\\Delta f \\gamma}{\\Delta + f} \\right)} + 1\\right)\\right)}{\\left(\\Delta + f\\right)^{2} \\left(\\Delta^{2} \\beta^{2} f^{2} + \\left(\\Delta + f\\right)^{2}\\right) \\left(e^{2 \\alpha^{2}} - 2 e^{\\alpha^{2}} \\cos{\\left(\\frac{\\Delta f \\gamma}{\\Delta + f} \\right)} + 1\\right)}$"
      ],
      "text/plain": [
       "  /                                           /     2\\                         >\n",
       "  | 2       /     2     2  2              2\\  \\alpha /    /Delta*f*gamma\\      >\n",
       "2*|f *gamma*\\Delta *beta *f  + (Delta + f) /*e        *sin|-------------| - (D >\n",
       "  \\                                                       \\  Delta + f  /      >\n",
       "------------------------------------------------------------------------------ >\n",
       "                                                                               >\n",
       "                                               2 /     2     2  2              >\n",
       "                                    (Delta + f) *\\Delta *beta *f  + (Delta + f >\n",
       "                                                                               >\n",
       "\n",
       ">                                         /        2      /     2\\             >\n",
       ">          2 /          2  2            \\ | 2*alpha       \\alpha /    /Delta*f >\n",
       "> elta + f) *\\Delta*beta *f  + Delta + f/*|e         - 2*e        *cos|------- >\n",
       ">                                         \\                           \\  Delta >\n",
       "> ---------------------------------------------------------------------------- >\n",
       ">     /        2      /     2\\                       \\                         >\n",
       ">  2\\ | 2*alpha       \\alpha /    /Delta*f*gamma\\    |                         >\n",
       "> ) /*|e         - 2*e        *cos|-------------| + 1|                         >\n",
       ">     \\                           \\  Delta + f  /    /                         >\n",
       "\n",
       ">            \\\\\n",
       "> *gamma\\    ||\n",
       "> ------| + 1||\n",
       ">  + f  /    //\n",
       "> -------------\n",
       ">              \n",
       ">              \n",
       ">              \n",
       ">              "
      ]
     },
     "execution_count": 9,
     "metadata": {},
     "output_type": "execute_result"
    }
   ],
   "source": [
    "(n1/n-d1/d).simplify().together().simplify()"
   ]
  },
  {
   "cell_type": "code",
   "execution_count": 10,
   "id": "0ab3d580",
   "metadata": {},
   "outputs": [
    {
     "data": {
      "text/latex": [
       "$\\displaystyle - \\frac{2}{f}$"
      ],
      "text/plain": [
       "-2 \n",
       "---\n",
       " f "
      ]
     },
     "execution_count": 10,
     "metadata": {},
     "output_type": "execute_result"
    }
   ],
   "source": [
    "_.subs(Delta, 0).simplify()"
   ]
  },
  {
   "cell_type": "code",
   "execution_count": 11,
   "id": "9ec02248",
   "metadata": {},
   "outputs": [
    {
     "data": {
      "text/latex": [
       "$\\displaystyle \\frac{2 f^{2} \\gamma w^{4} \\left(- 2 \\Delta \\sin{\\left(\\frac{\\Delta f \\gamma}{\\Delta + f} \\right)} + f^{2} \\gamma \\cos{\\left(\\frac{\\Delta f \\gamma}{\\Delta + f} \\right)} - 2 f \\sin{\\left(\\frac{\\Delta f \\gamma}{\\Delta + f} \\right)}\\right) e^{- \\alpha^{2}}}{\\left(\\Delta + f\\right)^{4}}$"
      ],
      "text/plain": [
       "                                                                               >\n",
       "   2        4 /             /Delta*f*gamma\\    2          /Delta*f*gamma\\      >\n",
       "2*f *gamma*w *|- 2*Delta*sin|-------------| + f *gamma*cos|-------------| - 2* >\n",
       "              \\             \\  Delta + f  /               \\  Delta + f  /      >\n",
       "------------------------------------------------------------------------------ >\n",
       "                                                           4                   >\n",
       "                                                (Delta + f)                    >\n",
       "\n",
       ">                              2\n",
       ">      /Delta*f*gamma\\\\  -alpha \n",
       "> f*sin|-------------||*e       \n",
       ">      \\  Delta + f  //         \n",
       "> ------------------------------\n",
       ">                               \n",
       ">                               "
      ]
     },
     "metadata": {},
     "output_type": "display_data"
    }
   ],
   "source": [
    "display(n2 := dN2.subs(N, n).simplify().factor())"
   ]
  },
  {
   "cell_type": "code",
   "execution_count": 12,
   "id": "534a5aa6",
   "metadata": {},
   "outputs": [
    {
     "data": {
      "text/latex": [
       "$\\displaystyle 8 \\left(\\beta^{2} f^{2} + 1\\right)$"
      ],
      "text/plain": [
       "  /    2  2    \\\n",
       "8*\\beta *f  + 1/"
      ]
     },
     "metadata": {},
     "output_type": "display_data"
    }
   ],
   "source": [
    "display(d2:=dD2.subs(D, d).simplify())"
   ]
  },
  {
   "cell_type": "code",
   "execution_count": 13,
   "id": "af2135f0",
   "metadata": {},
   "outputs": [
    {
     "data": {
      "text/latex": [
       "$\\displaystyle \\frac{2 \\left(- f^{2} \\gamma \\left(\\Delta^{2} \\beta^{2} f^{2} + \\left(\\Delta + f\\right)^{2}\\right) \\left(2 \\Delta \\sin{\\left(\\frac{\\Delta f \\gamma}{\\Delta + f} \\right)} - f^{2} \\gamma \\cos{\\left(\\frac{\\Delta f \\gamma}{\\Delta + f} \\right)} + 2 f \\sin{\\left(\\frac{\\Delta f \\gamma}{\\Delta + f} \\right)}\\right) e^{\\alpha^{2}} + \\left(\\Delta + f\\right)^{4} \\left(- \\beta^{2} f^{2} - 1\\right) \\left(e^{2 \\alpha^{2}} - 2 e^{\\alpha^{2}} \\cos{\\left(\\frac{\\Delta f \\gamma}{\\Delta + f} \\right)} + 1\\right)\\right)}{\\left(\\Delta + f\\right)^{4} \\left(\\Delta^{2} \\beta^{2} f^{2} + \\left(\\Delta + f\\right)^{2}\\right) \\left(e^{2 \\alpha^{2}} - 2 e^{\\alpha^{2}} \\cos{\\left(\\frac{\\Delta f \\gamma}{\\Delta + f} \\right)} + 1\\right)}$"
      ],
      "text/plain": [
       "  /                                                                            >\n",
       "  |   2       /     2     2  2              2\\ /           /Delta*f*gamma\\     >\n",
       "2*|- f *gamma*\\Delta *beta *f  + (Delta + f) /*|2*Delta*sin|-------------| - f >\n",
       "  \\                                            \\           \\  Delta + f  /     >\n",
       "------------------------------------------------------------------------------ >\n",
       "                                                                               >\n",
       "                                                                           4 / >\n",
       "                                                                (Delta + f) *\\ >\n",
       "                                                                               >\n",
       "\n",
       ">                                                       /     2\\               >\n",
       "> 2          /Delta*f*gamma\\          /Delta*f*gamma\\\\  \\alpha /               >\n",
       ">  *gamma*cos|-------------| + 2*f*sin|-------------||*e         + (Delta + f) >\n",
       ">            \\  Delta + f  /          \\  Delta + f  //                         >\n",
       "> ---------------------------------------------------------------------------- >\n",
       ">                                 /        2      /     2\\                     >\n",
       ">      2     2  2              2\\ | 2*alpha       \\alpha /    /Delta*f*gamma\\  >\n",
       "> Delta *beta *f  + (Delta + f) /*|e         - 2*e        *cos|-------------|  >\n",
       ">                                 \\                           \\  Delta + f  /  >\n",
       "\n",
       ">                    /        2      /     2\\                       \\\\\n",
       "> 4 /      2  2    \\ | 2*alpha       \\alpha /    /Delta*f*gamma\\    ||\n",
       ">  *\\- beta *f  - 1/*|e         - 2*e        *cos|-------------| + 1||\n",
       ">                    \\                           \\  Delta + f  /    //\n",
       "> --------------------------------------------------------------------\n",
       ">    \\                                                                \n",
       ">    |                                                                \n",
       "> + 1|                                                                \n",
       ">    /                                                                "
      ]
     },
     "metadata": {},
     "output_type": "display_data"
    }
   ],
   "source": [
    "display(expr := (n2 / n - d2 / d).simplify())"
   ]
  },
  {
   "cell_type": "code",
   "execution_count": 14,
   "id": "874def48",
   "metadata": {},
   "outputs": [
    {
     "data": {
      "text/latex": [
       "$\\displaystyle \\frac{2 \\left(f^{2} \\gamma^{2} e^{\\alpha^{2}} - \\left(\\beta^{2} f^{2} + 1\\right) \\left(e^{2 \\alpha^{2}} - 2 e^{\\alpha^{2}} + 1\\right)\\right)}{f^{2} \\left(e^{2 \\alpha^{2}} - 2 e^{\\alpha^{2}} + 1\\right)}$"
      ],
      "text/plain": [
       "  /           /     2\\                  /        2      /     2\\    \\\\\n",
       "  | 2      2  \\alpha /   /    2  2    \\ | 2*alpha       \\alpha /    ||\n",
       "2*\\f *gamma *e         - \\beta *f  + 1/*\\e         - 2*e         + 1//\n",
       "----------------------------------------------------------------------\n",
       "                      /        2      /     2\\    \\                   \n",
       "                    2 | 2*alpha       \\alpha /    |                   \n",
       "                   f *\\e         - 2*e         + 1/                   "
      ]
     },
     "metadata": {},
     "output_type": "display_data"
    }
   ],
   "source": [
    "display(expr1:=expr.subs(Delta, 0).simplify().trigsimp())"
   ]
  },
  {
   "cell_type": "code",
   "execution_count": 15,
   "id": "8a3073a8",
   "metadata": {},
   "outputs": [
    {
     "data": {
      "text/latex": [
       "$\\displaystyle 4 e^{\\alpha^{2}} \\sinh^{2}{\\left(\\frac{\\alpha^{2}}{2} \\right)}$"
      ],
      "text/plain": [
       "   /     2\\      /     2\\\n",
       "   \\alpha /     2|alpha |\n",
       "4*e        *sinh |------|\n",
       "                 \\  2   /"
      ]
     },
     "metadata": {},
     "output_type": "display_data"
    },
    {
     "data": {
      "text/latex": [
       "$\\displaystyle e^{2 \\alpha^{2}} - 2 e^{\\alpha^{2}} + 1$"
      ],
      "text/plain": [
       "        2      /     2\\    \n",
       " 2*alpha       \\alpha /    \n",
       "e         - 2*e         + 1"
      ]
     },
     "metadata": {},
     "output_type": "display_data"
    }
   ],
   "source": [
    "display(new_subexpr := 4 * sp.exp(alpha**2) * sp.sinh(alpha**2 / 2) ** 2)\n",
    "display(subexpr := new_subexpr.rewrite(sp.exp).expand())"
   ]
  },
  {
   "cell_type": "code",
   "execution_count": 16,
   "id": "e8656f54",
   "metadata": {},
   "outputs": [
    {
     "data": {
      "text/latex": [
       "$\\displaystyle \\frac{f^{2} \\gamma^{2} - 4 \\left(\\beta^{2} f^{2} + 1\\right) \\sinh^{2}{\\left(\\frac{\\alpha^{2}}{2} \\right)}}{2 f^{2} \\sinh^{2}{\\left(\\frac{\\alpha^{2}}{2} \\right)}}$"
      ],
      "text/plain": [
       "                                  /     2\\\n",
       " 2      2     /    2  2    \\     2|alpha |\n",
       "f *gamma  - 4*\\beta *f  + 1/*sinh |------|\n",
       "                                  \\  2   /\n",
       "------------------------------------------\n",
       "                      /     2\\            \n",
       "               2     2|alpha |            \n",
       "            2*f *sinh |------|            \n",
       "                      \\  2   /            "
      ]
     },
     "execution_count": 16,
     "metadata": {},
     "output_type": "execute_result"
    }
   ],
   "source": [
    "expr1.subs(subexpr, new_subexpr).together()#.rewrite(sp.exp).simplify()#.subs(4 * sp.sinh(alpha**2 / 2) ** 2, subexpr*sp.exp(-alpha**2))"
   ]
  },
  {
   "cell_type": "code",
   "execution_count": 17,
   "id": "8252f981",
   "metadata": {},
   "outputs": [
    {
     "data": {
      "text/latex": [
       "$\\displaystyle \\frac{a^{4} k^{2} - \\left(16 f^{2} + 4 k^{2} w^{4}\\right) \\sinh^{2}{\\left(\\frac{a^{2}}{2 w^{2}} \\right)}}{4 f^{4} \\left(\\cosh{\\left(\\frac{a^{2}}{w^{2}} \\right)} - 1\\right)}$"
      ],
      "text/plain": [
       "                               /  2 \\\n",
       " 4  2   /    2      2  4\\     2| a  |\n",
       "a *k  - \\16*f  + 4*k *w /*sinh |----|\n",
       "                               |   2|\n",
       "                               \\2*w /\n",
       "-------------------------------------\n",
       "              /    / 2\\    \\         \n",
       "            4 |    |a |    |         \n",
       "         4*f *|cosh|--| - 1|         \n",
       "              |    | 2|    |         \n",
       "              \\    \\w /    /         "
      ]
     },
     "execution_count": 17,
     "metadata": {},
     "output_type": "execute_result"
    }
   ],
   "source": [
    "_.subs(\n",
    "    {alpha: a / w, beta: (k / 2) * (w / f) ** 2, gamma: (k / 2) * (a / f) ** 2}\n",
    ").simplify()"
   ]
  },
  {
   "cell_type": "code",
   "execution_count": 18,
   "id": "94ca4eb4",
   "metadata": {},
   "outputs": [
    {
     "data": {
      "text/latex": [
       "$\\displaystyle \\beta^{2} - \\frac{\\gamma^{2}}{4 \\sinh^{2}{\\left(\\frac{\\alpha^{2}}{2} \\right)}} + \\frac{1}{f^{2}}$"
      ],
      "text/plain": [
       "                 2          \n",
       "    2       gamma         1 \n",
       "beta  - --------------- + --\n",
       "               /     2\\    2\n",
       "              2|alpha |   f \n",
       "        4*sinh |------|     \n",
       "               \\  2   /     "
      ]
     },
     "execution_count": 18,
     "metadata": {},
     "output_type": "execute_result"
    }
   ],
   "source": [
    "(-expr1/2).subs(subexpr, new_subexpr).rewrite(sp.exp).simplify()"
   ]
  },
  {
   "cell_type": "code",
   "execution_count": 19,
   "id": "14697e23",
   "metadata": {},
   "outputs": [
    {
     "data": {
      "text/latex": [
       "$\\displaystyle - \\frac{a^{4} k^{2}}{16 f^{4} \\sinh^{2}{\\left(\\frac{a^{2}}{2 w^{2}} \\right)}} + \\frac{1}{f^{2}} + \\frac{k^{2} w^{4}}{4 f^{4}}$"
      ],
      "text/plain": [
       "         4  2               2  4\n",
       "        a *k          1    k *w \n",
       "- ----------------- + -- + -----\n",
       "             /  2 \\    2      4 \n",
       "      4     2| a  |   f    4*f  \n",
       "  16*f *sinh |----|             \n",
       "             |   2|             \n",
       "             \\2*w /             "
      ]
     },
     "execution_count": 19,
     "metadata": {},
     "output_type": "execute_result"
    }
   ],
   "source": [
    "_.subs(\n",
    "    {alpha: a / w, beta: (k / 2) * (w / f) ** 2, gamma: (k / 2) * (a / f) ** 2}\n",
    ")#.simplify()"
   ]
  }
 ],
 "metadata": {
  "kernelspec": {
   "display_name": ".venv",
   "language": "python",
   "name": "python3"
  },
  "language_info": {
   "codemirror_mode": {
    "name": "ipython",
    "version": 3
   },
   "file_extension": ".py",
   "mimetype": "text/x-python",
   "name": "python",
   "nbconvert_exporter": "python",
   "pygments_lexer": "ipython3",
   "version": "3.13.5"
  }
 },
 "nbformat": 4,
 "nbformat_minor": 5
}
