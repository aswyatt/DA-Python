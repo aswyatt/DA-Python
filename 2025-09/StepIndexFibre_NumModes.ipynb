{
 "cells": [
  {
   "cell_type": "markdown",
   "id": "08e54979",
   "metadata": {},
   "source": [
    "# Step-Index Fibre\n",
    "\n",
    "The number of modes that a fibre can support can be approximated by the expression\n",
    "$$\n",
    "N_m \\approx \\frac{V^2}{2}.\n",
    "$$\n",
    "where\n",
    "$$\n",
    "V = a k_0 \\text{NA}.\n",
    "$$\n",
    "\n",
    "However, a complete analysis is required to obtain the exact number.\n",
    "\n",
    "## Analytic Derivation\n",
    "\n",
    "The fibre is subject to the refractive index profile\n",
    "$$\n",
    "n(r\\leq a) = n_\\mathrm{core}\\\\\n",
    "n(r > a) = n_\\mathrm{clad}\\\\\n",
    "$$\n",
    "\n",
    "and field subject to the boundary conditions\n",
    "$$\n",
    "E(r^{(-)}=a) = E(r^{(+)}=a)\\\\\n",
    "E^\\prime(r^{(-)}=a) = E^\\prime(r^{(+)}=a)\n",
    "$$\n",
    "where $r^{(-)}$ and $r^{(+)}$ refer to the radial co-ordinate when approacing from $-\\infty$ and $+\\infty$ respectively.\n",
    "\n",
    "The solution is\n",
    "$$\n",
    "E(r,\\phi,z,t) = \\sum_{lm} \\psi_{lm}(r) e^{il\\phi} e^{i\\beta_{lm} z} e^{-i\\omega t} \\left|a_{lm}\\right|e^{i\\theta_{lm}}\n",
    "$$\n",
    "\n",
    "with\n",
    "$$\n",
    "\\psi_{lm}(r) = \\begin{cases}\n",
    "A_{lm} J_l\\left(u_{lm}\\frac{r}{a}\\right) & r\\leq a\\\\\n",
    "A_{lm} \\frac{J_l\\left(u_{lm}\\right)}{K_l\\left(w_{lm}\\right)} K_l\\left(w_{lm}\\frac{r}{a}\\right) & r\\geq a\n",
    "\\end{cases}\n",
    "$$\n",
    "\n",
    "where \n",
    "$$\n",
    "u_{lm} = a\\sqrt{n_\\mathrm{core}^2k_0^2 - \\beta_{lm}^2}\\\\\n",
    "w_{lm} = a\\sqrt{\\beta_{lm}^2 - n_\\mathrm{clad}^2k_0^2}\n",
    "$$ \n",
    "where $J_l$ is the Bessel function of the _1<sup>st</sup>_ kind, and $K_l$ is the modified Bessel function of the _2<sup>nd</sup>_ kind.\n",
    "\n",
    "For the mode to be propagating, $u_{lm}$ and $w_{lm}$ must be real, thus\n",
    "$$\n",
    "n_\\mathrm{clad} \\leq \\beta_{lm}/k_0 \\leq n_\\mathrm{core}\n",
    "$$ \n",
    "\n",
    "From this, taking the negative signs, one can conclude\n",
    "$$\n",
    "j_{l-1,m} < V < j_{l,m}\n",
    "$$\n",
    "where the roots of the Bessel function are labelled $j_{lm}$, i.e.$J_l(j_{lm}) = 0$.\n",
    "\n",
    "**Note that for $l=0$, there is also an additional solution for the fundamental mode**"
   ]
  },
  {
   "cell_type": "code",
   "execution_count": 1,
   "id": "e5e41ab2",
   "metadata": {},
   "outputs": [],
   "source": [
    "import numpy as np\n",
    "from scipy import special\n",
    "\n",
    "PI = np.pi\n",
    "TAU = 2*PI"
   ]
  },
  {
   "cell_type": "markdown",
   "id": "fc938fa0",
   "metadata": {},
   "source": [
    "## Functions"
   ]
  },
  {
   "cell_type": "code",
   "execution_count": 2,
   "id": "d533fa41",
   "metadata": {},
   "outputs": [],
   "source": [
    "# Refractive index of bulk fused silica (SiO2) - Malitson (1965)\n",
    "def ref_index_fused_silica(l_um):\n",
    "    return np.sqrt(\n",
    "        1\n",
    "        + 0.6961663 / (1 - (0.0684043 / l_um) ** 2)\n",
    "        + 0.4079426 / (1 - (0.1162414 / l_um) ** 2)\n",
    "        + 0.8974794 / (1 - (9.896161 / l_um) ** 2)\n",
    "    )\n",
    "\n",
    "# Calculate the maximum number of modes (propagation constant must be real)\n",
    "#  u_max = V\n",
    "def num_modes(V: float, l: int = 0, Nm: int = 10):\n",
    "    j_lm = lambda Nm: special.jn_zeros(l-1, Nm)\n",
    "    Nm = max(Nm, 1)\n",
    "    roots_lm1 = j_lm(Nm)\n",
    "    while roots_lm1[-1] < V:\n",
    "        Nm *= 2\n",
    "        roots_lm1 = j_lm(Nm)\n",
    "    # For l=0, include the first root larger than V\n",
    "    return sum(roots_lm1 < V).item() + (l==0)"
   ]
  },
  {
   "cell_type": "markdown",
   "id": "e4ac9e9f",
   "metadata": {},
   "source": [
    "## Define Fibre Parameters"
   ]
  },
  {
   "cell_type": "code",
   "execution_count": 3,
   "id": "ac4fb72b",
   "metadata": {},
   "outputs": [],
   "source": [
    "l0 = 633e-3 # Wavelength [um]\n",
    "k0 = TAU/l0\n",
    "d = 10 # Core diameter [um]\n",
    "a = d/2 # Fibre radius [um]\n",
    "NA = 0.1 # Numerical aperture\n",
    "\n",
    "n_clad = ref_index_fused_silica(l0) # Ref. index of cladding\n",
    "n_core = np.sqrt(NA**2 + n_clad**2) # Ref. index of core\n",
    "\n",
    "# Normalized frequency\n",
    "V = a * k0 * NA"
   ]
  },
  {
   "cell_type": "markdown",
   "id": "a9b48004",
   "metadata": {},
   "source": [
    "## Find number of modes\n",
    "\n",
    "For a given $l$, find number of roots, $J_l(\\rho_{lm})=0$ such that $\\rho_{lm} \\leq V$.\n",
    "\n",
    "For $l=0$, there are 2 modes per root ()\n",
    "For $l\\geq1$, there are 4 modes per root ($\\pm l$ and two polarizations)."
   ]
  },
  {
   "cell_type": "code",
   "execution_count": 4,
   "id": "e9fd8980",
   "metadata": {},
   "outputs": [],
   "source": [
    "N_lm = []\n",
    "l = 0\n",
    "while True:\n",
    "    if (Nm := num_modes(V, l))==0:\n",
    "        break\n",
    "    N_lm.append(Nm)\n",
    "    l += 1"
   ]
  },
  {
   "cell_type": "markdown",
   "id": "f8e227f8",
   "metadata": {},
   "source": [
    "### Check Modes\n",
    "\n",
    "Output the zeros of the Bessel functions to make sure we haven't missed any. The first non-guided root for each l, as well as the first non-guided l is displayed to check it is larger than V."
   ]
  },
  {
   "cell_type": "code",
   "execution_count": 5,
   "id": "7ed1a141",
   "metadata": {},
   "outputs": [
    {
     "name": "stdout",
     "output_type": "stream",
     "text": [
      "V = 4.963022\n",
      "l = 0, Nm=2: [ 3.83170597  7.01558667 10.17346814]\n",
      "l = 1, Nm=1: [2.40482556 5.52007811]\n",
      "l = 2, Nm=1: [3.83170597 7.01558667]\n",
      "l = 3, Nm=0: [5.1356223]\n"
     ]
    }
   ],
   "source": [
    "print(f\"V = {V:.6f}\")\n",
    "Nl = len(N_lm)\n",
    "for l in range(Nl+1):\n",
    "    Nm = N_lm[l] if l<Nl else 0\n",
    "    print(f\"{l = }, {Nm=}:\", special.jn_zeros(l-1, Nm+1))"
   ]
  },
  {
   "cell_type": "markdown",
   "id": "ece268d8",
   "metadata": {},
   "source": [
    "## Display Results"
   ]
  },
  {
   "cell_type": "code",
   "execution_count": 6,
   "id": "50ea0199",
   "metadata": {},
   "outputs": [
    {
     "name": "stdout",
     "output_type": "stream",
     "text": [
      "Valid LP modes:\n",
      "LP_00\n",
      "LP_01\n",
      "LP_10\n",
      "LP_20\n",
      "V = 4.963\n",
      "Approximate number of modes (V^2/2): 12.32\n",
      "\n",
      "Total number of modes: 12\n"
     ]
    }
   ],
   "source": [
    "print(\"Valid LP modes:\")\n",
    "_ = [print(f\"LP_{l}{m}\") for l, N_l in enumerate(N_lm) for m in range(N_l)]\n",
    "print(f\"V = {V:.3f}\")\n",
    "print(f\"Approximate number of modes (V^2/2): {V**2/2:.2f}\")\n",
    "\n",
    "# Two polarizations for l=0, four for l>0 \n",
    "print(\"\\nTotal number of modes:\", 2*N_lm[0] + 4*sum(N_lm[1:]))"
   ]
  }
 ],
 "metadata": {
  "kernelspec": {
   "display_name": ".venv",
   "language": "python",
   "name": "python3"
  },
  "language_info": {
   "codemirror_mode": {
    "name": "ipython",
    "version": 3
   },
   "file_extension": ".py",
   "mimetype": "text/x-python",
   "name": "python",
   "nbconvert_exporter": "python",
   "pygments_lexer": "ipython3",
   "version": "3.13.5"
  }
 },
 "nbformat": 4,
 "nbformat_minor": 5
}
