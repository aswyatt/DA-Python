{
 "cells": [
  {
   "cell_type": "markdown",
   "id": "08e54979",
   "metadata": {},
   "source": [
    "# Step-Index Fibre\n",
    "\n",
    "Refractive index:\n",
    "$$\n",
    "n(r\\leq a) = n_\\mathrm{core}\\\\\n",
    "n(r > a) = n_\\mathrm{clad}\\\\\n",
    "$$\n",
    "\n",
    "and boundary conditions\n",
    "$$\n",
    "E(r^{(-)}=a) = E(r^{(+)}=a)\\\\\n",
    "E^\\prime(r^{(-)}=a) = E^\\prime(r^{(+)}=a)\n",
    "$$\n",
    "where $r^{(-)}$ and $r^{(+)}$ refer to the radial co-ordinate when approacing from $-\\infty$ and $+\\infty$ respectively.\n",
    "\n",
    "The solution is\n",
    "$$\n",
    "E(r,\\phi,z,t) = \\sum_{lm} \\psi_{lm}(r) e^{il\\phi} e^{i\\beta_{lm} z} e^{-i\\omega t} \\left|a_{lm}\\right|e^{i\\theta_{lm}}\n",
    "$$\n",
    "\n",
    "with\n",
    "$$\n",
    "\\psi_{lm}(r) = \\begin{cases}\n",
    "A_{lm} J_l\\left(u_{lm}\\frac{r}{a}\\right) & r\\leq a\\\\\n",
    "A_{lm} \\frac{J_l\\left(u_{lm}\\right)}{K_l\\left(w_{lm}\\right)} K_l\\left(w_{lm}\\frac{r}{a}\\right) & r\\geq a\n",
    "\\end{cases}\n",
    "$$\n",
    "\n",
    "where \n",
    "$$\n",
    "u_{lm} = a\\sqrt{n_\\mathrm{core}^2k_0^2 - \\beta_{lm}^2}\\\\\n",
    "w_{lm} = a\\sqrt{\\beta_{lm}^2 - n_\\mathrm{clad}^2k_0^2}\n",
    "$$ \n",
    "where $J_l$ is the Bessel function of the _1<sup>st</sup>_ kind, and $K_l$ is the modified Bessel function of the _2<sup>nd</sup>_ kind.\n",
    "\n",
    "For the mode to be propagating, $u_{lm}$ and $w_{lm}$ must be real, thus\n",
    "$$\n",
    "n_\\mathrm{clad} \\leq \\beta_{lm}/k_0 \\leq n_\\mathrm{core}\n",
    "$$ \n",
    "\n",
    "Thus $u_{lm}^\\text{max} = V$.\n",
    "\n",
    "**Note that for $l=0$, there is also a solution for the first root larger than V**\n",
    "\n",
    "The above expressions ensure continuity across the boundary, but it is also necessary to enforce a continuous gradient, yielding the following expression.\n",
    "\n",
    "$$\n",
    "u_{lm} \\frac{\n",
    "    J_{l\\pm 1}\\left(u_{lm}\\right)\n",
    "}{\n",
    "    J_{l}\\left(u_{lm}\\right)\n",
    "} = \\pm w_{lm} \\frac{\n",
    "    K_{l\\pm 1}\\left(w_{lm}\\right)\n",
    "}{\n",
    "    K_{l}\\left(w_{lm}\\right)\n",
    "}\n",
    "$$\n",
    "Note that $u_{lm}$ does not correspond to the zeros of the Bessel function.\n",
    "\n",
    "This transcendental equation is easier to solve with the following expressions for the normalized frequency, $V$, and normalized propagation constants, $b_{lm}$ respectively:\n",
    "$$\n",
    "V = \\sqrt{u_{lm}^2 + w_{lm}^2}\n",
    "= a k_0 \\sqrt{n_\\mathrm{core}^2 - n_\\mathrm{clad}^2}\n",
    "= a k_0 \\mathrm{NA}\n",
    "= a k_0 n_\\mathrm{core} \\sqrt{2\\Delta}\\\\\n",
    "\n",
    "b_{lm} = 1 - \\left(\\frac{u_{lm}}{w_{lm}}\\right)^2\n",
    "= \\left(\\frac{w_{lm}}{V}\\right)^2\n",
    "= \\frac{\\left(\\frac{\\beta_{lm}}{k_0}\\right)^2 - n_\\mathrm{clad}^2}{(n_\\mathrm{core}^2 - n_\\mathrm{clad}^2)}\n",
    "= \\frac{\\bar{n}^2 - n_\\mathrm{clad}^2}{\\mathrm{NA}^2}\n",
    "$$\n",
    "\n",
    "leading to the substitutions \n",
    "$$\n",
    "w_{lm} = V \\sqrt{b_{lm}},\\quad\n",
    "u_{lm} = V \\sqrt{1 - b_{lm}}.\n",
    "$$ \n",
    "Note the subscripts $lm$ are often dropped from the expressions for $u$, $w$, $b$ and $\\beta$, although they are mode dependent; $V$, the normalized frequency, however is mode independent and is a parameter of the fibre itself.\n",
    "\n",
    "The number of modes that a fibre can support can be approximated by the expression\n",
    "$$\n",
    "N_m \\approx \\frac{V^2}{2}.\n",
    "$$\n",
    "\n",
    "The exact number of modes can be found by solving the transcendtal boundary condition equation above, which is detailed in the code below."
   ]
  },
  {
   "cell_type": "code",
   "execution_count": 1,
   "id": "e5e41ab2",
   "metadata": {},
   "outputs": [],
   "source": [
    "import numpy as np\n",
    "from numpy.typing import NDArray\n",
    "from scipy import special, optimize\n",
    "from matplotlib import pyplot as plt\n",
    "\n",
    "# # Smallest difference from 1\n",
    "eps = np.spacing(1)\n",
    "\n",
    "PI = np.pi\n",
    "TAU = 2*PI"
   ]
  },
  {
   "cell_type": "markdown",
   "id": "fc938fa0",
   "metadata": {},
   "source": [
    "## Functions"
   ]
  },
  {
   "cell_type": "code",
   "execution_count": 2,
   "id": "d533fa41",
   "metadata": {},
   "outputs": [],
   "source": [
    "# Refractive index of bulk fused silica (SiO2) - Malitson (1965)\n",
    "def ref_index_fused_silica(l_um: NDArray) -> NDArray:\n",
    "    return np.sqrt(\n",
    "        1\n",
    "        + 0.6961663 / (1 - (0.0684043 / l_um) ** 2)\n",
    "        + 0.4079426 / (1 - (0.1162414 / l_um) ** 2)\n",
    "        + 0.8974794 / (1 - (9.896161 / l_um) ** 2)\n",
    "    )\n",
    "\n",
    "# Calculate the maximum number of modes (propagation constant must be real)\n",
    "#  u_max = V\n",
    "def roots(V: float, l: int = 0, Nm: int = 10):\n",
    "    Nm = max(Nm, 1)\n",
    "    root_lm = special.jn_zeros(l, Nm)\n",
    "    # if l==0 and V<=root_lm[0]:\n",
    "        # return root_lm[:1]\n",
    "    while root_lm[-1] < V:\n",
    "        Nm *= 2\n",
    "        root_lm = special.jn_zeros(l, Nm)\n",
    "    # Number of solutions.\n",
    "    # For l=0, include the first root larger than V\n",
    "    Nm = sum(root_lm < V).item() + (l==0)\n",
    "    return (root_lm[:Nm], Nm)"
   ]
  },
  {
   "cell_type": "markdown",
   "id": "e4ac9e9f",
   "metadata": {},
   "source": [
    "## Define Fibre Parameters"
   ]
  },
  {
   "cell_type": "code",
   "execution_count": 3,
   "id": "ac4fb72b",
   "metadata": {},
   "outputs": [],
   "source": [
    "l0 = 633e-3 # Wavelength [um]\n",
    "k0 = TAU/l0\n",
    "d = 10 # Core diameter [um]\n",
    "a = d/2 # Fibre radius [um]\n",
    "NA = 0.1 # Numerical aperture\n",
    "\n",
    "n_clad = ref_index_fused_silica(l0) # Ref. index of cladding\n",
    "n_core = np.sqrt(NA**2 + n_clad**2) # Ref. index of core\n",
    "\n",
    "# Normalized frequency\n",
    "V = a * k0 * NA"
   ]
  },
  {
   "cell_type": "markdown",
   "id": "a9b48004",
   "metadata": {},
   "source": [
    "## Find number of modes\n",
    "\n",
    "For a given $l$, find number of roots, $J_l(\\rho_{lm})=0$ such that $\\rho_{lm} \\leq V$.\n",
    "\n",
    "For $l=0$, there are 2 modes per root ()\n",
    "For $l\\geq1$, there are 4 modes per root ($\\pm l$ and two polarizations)."
   ]
  },
  {
   "cell_type": "code",
   "execution_count": 4,
   "id": "e9fd8980",
   "metadata": {},
   "outputs": [],
   "source": [
    "u_lm = []\n",
    "N_lm = []\n",
    "l = 0\n",
    "while True:\n",
    "    u, N = roots(V, l)\n",
    "    if N == 0:\n",
    "        break\n",
    "    u_lm.append(u)\n",
    "    N_lm.append(N)\n",
    "    l += 1"
   ]
  },
  {
   "cell_type": "markdown",
   "id": "f8e227f8",
   "metadata": {},
   "source": [
    "### Check Modes\n",
    "\n",
    "Output the zeros of the Bessel functions to make sure we haven't missed any. The first non-guided root for each l, as well as the first non-guided l is displayed to check it is larger than V."
   ]
  },
  {
   "cell_type": "code",
   "execution_count": 5,
   "id": "7ed1a141",
   "metadata": {},
   "outputs": [
    {
     "name": "stdout",
     "output_type": "stream",
     "text": [
      "V = 4.963022\n",
      "l = 0: [2.40482556 5.52007811 8.65372791]\n",
      "l = 1: [3.83170597 7.01558667]\n",
      "l = 2: [5.1356223]\n"
     ]
    }
   ],
   "source": [
    "print(f\"V = {V:.6f}\")\n",
    "Nl = len(N_lm)\n",
    "for l in range(Nl+1):\n",
    "    N = N_lm[l]+1 if l<Nl else 1\n",
    "    print(f\"{l = }:\", special.jn_zeros(l, N))"
   ]
  },
  {
   "cell_type": "markdown",
   "id": "ece268d8",
   "metadata": {},
   "source": [
    "## Display Results"
   ]
  },
  {
   "cell_type": "code",
   "execution_count": 6,
   "id": "50ea0199",
   "metadata": {},
   "outputs": [
    {
     "name": "stdout",
     "output_type": "stream",
     "text": [
      "Valid LP modes:\n",
      "LP_00\n",
      "LP_01\n",
      "LP_10\n",
      "V = 4.963\n",
      "Approximate number of modes (V^2/2): 12.32\n",
      "\n",
      "Total number of modes: 8\n"
     ]
    }
   ],
   "source": [
    "print(\"Valid LP modes:\")\n",
    "_ = [print(f\"LP_{l}{m}\") for l, N_l in enumerate(N_lm) for m in range(N_l)]\n",
    "print(f\"V = {V:.3f}\")\n",
    "print(f\"Approximate number of modes (V^2/2): {V**2/2:.2f}\")\n",
    "\n",
    "# Two polarizations for l=0, four for l>0 \n",
    "print(\"\\nTotal number of modes:\", 2*N_lm[0] + 4*sum(N_lm[1:]))"
   ]
  },
  {
   "cell_type": "markdown",
   "id": "d2448304",
   "metadata": {},
   "source": [
    "## Find Propagation Constants"
   ]
  },
  {
   "cell_type": "code",
   "execution_count": 9,
   "id": "599d2a63",
   "metadata": {},
   "outputs": [],
   "source": [
    "U = lambda V, b: V * np.sqrt(1 - b)\n",
    "W = lambda V, b: V * np.sqrt(b)\n",
    "LHS = lambda U, l: U * special.jn(l + 1, U) / special.jn(l, U)\n",
    "RHS = lambda W, l: W * special.kn(l + 1, W) / special.kn(l, W)\n",
    "\n",
    "# Returns the normalized propagation constants for each mode, b_lm\n",
    "def get_mode_parameters(\n",
    "    V: float, Nm: int, roots_m: NDArray, l: int = 0, eps: float = eps\n",
    "):\n",
    "    if (not roots_m.size) or any(roots_m < 0):\n",
    "        roots_m = special.jn_zeros(l, Nm)\n",
    "    lhs = lambda b: LHS(U(V, b), l)\n",
    "    rhs = lambda b: RHS(W(V, b), l)\n",
    "\n",
    "    # Set up transcendental equation\n",
    "    f = lambda b: lhs(b) - rhs(b)\n",
    "\n",
    "    # Loop over roots of Bessel function to find crossing between zeros\n",
    "    b_lm = []\n",
    "    # b = np.hstack((1, 1 - (u_lm / V) ** 2, 0))\n",
    "    b = np.hstack((1, bU(V, roots_m), 0))\n",
    "    for bp in pairwise(b):\n",
    "        try:\n",
    "            with np.errstate(divide=\"ignore\"):\n",
    "                sol = optimize.root_scalar(f, bracket=[bp[0] - eps, bp[1] + eps])\n",
    "            # sol = optimize.root_scalar(f, x0=np.mean(bp), method=\"newton\")\n",
    "            b_lm.append(sol.root)\n",
    "        except:\n",
    "            ...\n",
    "\n",
    "    return np.array(b_lm)"
   ]
  },
  {
   "cell_type": "code",
   "execution_count": 61,
   "id": "51ff1e51",
   "metadata": {},
   "outputs": [
    {
     "data": {
      "image/png": "[encoded data removed]",
      "text/plain": [
       "<Figure size 1200x400 with 1 Axes>"
      ]
     },
     "metadata": {},
     "output_type": "display_data"
    }
   ],
   "source": [
    "l = 0\n",
    "# V = a * k0 * NA\n",
    "# V = special.jn_zeros(l, 10)[0]\n",
    "V = 0.8\n",
    "fig, ax = plt.subplots(figsize=(12, 4))\n",
    "b = np.linspace(eps, .1, 500)\n",
    "ax.plot(b, LHS(U(V, b), l), label=f\"LHS {l=}\")\n",
    "ax.plot(b, RHS(W(V, b), l), label=f\"RHS {l=}\")\n",
    "ax.plot(b, LHS(U(V, b), 0), \":\", label=\"LHS l=0\")\n",
    "ax.plot(b, RHS(W(V, b), 0), \":\", label=\"RHS l=0\")\n",
    "ax.grid()\n",
    "# ax.set_ylim([-10, 10])\n",
    "ax.legend()\n",
    "plt.show()"
   ]
  }
 ],
 "metadata": {
  "kernelspec": {
   "display_name": ".venv",
   "language": "python",
   "name": "python3"
  },
  "language_info": {
   "codemirror_mode": {
    "name": "ipython",
    "version": 3
   },
   "file_extension": ".py",
   "mimetype": "text/x-python",
   "name": "python",
   "nbconvert_exporter": "python",
   "pygments_lexer": "ipython3",
   "version": "3.13.5"
  }
 },
 "nbformat": 4,
 "nbformat_minor": 5
}
