{
 "cells": [
  {
   "cell_type": "markdown",
   "metadata": {},
   "source": [
    "# High Harmonic Generation Dipole Moment in Hydrogen-like Potential\n",
    "\n",
    "## Theory\n",
    "\n",
    "### Lewenstein Model for HHG\n",
    "\n",
    "According to the Lewenstein model [1], we can calculate the dipole moment as\n",
    "$$\\vec{x}(t_r) \\simeq 2\\mathbb{R}\\left\\{\\int_{t_i}^{t_r} \\mathrm{d}t\\, \n",
    "\\vec{d}^\\ast\\left(\\vec{p}_\\text{st} + \\vec{A}(t_r)\\right)\n",
    "e^{-iS(\\vec{p}_\\text{st}, t_r, t_i)}\n",
    "\\left[\\vec{E}(t_i)\\cdot\\vec{d}\\left(\\vec{p}_{st}+\\vec{A}(t_i)\\right)\\right]\\right\\}.$$\n",
    "\n",
    "The transition dipole matrix elements can be calculated using\n",
    "$$\\vec{d}(\\psi_f, \\psi_i) = \\langle\\psi_f|\\vec{r}|\\psi_i\\rangle.$$\n",
    "\n",
    "Under the strong-field approximation, we replace the final state as that of a plane wave with asymptotic momentum $\\vec{p}$, yielding\n",
    "$$\\begin{matrix}\n",
    "\\vec{d}(\\vec{p}) & \\simeq & \\int \\mathrm{d}\\vec{r}\\, e^{-i\\vec{p}\\cdot\\vec{r}}\\vec{r}\\psi_0(\\vec{r})\\\\\n",
    "& = & i\\nabla\\tilde{\\psi_0}(\\vec{p})\n",
    "\\end{matrix}.$$\n",
    "Thus we can approximate the transition dipole matrix elements using the gradient of the ground-state orbital in momentum space.\n",
    "\n",
    "### Hydrogen-like Orbitals\n",
    "\n",
    "The momentum distribution of a hydrogen-like orbital in spherical co-ordinates is given as [2]\n",
    "$$\n",
    "\\varUpsilon_{nlm}\\left(p, \\theta,\\phi\\right) = \n",
    "\\frac{\\pi 2^{2l+4} l!}{\\left(2\\pi\\gamma\\right)^{3/2}}\n",
    "\\sqrt{\\frac{n(n-l-1)!}{(n+l)!}}\n",
    "\\frac{\\zeta^l}{(\\zeta^2+1)^{l+2}} C_{n-l-1}^{l+1}\\left(\\frac{\\zeta^2-1}{\\zeta^2+1}\\right)Z_l^m(\\theta, \\phi),\n",
    "$$\n",
    "whereby I have used the real forms of the spherical harmonics:\n",
    "\n",
    "$$\n",
    "Z_n^m(\\theta, \\phi) = \n",
    "\\begin{cases}\n",
    "    \\frac{1}{\\sqrt{2}} \\left[Y_n^m(\\theta, \\phi) + \\overline{Y_n^m}(\\theta, \\phi)\\right] & \\text{if } m>0\\\\\n",
    "    Y_n^m(\\theta, \\phi) & \\text{if } m=0\\\\\n",
    "    \\frac{1}{i\\sqrt{2}}\\left[Y_n^m(\\theta, \\phi) - \\overline{Y_n^m}(\\theta, \\phi)\\right] & \\text{if } m<0\n",
    "\\end{cases}\n",
    "$$\n",
    "\n",
    "with $\\overline{Y}$ denoted complex conjugate.\n",
    "\n",
    "For s-orbitals, $l=m=0$ and for p-orbitals, $l=1$ and $m=\\{-1, 0, 1\\}$. For the real orbitals defined above, $m=1$ results in the $np_x$ orbital, $m=-1$ gives the $np_y$ orbital and $m=0$ gives the $np_z$ orbital whereby the subscript is the \"axis of revolution\" of the radial function.\n",
    "\n",
    "### HHG Source\n",
    "\n",
    "The dipole moment can either be found by integrating the temporal integral in the Lewenstein formula, or via stationary phase analysis. In either case, the transition dipole matrix element needs to be evaluated at the time of ionization, $t_i$, and at the time of recombination, $t_r$. For any pair of times, $(t_i, t_r)$, one can evaluate the stationary momentum, $\\vec{p}_\\text{st}$. Thus we need to calculate the following part of the integrand in the Lewenstein model, the orbital-resolved HHG source term,\n",
    "\n",
    "$$\n",
    "\\vec{S} = \\vec{d}_r \\left[\\vec{E}_i \\cdot \\vec{d}_i\\right]\n",
    "$$\n",
    "where $i,r$ represent the value at ionization or recombination respectively.\n",
    "\n",
    "Additionally, if we choose our co-ordinate axes such that $\\hat{z} = \\hat{k}$, i.e. $z$ is aligned with the electric field's wave vector, then the electron's trajectory is isolated to the x-y plane (must start and end at the origin). \n",
    "\n",
    "## Degenerate states\n",
    "\n",
    "In the case of degenerate valance orbitals, one needs to calculate the dipole moment for each orbital individually. Since HHG is dominated by the process in which the electron ionizes and recombines from/to the same orbital, phase of the ground state orbital cancels out and the process is coherent. Therefore the dipole moment from each degenerate orbital are coherent from each other. Since the integral is a linear operator, one can calculate the coherent sum of all HHG source terms before performing the integral. Note that this is not the same as performing a coherent sum over transition dipole matrix elements -- it is the full process of ionization and recombination that is coherent and therefore permits a coherent sum over all pathways.\n",
    "\n",
    "1. M. Lewenstein et al., Theory of high-harmonic generation by low-frequency laser fields. Phys. Rev. A. 49, 2117–2132 (1994).\n",
    "1. B. Podolsky, L. Pauling, The momentum distribution in hydrogen-like atoms. Phys. Rev. 34, 109–116 (1929).\n"
   ]
  },
  {
   "cell_type": "markdown",
   "metadata": {},
   "source": [
    "## Import packages"
   ]
  },
  {
   "cell_type": "code",
   "execution_count": 131,
   "metadata": {},
   "outputs": [],
   "source": [
    "# Import sympy package\n",
    "import sympy as sp\n",
    "\n",
    "# Import math & numpy packages\n",
    "import math as mth\n",
    "import numpy as np\n",
    "\n",
    "# Ensure output displayed as LaTeX\n",
    "sp.init_printing(use_latex=True)"
   ]
  },
  {
   "cell_type": "markdown",
   "metadata": {},
   "source": [
    "## Define symbols\n",
    "* $E_i$ is the electric field at time of ionization.\n",
    "* $\\vec{p}_s = -\\int_{t_i}^{t_r} \\vec{A}(t^\\prime)/(t_r-t_i)\\,\\text{d}t^\\prime$ is the stationary momentum governed by the electric field only (i.e. independent of the atom)\n",
    "* $\\vec{p}_i = \\vec{p}_s + \\vec{A}(t_i)$ is the electron momentum at time of ionization (determined by the electric field & independent of the atom).\n",
    "* $\\vec{p}_r = \\vec{p}_s + A(t_r)$ is the electron momentum at time of recombination (determined by the electric field & independent of the atom).\n",
    "* $\\phi_i$ is the angle made by the electron momemtum upon ionization wrt the quantization axes.\n",
    "* $\\phi_r$ is the angle made by the electron mometum upon recombination wrt the electron momentum upon ionization, i.e. $\\phi_r$.\n",
    "* $\\alpha$ is the angle made by the electric field at ionization wrt the electron momentum upon ionization.\n",
    "* $\\tau = \\omega t_i$ is the phase of the electric field at the time of ionization.\n",
    "* $n,l,m$ are the quantum numbers\n",
    "* $p, \\theta, \\phi$ are spherical coordinates in momentum space:\n",
    " * $p \\geq 0$ is the radial component.\n",
    " * $0 \\leq \\theta \\leq \\pi$ is the polar angle wrt the z-axis.\n",
    " * $0 \\leq \\phi < 2\\pi$ is the azimuthal angle wrt the x-axis pointing in the direction of the y-axis (right-hand rule).\n",
    "* $\\gamma = \\sqrt{2I_p} = \\frac{Z}{n}$ is determined by the ionization potential $I_p$ or defined by the atomic mass divided by the quantum number, $n$.\n",
    "* $\\zeta = p/\\gamma$, where $p$ is the radial component of the momentum $\\vec{p}$."
   ]
  },
  {
   "cell_type": "code",
   "execution_count": 132,
   "metadata": {},
   "outputs": [],
   "source": [
    "# Generic symbols\n",
    "l, m = sp.symbols(\"l m\", real=True)\n",
    "alpha, theta, phi, phi_i, phi_r, alpha, varepsilon = sp.symbols(\n",
    "    \"alpha theta phi phi_i phi_r alpha varepsilon\", real=True\n",
    ")\n",
    "n, gamma, E_i = sp.symbols(\"n gamma E_i\", real=True, positive=True)\n",
    "p, p_i, p_r, p_x, p_y, p_z = sp.symbols(\n",
    "    \"p p_i p_r p_x p_y p_z\", real=True, positive=True\n",
    ")\n",
    "PI = sp.pi\n",
    "zeta = p / gamma\n",
    "\n",
    "# Use real spherical harmonics (or not)\n",
    "REAL = True\n",
    "\n",
    "# Define polarization in x-y plane\n",
    "THETA = PI / 2\n",
    "\n",
    "# Shorthand for trig expressions\n",
    "sin_theta = sp.sin(theta)\n",
    "cos_theta = sp.cos(theta)\n",
    "sin_phi = sp.sin(phi)\n",
    "cos_phi = sp.cos(phi)"
   ]
  },
  {
   "cell_type": "markdown",
   "metadata": {},
   "source": [
    "## Define rotation matrices"
   ]
  },
  {
   "cell_type": "markdown",
   "metadata": {},
   "source": [
    "### Vector rotation matrix spherical --> Cartesian\n",
    "$$\n",
    "\\begin{bmatrix}\n",
    "\\mathbf{\\hat{x}}\\\\ \n",
    "\\mathbf{\\hat{y}}\\\\ \n",
    "\\mathbf{\\hat{z}}\n",
    "\\end{bmatrix}\n",
    " = \\begin{bmatrix}\n",
    "\\sin\\theta\\cos\\phi & \\cos\\theta\\cos\\phi & -\\sin\\phi\\\\\n",
    "\\sin\\theta\\sin\\phi & \\cos\\theta\\sin\\phi & \\cos\\phi\\\\\n",
    "\\cos\\theta & -\\sin\\theta & 0\n",
    "\\end{bmatrix}\n",
    "= \\texttt{R}(\\theta, \\phi)\\begin{bmatrix}\n",
    "\\mathbf{\\hat{p}}\\\\ \n",
    "\\mathbf{\\hat{\\theta}}\\\\ \n",
    "\\mathbf{\\hat{\\phi}}\n",
    "\\end{bmatrix}\n",
    "$$"
   ]
  },
  {
   "cell_type": "code",
   "execution_count": 133,
   "metadata": {},
   "outputs": [],
   "source": [
    "spherical_to_cartesian_matrix = sp.Matrix(\n",
    "    [\n",
    "        [sin_theta * cos_phi, cos_theta * cos_phi, -sin_phi],\n",
    "        [sin_theta * sin_phi, cos_theta * sin_phi, cos_phi],\n",
    "        [cos_theta, -sin_theta, 0],\n",
    "    ]\n",
    ")"
   ]
  },
  {
   "cell_type": "markdown",
   "metadata": {},
   "source": [
    "### Rotation matrices\n",
    "$$\n",
    "\\texttt{R}_x(\\theta) =\n",
    "\\begin{bmatrix}\n",
    "1 & 0 & 0\\\\\n",
    "0 & \\cos\\theta & -\\sin\\theta\\\\\n",
    "0 & \\sin\\theta & \\cos\\theta\n",
    "\\end{bmatrix}\n",
    "\\\\\n",
    "\\texttt{R}_y(\\theta) =\n",
    "\\begin{bmatrix}\n",
    "\\cos\\theta & 0 & \\sin\\theta\\\\\n",
    "0 & 1 & 0\\\\\n",
    "-\\sin\\theta & 0 & \\cos\\theta\\\\\n",
    "\\end{bmatrix}\n",
    "\\\\\n",
    "\\texttt{R}_z(\\phi) =\n",
    "\\begin{bmatrix}\n",
    "\\cos\\phi & -\\sin\\phi & 0\\\\\n",
    "\\sin\\phi & \\cos\\phi & 0\\\\\n",
    "0 & 0 & 1\n",
    "\\end{bmatrix}\\;\n",
    "$$"
   ]
  },
  {
   "cell_type": "code",
   "execution_count": 134,
   "metadata": {},
   "outputs": [
    {
     "data": {
      "text/plain": [
       "'R_x, R_y, R_z = '"
      ]
     },
     "metadata": {},
     "output_type": "display_data"
    },
    {
     "data": {
      "text/latex": [
       "$\\displaystyle \\left[\\begin{matrix}1 & 0 & 0\\\\0 & \\cos{\\left(\\theta \\right)} & - \\sin{\\left(\\theta \\right)}\\\\0 & \\sin{\\left(\\theta \\right)} & \\cos{\\left(\\theta \\right)}\\end{matrix}\\right]$"
      ],
      "text/plain": [
       "⎡1    0        0   ⎤\n",
       "⎢                  ⎥\n",
       "⎢0  cos(θ)  -sin(θ)⎥\n",
       "⎢                  ⎥\n",
       "⎣0  sin(θ)  cos(θ) ⎦"
      ]
     },
     "metadata": {},
     "output_type": "display_data"
    },
    {
     "data": {
      "text/latex": [
       "$\\displaystyle \\left[\\begin{matrix}\\cos{\\left(\\theta \\right)} & 0 & \\sin{\\left(\\theta \\right)}\\\\0 & 1 & 0\\\\- \\sin{\\left(\\theta \\right)} & 0 & \\cos{\\left(\\theta \\right)}\\end{matrix}\\right]$"
      ],
      "text/plain": [
       "⎡cos(θ)   0  sin(θ)⎤\n",
       "⎢                  ⎥\n",
       "⎢   0     1    0   ⎥\n",
       "⎢                  ⎥\n",
       "⎣-sin(θ)  0  cos(θ)⎦"
      ]
     },
     "metadata": {},
     "output_type": "display_data"
    },
    {
     "data": {
      "text/latex": [
       "$\\displaystyle \\left[\\begin{matrix}\\cos{\\left(\\phi \\right)} & - \\sin{\\left(\\phi \\right)} & 0\\\\\\sin{\\left(\\phi \\right)} & \\cos{\\left(\\phi \\right)} & 0\\\\0 & 0 & 1\\end{matrix}\\right]$"
      ],
      "text/plain": [
       "⎡cos(φ)  -sin(φ)  0⎤\n",
       "⎢                  ⎥\n",
       "⎢sin(φ)  cos(φ)   0⎥\n",
       "⎢                  ⎥\n",
       "⎣  0        0     1⎦"
      ]
     },
     "metadata": {},
     "output_type": "display_data"
    }
   ],
   "source": [
    "display(\"R_x, R_y, R_z = \")\n",
    "display(Rx := sp.Matrix([[1, 0, 0], [0, cos_theta, -sin_theta], [0, sin_theta, cos_theta]]))\n",
    "display(Ry := sp.Matrix([[cos_theta, 0, sin_theta], [0, 1, 0], [-sin_theta, 0, cos_theta]]))\n",
    "display(Rz := sp.Matrix([[cos_phi, -sin_phi, 0], [sin_phi, cos_phi, 0], [0, 0, 1]]))"
   ]
  },
  {
   "cell_type": "markdown",
   "metadata": {},
   "source": [
    "### Convert from spherical to Cartesian co-ordinates\n",
    "$$\n",
    "p_x = p \\sin\\theta \\cos\\phi \\\\\n",
    "p_y = p \\sin\\theta \\sin\\phi \\\\\n",
    "p_z = p \\cos\\theta\n",
    "$$"
   ]
  },
  {
   "cell_type": "markdown",
   "metadata": {},
   "source": [
    "### Substitute values for spherical coordinates"
   ]
  },
  {
   "cell_type": "code",
   "execution_count": 135,
   "metadata": {},
   "outputs": [],
   "source": [
    "def vector_subst(expr, P, th, ph):\n",
    "    return sp.trigsimp(expr.subs([(p, P), (theta, th), (phi, ph)]))"
   ]
  },
  {
   "cell_type": "markdown",
   "metadata": {},
   "source": [
    "### Simplification of vector"
   ]
  },
  {
   "cell_type": "code",
   "execution_count": 136,
   "metadata": {},
   "outputs": [],
   "source": [
    "def vector_operation(V, *args):\n",
    "    v_out = []\n",
    "    for v in V:\n",
    "        for op in args:\n",
    "            v = op(v)\n",
    "        v_out.append(v)\n",
    "    return sp.Matrix(v_out)\n",
    "\n",
    "\n",
    "def vector_factor(V):\n",
    "    return vector_operation(V, sp.factor, sp.trigsimp)\n",
    "    # return sp.Matrix([sp.factor(V[i]).trigsimp() for i in range(3)])\n",
    "\n",
    "\n",
    "def vector_collect(V, *args):\n",
    "    return vector_operation(V, lambda x: sp.collect(x, args))\n",
    "\n",
    "\n",
    "def vector_simplify(V):\n",
    "    return vector_operation(\n",
    "        V,\n",
    "        sp.expand_trig,\n",
    "        lambda x: sp.collect(x, (gamma, p_r, p_i)),\n",
    "        sp.trigsimp,\n",
    "        sp.simplify,\n",
    "    )"
   ]
  },
  {
   "cell_type": "markdown",
   "metadata": {},
   "source": [
    "## Define electric \n",
    "Electric field is defined in the x-y plane\n",
    "$$\n",
    "E \n",
    "= \\begin{bmatrix}E_x\\\\E_y\\\\0\\end{bmatrix}\n",
    "= \\frac{E_0}{\\sqrt{1+\\varepsilon^2}} \\begin{bmatrix}\\cos(\\omega t)\\\\\\varepsilon\\sin(\\omega t)\\\\0\\end{bmatrix}\n",
    "= E_0^\\prime \\begin{bmatrix}\\cos(\\tau)\\\\\\varepsilon\\sin(\\tau)\\\\0\\end{bmatrix}\n",
    "$$\n",
    "\n",
    "where $\\tau = \\omega t_i$\n",
    "\n",
    "However, the electric field only enters the Lewenstein model at the time of ionisation. We can then define this field as\n",
    "$$\n",
    "\\vec{E}_i = E_i \n",
    "\\begin{bmatrix}\n",
    "    \\cos(\\alpha + \\phi_i)\\\\\n",
    "    \\sin(\\alpha + \\phi_i)\\\\\n",
    "    0\n",
    "\\end{bmatrix}\n",
    "$$"
   ]
  },
  {
   "cell_type": "code",
   "execution_count": 137,
   "metadata": {},
   "outputs": [
    {
     "data": {
      "text/plain": [
       "'E = '"
      ]
     },
     "metadata": {},
     "output_type": "display_data"
    },
    {
     "data": {
      "text/latex": [
       "$\\displaystyle \\left[\\begin{matrix}E_{i} \\cos{\\left(\\alpha + \\phi_{i} \\right)}\\\\E_{i} \\sin{\\left(\\alpha + \\phi_{i} \\right)}\\\\0\\end{matrix}\\right]$"
      ],
      "text/plain": [
       "⎡Eᵢ⋅cos(α + φᵢ)⎤\n",
       "⎢              ⎥\n",
       "⎢Eᵢ⋅sin(α + φᵢ)⎥\n",
       "⎢              ⎥\n",
       "⎣      0       ⎦"
      ]
     },
     "metadata": {},
     "output_type": "display_data"
    }
   ],
   "source": [
    "display(\"E = \", E := E_i*sp.Matrix([sp.cos(alpha + phi_i), sp.sin(alpha + phi_i), 0]))"
   ]
  },
  {
   "cell_type": "markdown",
   "metadata": {
    "toc-hr-collapsed": false
   },
   "source": [
    "# Hydrogen-like orbitals"
   ]
  },
  {
   "cell_type": "markdown",
   "metadata": {
    "toc-hr-collapsed": false
   },
   "source": [
    "## Definitions"
   ]
  },
  {
   "cell_type": "markdown",
   "metadata": {},
   "source": [
    "### Redefine spherical harmonics\n",
    "Name of function is unintuitive and requires additional angle arguments, so I redefine and simplify the calling convention"
   ]
  },
  {
   "cell_type": "code",
   "execution_count": 138,
   "metadata": {},
   "outputs": [
    {
     "data": {
      "image/png": "[encoded data removed]",
      "text/latex": [
       "$\\displaystyle Z_{l}^{m}\\left(\\theta,\\phi\\right)$"
      ],
      "text/plain": [
       "Znm(l, m, θ, φ)"
      ]
     },
     "execution_count": 138,
     "metadata": {},
     "output_type": "execute_result"
    }
   ],
   "source": [
    "# Redefine real spherical harmonics\n",
    "def Zlm(l, m):\n",
    "    return sp.Znm(l, m, theta, phi)\n",
    "Zlm(l, m)"
   ]
  },
  {
   "cell_type": "code",
   "execution_count": 139,
   "metadata": {},
   "outputs": [
    {
     "data": {
      "image/png": "[encoded data removed]",
      "text/latex": [
       "$\\displaystyle Y_{l}^{m}\\left(\\theta,\\phi\\right)$"
      ],
      "text/plain": [
       "Ynm(l, m, θ, φ)"
      ]
     },
     "execution_count": 139,
     "metadata": {},
     "output_type": "execute_result"
    }
   ],
   "source": [
    "# Redefine complex spherical harmonics\n",
    "def Ylm(l, m):\n",
    "    return sp.Ynm(l, m, theta, phi)\n",
    "Ylm(l,m)"
   ]
  },
  {
   "cell_type": "markdown",
   "metadata": {},
   "source": [
    "### Define hydrogen-like orbitals in momentum space\n",
    "$$\n",
    "\\varUpsilon_{nlm}\\left(p, \\theta,\\phi\\right) = \n",
    "\\frac{\\pi 2^{2l+4} l!}{\\left(2\\pi\\gamma\\right)^{3/2}}\n",
    "\\sqrt{\\frac{n(n-l-1)!}{(n+l)!}}\n",
    "\\frac{\\zeta^l}{(\\zeta^2+1)^{l+2}} C_{n-l-1}^{l+1}\\left(\\frac{\\zeta^2-1}{\\zeta^2+1}\\right)Z_l^m(\\theta, \\phi)\n",
    "$$"
   ]
  },
  {
   "cell_type": "code",
   "execution_count": 140,
   "metadata": {},
   "outputs": [
    {
     "data": {
      "text/plain": [
       "'upsilon(n,l,m) = '"
      ]
     },
     "metadata": {},
     "output_type": "display_data"
    },
    {
     "data": {
      "image/png": "[encoded data removed]",
      "text/latex": [
       "$\\displaystyle \\frac{\\sqrt{2} \\cdot 2^{2 l + 4} \\sqrt{n} \\left(\\frac{p}{\\gamma}\\right)^{l} \\sqrt{\\frac{\\left(- l + n - 1\\right)!}{\\left(l + n\\right)!}} \\left(1 + \\frac{p^{2}}{\\gamma^{2}}\\right)^{- l - 2} Z_{l}^{m}\\left(\\theta,\\phi\\right) l! C_{- l + n - 1}^{\\left(l + 1\\right)}\\left(\\frac{-1 + \\frac{p^{2}}{\\gamma^{2}}}{1 + \\frac{p^{2}}{\\gamma^{2}}}\\right)}{4 \\sqrt{\\pi} \\gamma^{\\frac{3}{2}}}$"
      ],
      "text/plain": [
       "                                                                               ↪\n",
       "                                                                               ↪\n",
       "                                                -l - 2                         ↪\n",
       "                  l     _______________ ⎛     2⎞                               ↪\n",
       "    2⋅l + 4    ⎛p⎞     ╱ (-l + n - 1)!  ⎜    p ⎟                               ↪\n",
       "√2⋅2       ⋅√n⋅⎜─⎟ ⋅  ╱  ───────────── ⋅⎜1 + ──⎟      ⋅Znm(l, m, θ, φ)⋅l!⋅gege ↪\n",
       "               ⎝γ⎠  ╲╱     (l + n)!     ⎜     2⎟                               ↪\n",
       "                                        ⎝    γ ⎠                               ↪\n",
       "                                                                               ↪\n",
       "                                                                               ↪\n",
       "                                                                               ↪\n",
       "────────────────────────────────────────────────────────────────────────────── ↪\n",
       "                                                         3/2                   ↪\n",
       "                                                   4⋅√π⋅γ                      ↪\n",
       "\n",
       "↪       ⎛                         2⎞\n",
       "↪       ⎜                        p ⎟\n",
       "↪       ⎜                   -1 + ──⎟\n",
       "↪       ⎜                         2⎟\n",
       "↪       ⎜                        γ ⎟\n",
       "↪ nbauer⎜-l + n - 1, l + 1, ───────⎟\n",
       "↪       ⎜                        2 ⎟\n",
       "↪       ⎜                       p  ⎟\n",
       "↪       ⎜                   1 + ── ⎟\n",
       "↪       ⎜                        2 ⎟\n",
       "↪       ⎝                       γ  ⎠\n",
       "↪ ──────────────────────────────────\n",
       "↪                                   \n",
       "↪                                   "
      ]
     },
     "metadata": {},
     "output_type": "display_data"
    }
   ],
   "source": [
    "def wavefunction(n, l, m):\n",
    "    zeta2 = zeta**2\n",
    "    A = PI * 2**(2*l+4) * sp.factorial(l) / (2*PI*gamma)**sp.Rational(3,2)\n",
    "    B = sp.sqrt(n*sp.factorial(n-l-1)/sp.factorial(n+l))\n",
    "    C = (zeta**l/(zeta2+1)**(l+2)) * sp.gegenbauer(n-l-1, l+1, (zeta2-1)/(zeta2+1))\n",
    "    if REAL:\n",
    "        U = Zlm(l, m)\n",
    "    else:\n",
    "        U = Ylm(l, m)       \n",
    "    return U * A * B * C\n",
    "\n",
    "display(\"upsilon(n,l,m) = \", wavefunction(n, l, m))"
   ]
  },
  {
   "cell_type": "markdown",
   "metadata": {},
   "source": [
    "### Define dipole transition matrix element\n",
    "Vector is in spherical coordinates with $\\hat{p}=\\frac{\\vec{p}}{\\left| \\vec{p} \\right|}$ in the direction of the momentum.\n",
    "$$\n",
    "\\vec{d}_p(\\vec{p}) = \n",
    "i\\begin{bmatrix}\n",
    "\\partial_p \\varUpsilon(p, \\theta, \\phi)\\\\\n",
    "(1/p)\\partial_\\theta \\varUpsilon(p, \\theta, \\phi)\\\\\n",
    "(1/p\\sin\\theta)\\partial_\\phi \\varUpsilon(p, \\theta, \\phi)\\\\\n",
    "\\end{bmatrix}\n",
    "$$"
   ]
  },
  {
   "cell_type": "code",
   "execution_count": 141,
   "metadata": {},
   "outputs": [],
   "source": [
    "def transition_dipole_spherical(upsilon):\n",
    "    dp = sp.simplify(sp.diff(upsilon, p))\n",
    "    dtheta = sp.simplify(sp.diff(upsilon, theta)/p)\n",
    "    dphi = sp.simplify(sp.diff(upsilon, phi)/(p*sp.sin(theta)))\n",
    "    expr = sp.Matrix([e.factor().collect(p) for e in [dp, dtheta, dphi]])\n",
    "    return sp.I*expr"
   ]
  },
  {
   "cell_type": "code",
   "execution_count": 142,
   "metadata": {},
   "outputs": [],
   "source": [
    "# Set theta = pi/2 for polarization in x-y plane\n",
    "# Substitute p_x = p*cos(phi), p_y = p*sin(phi)\n",
    "# Return Cartesian components as a function of p, p_x, p_y, gamma\n",
    "def spherical_to_cartesian(spherical_vector):\n",
    "    expr = (spherical_to_cartesian_matrix*spherical_vector).subs(theta, THETA)\n",
    "    expr = expr.subs([(cos_phi, p_x/p), (sin_phi, p_y/p)])\n",
    "    expr = sp.Matrix([expr[n].factor().collect((p_x, p_y, p, gamma)) for n in range(3)])\n",
    "    return expr"
   ]
  },
  {
   "cell_type": "markdown",
   "metadata": {},
   "source": [
    "### Define dipole moment\n",
    "Vector is in spherical coordinates with $\\hat{p} = \\vec{p}_r/\\left|\\vec{p}_r\\right|$ in the direction of the momentum at time of recombination, since $\\vec{E}.{d}$ is a scalar,\n",
    "$$\n",
    "\\vec{x} \\propto \n",
    "i\\int_{-\\infty}^{t_r} \\vec{d}_p^\\ast(\\vec{p}_r) e^{-iS}\\left[\\vec{E}_i\\cdot\\vec{d}_p(\\vec{p}_i)\\right] \\, \\text{d}t_i + \\text{c.c.}\n",
    "$$\n",
    "\n",
    "<!--\n",
    "$$\\vec{\\widetilde{d}_p}(x, y, z) = \\texttt{R}_z\\left(-\\phi_i-\\phi_r\\right)\\texttt{R} \\left(\\pi/2, \\phi_i+\\phi_r\\right) \\vec{d}_p\\left(p, \\pi/2, \\phi_i+\\phi_r\\right)$$\n",
    "-->\n",
    "\n",
    "The dipole moment is defined relative to the momentum vector at time of recombination, not to the quantization axes which are arbitrary. We however want to find the dipole moment wrt our lab-frame co-ordinate system, which is defined by the electric field:\n",
    "1. Define dipole moment in vector spherical coordinates\n",
    "1. Rotate ionisation transition dipole matrix to Cartesian coordinates\n",
    "   * $p_\\text{st}$ has radial magnitude $p_i$ at angle $\\phi_i$ wrt $\\hat{x}$.\n",
    "1. Dot with electric field at $\\tau$ in Cartesian co-ordinates (scalar)\n",
    "1. Define recombination transition dipole matrix\n",
    "   * $p_\\text{st}$ has radial magnitude $p_r$ at angle $\\phi_i + \\phi_r$ wrt $\\hat{x}$.\n",
    "1. Multiply together to yield net dipole moment in spherical co-ordinates\n",
    "\n",
    "\n",
    "As the ellipticity changes, so will the values of $\\alpha$ and $\\phi_r$, as well as $E_i$, $p_i$ and $p_r$."
   ]
  },
  {
   "cell_type": "code",
   "execution_count": 143,
   "metadata": {},
   "outputs": [],
   "source": [
    "def hhg_source_spherical(upsilon, E):\n",
    "    # Dipole transition matrix element in vector spherical coordinates\n",
    "    d = transition_dipole_spherical(upsilon)\n",
    "    \n",
    "    # Ionisation dipole transition matrix element in Cartesian coordinates\n",
    "    di = vector_subst(spherical_to_cartesian_matrix * d, p_i, THETA, phi_i)\n",
    "    \n",
    "    # Net ionisation rate\n",
    "    dI = E.T*di\n",
    "    \n",
    "    # Recombination dipole transition matrix element in spherical coordinates\n",
    "    drs = vector_subst(d, p_r, THETA, phi_i+phi_r).conjugate()\n",
    "\n",
    "    # display(d, di, dI, drs)\n",
    "    \n",
    "    # Return dipole moment\n",
    "    return vector_factor(drs*dI)"
   ]
  },
  {
   "cell_type": "markdown",
   "metadata": {},
   "source": [
    "Convert dipole to Cartesian co-ordinates (using $\\hat{p} = \\vec{p}_r/\\left|\\vec{p}_r\\right|$)"
   ]
  },
  {
   "cell_type": "code",
   "execution_count": 144,
   "metadata": {},
   "outputs": [],
   "source": [
    "def hhg_source_cartesian(spherical_dipole_moment):\n",
    "    return vector_simplify(vector_subst(\n",
    "        spherical_to_cartesian_matrix * spherical_dipole_moment,\n",
    "        p_r,\n",
    "        THETA,\n",
    "        phi_i + phi_r,\n",
    "    ))"
   ]
  },
  {
   "cell_type": "markdown",
   "metadata": {
    "toc-hr-collapsed": false
   },
   "source": [
    "## Transition dipole matrix elements for hydrogen-like orbitals"
   ]
  },
  {
   "cell_type": "markdown",
   "metadata": {
    "toc-hr-collapsed": false
   },
   "source": [
    "### Hydrogen-like 1s (hydrogen)"
   ]
  },
  {
   "cell_type": "code",
   "execution_count": 145,
   "metadata": {},
   "outputs": [
    {
     "data": {
      "text/plain": [
       "'U1s = '"
      ]
     },
     "metadata": {},
     "output_type": "display_data"
    },
    {
     "data": {
      "image/png": "[encoded data removed]",
      "text/latex": [
       "$\\displaystyle \\frac{2 \\sqrt{2} \\gamma^{\\frac{5}{2}}}{\\pi \\left(\\gamma^{2} + p^{2}\\right)^{2}}$"
      ],
      "text/plain": [
       "       5/2  \n",
       " 2⋅√2⋅γ     \n",
       "────────────\n",
       "           2\n",
       "  ⎛ 2    2⎞ \n",
       "π⋅⎝γ  + p ⎠ "
      ]
     },
     "metadata": {},
     "output_type": "display_data"
    }
   ],
   "source": [
    "# Momentum distribution\n",
    "display(\"U1s = \", U1s := sp.expand_func(wavefunction(1,0,0)).simplify())"
   ]
  },
  {
   "cell_type": "code",
   "execution_count": 146,
   "metadata": {},
   "outputs": [
    {
     "data": {
      "text/latex": [
       "$\\displaystyle \\left[\\begin{matrix}- \\frac{8 \\sqrt{2} i \\gamma^{\\frac{5}{2}} p}{\\pi \\left(\\gamma^{2} + p^{2}\\right)^{3}}\\\\0\\\\0\\end{matrix}\\right]$"
      ],
      "text/plain": [
       "⎡         5/2   ⎤\n",
       "⎢-8⋅√2⋅ⅈ⋅γ   ⋅p ⎥\n",
       "⎢───────────────⎥\n",
       "⎢            3  ⎥\n",
       "⎢   ⎛ 2    2⎞   ⎥\n",
       "⎢ π⋅⎝γ  + p ⎠   ⎥\n",
       "⎢               ⎥\n",
       "⎢       0       ⎥\n",
       "⎢               ⎥\n",
       "⎣       0       ⎦"
      ]
     },
     "execution_count": 146,
     "metadata": {},
     "output_type": "execute_result"
    }
   ],
   "source": [
    "# Transition dipole matrix elements (spherical coordinates)\n",
    "transition_dipole_spherical(U1s)"
   ]
  },
  {
   "cell_type": "code",
   "execution_count": 147,
   "metadata": {},
   "outputs": [
    {
     "data": {
      "text/latex": [
       "$\\displaystyle \\left[\\begin{matrix}- \\frac{8 \\sqrt{2} i \\gamma^{\\frac{5}{2}} p_{x}}{\\pi \\left(\\gamma^{2} + p^{2}\\right)^{3}}\\\\- \\frac{8 \\sqrt{2} i \\gamma^{\\frac{5}{2}} p_{y}}{\\pi \\left(\\gamma^{2} + p^{2}\\right)^{3}}\\\\0\\end{matrix}\\right]$"
      ],
      "text/plain": [
       "⎡         5/2     ⎤\n",
       "⎢-8⋅√2⋅ⅈ⋅γ   ⋅pₓ  ⎥\n",
       "⎢──────────────── ⎥\n",
       "⎢             3   ⎥\n",
       "⎢    ⎛ 2    2⎞    ⎥\n",
       "⎢  π⋅⎝γ  + p ⎠    ⎥\n",
       "⎢                 ⎥\n",
       "⎢         5/2     ⎥\n",
       "⎢-8⋅√2⋅ⅈ⋅γ   ⋅p_y ⎥\n",
       "⎢─────────────────⎥\n",
       "⎢             3   ⎥\n",
       "⎢    ⎛ 2    2⎞    ⎥\n",
       "⎢  π⋅⎝γ  + p ⎠    ⎥\n",
       "⎢                 ⎥\n",
       "⎣        0        ⎦"
      ]
     },
     "execution_count": 147,
     "metadata": {},
     "output_type": "execute_result"
    }
   ],
   "source": [
    "# Transition dipole matrix elements (Cartesian co-ordinates)\n",
    "spherical_to_cartesian(_)"
   ]
  },
  {
   "cell_type": "markdown",
   "metadata": {},
   "source": [
    "### Hydrogen-like 2p (neon)"
   ]
  },
  {
   "cell_type": "code",
   "execution_count": 148,
   "metadata": {},
   "outputs": [
    {
     "data": {
      "text/plain": [
       "'U2p_x, U2p_y, U2p_z = '"
      ]
     },
     "metadata": {},
     "output_type": "display_data"
    },
    {
     "data": {
      "image/png": "[encoded data removed]",
      "text/latex": [
       "$\\displaystyle - \\frac{8 \\sqrt{2} \\gamma^{\\frac{7}{2}} p \\sin{\\left(\\theta \\right)} \\cos{\\left(\\phi \\right)}}{\\pi \\left(\\gamma^{2} + p^{2}\\right)^{3}}$"
      ],
      "text/plain": [
       "       7/2                 \n",
       "-8⋅√2⋅γ   ⋅p⋅sin(θ)⋅cos(φ) \n",
       "───────────────────────────\n",
       "                  3        \n",
       "         ⎛ 2    2⎞         \n",
       "       π⋅⎝γ  + p ⎠         "
      ]
     },
     "metadata": {},
     "output_type": "display_data"
    },
    {
     "data": {
      "image/png": "[encoded data removed]",
      "text/latex": [
       "$\\displaystyle - \\frac{8 \\sqrt{2} \\gamma^{\\frac{7}{2}} p \\sin{\\left(\\phi \\right)} \\sin{\\left(\\theta \\right)}}{\\pi \\left(\\gamma^{2} + p^{2}\\right)^{3}}$"
      ],
      "text/plain": [
       "       7/2                 \n",
       "-8⋅√2⋅γ   ⋅p⋅sin(φ)⋅sin(θ) \n",
       "───────────────────────────\n",
       "                  3        \n",
       "         ⎛ 2    2⎞         \n",
       "       π⋅⎝γ  + p ⎠         "
      ]
     },
     "metadata": {},
     "output_type": "display_data"
    },
    {
     "data": {
      "image/png": "[encoded data removed]",
      "text/latex": [
       "$\\displaystyle \\frac{8 \\sqrt{2} \\gamma^{\\frac{7}{2}} p \\cos{\\left(\\theta \\right)}}{\\pi \\left(\\gamma^{2} + p^{2}\\right)^{3}}$"
      ],
      "text/plain": [
       "      7/2         \n",
       "8⋅√2⋅γ   ⋅p⋅cos(θ)\n",
       "──────────────────\n",
       "              3   \n",
       "     ⎛ 2    2⎞    \n",
       "   π⋅⎝γ  + p ⎠    "
      ]
     },
     "metadata": {},
     "output_type": "display_data"
    }
   ],
   "source": [
    "# Momentum distribution\n",
    "display(\n",
    "    \"U2p_x, U2p_y, U2p_z = \",\n",
    "    U2px := sp.expand_func(wavefunction(2, 1, 1)).simplify(),\n",
    "    U2py := sp.expand_func(wavefunction(2, 1, -1)).simplify(),\n",
    "    U2pz := sp.expand_func(wavefunction(2, 1, 0)).simplify(),\n",
    ")"
   ]
  },
  {
   "cell_type": "code",
   "execution_count": 166,
   "metadata": {},
   "outputs": [
    {
     "data": {
      "text/plain": [
       "'Spherical transition dipole matrix elements: [d(2p_x), d(2p_y), d(2p_z)] = '"
      ]
     },
     "metadata": {},
     "output_type": "display_data"
    },
    {
     "data": {
      "text/latex": [
       "$\\displaystyle \\left[ \\left[\\begin{matrix}\\frac{8 \\sqrt{2} i \\gamma^{\\frac{7}{2}} \\left(- \\gamma^{2} + 5 p^{2}\\right) \\cos{\\left(\\phi \\right)}}{\\pi \\left(\\gamma^{2} + p^{2}\\right)^{4}}\\\\0\\\\\\frac{8 \\sqrt{2} i \\gamma^{\\frac{7}{2}} \\sin{\\left(\\phi \\right)}}{\\pi \\left(\\gamma^{2} + p^{2}\\right)^{3}}\\end{matrix}\\right], \\  \\left[\\begin{matrix}\\frac{8 \\sqrt{2} i \\gamma^{\\frac{7}{2}} \\left(- \\gamma^{2} + 5 p^{2}\\right) \\sin{\\left(\\phi \\right)}}{\\pi \\left(\\gamma^{2} + p^{2}\\right)^{4}}\\\\0\\\\- \\frac{8 \\sqrt{2} i \\gamma^{\\frac{7}{2}} \\cos{\\left(\\phi \\right)}}{\\pi \\left(\\gamma^{2} + p^{2}\\right)^{3}}\\end{matrix}\\right], \\  \\left[\\begin{matrix}0\\\\- \\frac{8 \\sqrt{2} i \\gamma^{\\frac{7}{2}}}{\\pi \\left(\\gamma^{2} + p^{2}\\right)^{3}}\\\\0\\end{matrix}\\right]\\right]$"
      ],
      "text/plain": [
       "⎡⎡        7/2 ⎛   2      2⎞       ⎤  ⎡        7/2 ⎛   2      2⎞       ⎤        ↪\n",
       "⎢⎢8⋅√2⋅ⅈ⋅γ   ⋅⎝- γ  + 5⋅p ⎠⋅cos(φ)⎥  ⎢8⋅√2⋅ⅈ⋅γ   ⋅⎝- γ  + 5⋅p ⎠⋅sin(φ)⎥        ↪\n",
       "⎢⎢────────────────────────────────⎥  ⎢────────────────────────────────⎥  ⎡     ↪\n",
       "⎢⎢                     4          ⎥  ⎢                     4          ⎥  ⎢     ↪\n",
       "⎢⎢            ⎛ 2    2⎞           ⎥  ⎢            ⎛ 2    2⎞           ⎥  ⎢     ↪\n",
       "⎢⎢          π⋅⎝γ  + p ⎠           ⎥  ⎢          π⋅⎝γ  + p ⎠           ⎥  ⎢-8⋅√ ↪\n",
       "⎢⎢                                ⎥  ⎢                                ⎥  ⎢──── ↪\n",
       "⎢⎢               0                ⎥, ⎢               0                ⎥, ⎢     ↪\n",
       "⎢⎢                                ⎥  ⎢                                ⎥  ⎢  ⎛  ↪\n",
       "⎢⎢               7/2              ⎥  ⎢               7/2              ⎥  ⎢π⋅⎝γ ↪\n",
       "⎢⎢       8⋅√2⋅ⅈ⋅γ   ⋅sin(φ)       ⎥  ⎢      -8⋅√2⋅ⅈ⋅γ   ⋅cos(φ)       ⎥  ⎢     ↪\n",
       "⎢⎢       ──────────────────       ⎥  ⎢      ────────────────────      ⎥  ⎣     ↪\n",
       "⎢⎢                     3          ⎥  ⎢                     3          ⎥        ↪\n",
       "⎢⎢            ⎛ 2    2⎞           ⎥  ⎢            ⎛ 2    2⎞           ⎥        ↪\n",
       "⎣⎣          π⋅⎝γ  + p ⎠           ⎦  ⎣          π⋅⎝γ  + p ⎠           ⎦        ↪\n",
       "\n",
       "↪           ⎤\n",
       "↪           ⎥\n",
       "↪   0      ⎤⎥\n",
       "↪          ⎥⎥\n",
       "↪      7/2 ⎥⎥\n",
       "↪ 2⋅ⅈ⋅γ    ⎥⎥\n",
       "↪ ─────────⎥⎥\n",
       "↪        3 ⎥⎥\n",
       "↪ 2    2⎞  ⎥⎥\n",
       "↪   + p ⎠  ⎥⎥\n",
       "↪          ⎥⎥\n",
       "↪   0      ⎦⎥\n",
       "↪           ⎥\n",
       "↪           ⎥\n",
       "↪           ⎦"
      ]
     },
     "execution_count": 166,
     "metadata": {},
     "output_type": "execute_result"
    }
   ],
   "source": [
    "# Dipole matrix transition elements (spherical coordinates)\n",
    "display(\"Spherical transition dipole matrix elements: [d(2p_x), d(2p_y), d(2p_z)] = \")\n",
    "[(transition_dipole_spherical(u)).subs(theta, THETA) for u in [U2px, U2py, U2pz]]"
   ]
  },
  {
   "cell_type": "code",
   "execution_count": 170,
   "metadata": {},
   "outputs": [
    {
     "data": {
      "text/plain": [
       "'Cartesian transition dipole matrix elements: [d(2p_x), d(2p_y), d(2p_z)] = '"
      ]
     },
     "metadata": {},
     "output_type": "display_data"
    },
    {
     "data": {
      "text/latex": [
       "$\\displaystyle \\left[ \\left[\\begin{matrix}- \\frac{8 \\sqrt{2} i \\gamma^{\\frac{7}{2}} \\left(\\gamma^{2} + p^{2} - 6 p_{x}^{2}\\right)}{\\pi \\left(\\gamma^{2} + p^{2}\\right)^{4}}\\\\\\frac{48 \\sqrt{2} i \\gamma^{\\frac{7}{2}} p_{x} p_{y}}{\\pi \\left(\\gamma^{2} + p^{2}\\right)^{4}}\\\\0\\end{matrix}\\right], \\  \\left[\\begin{matrix}\\frac{48 \\sqrt{2} i \\gamma^{\\frac{7}{2}} p_{x} p_{y}}{\\pi \\left(\\gamma^{2} + p^{2}\\right)^{4}}\\\\- \\frac{8 \\sqrt{2} i \\gamma^{\\frac{7}{2}} \\left(\\gamma^{2} + p^{2} - 6 p_{y}^{2}\\right)}{\\pi \\left(\\gamma^{2} + p^{2}\\right)^{4}}\\\\0\\end{matrix}\\right], \\  \\left[\\begin{matrix}0\\\\0\\\\\\frac{8 \\sqrt{2} i \\gamma^{\\frac{7}{2}}}{\\pi \\left(\\gamma^{2} + p^{2}\\right)^{3}}\\end{matrix}\\right]\\right]$"
      ],
      "text/plain": [
       "⎡⎡         7/2 ⎛ 2    2       2⎞ ⎤  ⎡               7/2              ⎤         ↪\n",
       "⎢⎢-8⋅√2⋅ⅈ⋅γ   ⋅⎝γ  + p  - 6⋅pₓ ⎠ ⎥  ⎢      48⋅√2⋅ⅈ⋅γ   ⋅pₓ⋅p_y       ⎥         ↪\n",
       "⎢⎢───────────────────────────────⎥  ⎢      ───────────────────       ⎥  ⎡      ↪\n",
       "⎢⎢                    4          ⎥  ⎢                    4           ⎥  ⎢      ↪\n",
       "⎢⎢           ⎛ 2    2⎞           ⎥  ⎢           ⎛ 2    2⎞            ⎥  ⎢      ↪\n",
       "⎢⎢         π⋅⎝γ  + p ⎠           ⎥  ⎢         π⋅⎝γ  + p ⎠            ⎥  ⎢      ↪\n",
       "⎢⎢                               ⎥  ⎢                                ⎥  ⎢      ↪\n",
       "⎢⎢               7/2             ⎥, ⎢         7/2 ⎛ 2    2        2⎞ ⎥, ⎢8⋅√2⋅ ↪\n",
       "⎢⎢      48⋅√2⋅ⅈ⋅γ   ⋅pₓ⋅p_y      ⎥  ⎢-8⋅√2⋅ⅈ⋅γ   ⋅⎝γ  + p  - 6⋅p_y ⎠ ⎥  ⎢───── ↪\n",
       "⎢⎢      ───────────────────      ⎥  ⎢────────────────────────────────⎥  ⎢      ↪\n",
       "⎢⎢                    4          ⎥  ⎢                     4          ⎥  ⎢  ⎛ 2 ↪\n",
       "⎢⎢           ⎛ 2    2⎞           ⎥  ⎢            ⎛ 2    2⎞           ⎥  ⎣π⋅⎝γ  ↪\n",
       "⎢⎢         π⋅⎝γ  + p ⎠           ⎥  ⎢          π⋅⎝γ  + p ⎠           ⎥         ↪\n",
       "⎢⎢                               ⎥  ⎢                                ⎥         ↪\n",
       "⎣⎣               0               ⎦  ⎣               0                ⎦         ↪\n",
       "\n",
       "↪         ⎤\n",
       "↪         ⎥\n",
       "↪ 0      ⎤⎥\n",
       "↪        ⎥⎥\n",
       "↪ 0      ⎥⎥\n",
       "↪        ⎥⎥\n",
       "↪    7/2 ⎥⎥\n",
       "↪ ⅈ⋅γ    ⎥⎥\n",
       "↪ ───────⎥⎥\n",
       "↪       3⎥⎥\n",
       "↪     2⎞ ⎥⎥\n",
       "↪  + p ⎠ ⎦⎥\n",
       "↪         ⎥\n",
       "↪         ⎥\n",
       "↪         ⎦"
      ]
     },
     "metadata": {},
     "output_type": "display_data"
    }
   ],
   "source": [
    "# Dipole matrix transition elements (Cartesian co-ordinates)\n",
    "display(\n",
    "    \"Cartesian transition dipole matrix elements: [d(2p_x), d(2p_y), d(2p_z)] = \",\n",
    "    [\n",
    "        sp.Matrix(\n",
    "            [\n",
    "                v.subs(\n",
    "                    [\n",
    "                        (\n",
    "                            (p_y**2, p**2 - p_x**2)\n",
    "                            if n == 0 and m == 0\n",
    "                            else (\n",
    "                                (p_x**2, p**2 - p_y**2) if n == 1 and m == 1 else (0, 0)\n",
    "                            )\n",
    "                        )\n",
    "                    ]\n",
    "                )\n",
    "                .expand()\n",
    "                .factor()\n",
    "                for n, v in enumerate(spherical_to_cartesian(d))\n",
    "            ]\n",
    "        )\n",
    "        for m, d in enumerate(_)\n",
    "    ],\n",
    ")"
   ]
  },
  {
   "cell_type": "code",
   "execution_count": null,
   "metadata": {},
   "outputs": [],
   "source": []
  },
  {
   "cell_type": "code",
   "execution_count": 32,
   "metadata": {},
   "outputs": [
    {
     "data": {
      "image/png": "[encoded data removed]",
      "text/latex": [
       "$\\displaystyle \\left[ - \\frac{8 \\sqrt{2} \\gamma^{\\frac{7}{2}} p \\sin{\\left(\\theta \\right)} \\cos{\\left(\\phi \\right)}}{\\pi \\left(\\gamma^{2} + p^{2}\\right)^{3}}, \\  - \\frac{8 \\sqrt{2} \\gamma^{\\frac{7}{2}} p \\sin{\\left(\\phi \\right)} \\sin{\\left(\\theta \\right)}}{\\pi \\left(\\gamma^{2} + p^{2}\\right)^{3}}, \\  \\frac{8 \\sqrt{2} \\gamma^{\\frac{7}{2}} p \\cos{\\left(\\theta \\right)}}{\\pi \\left(\\gamma^{2} + p^{2}\\right)^{3}}\\right]$"
      ],
      "text/plain": [
       "⎡       7/2                          7/2                         7/2         ⎤\n",
       "⎢-8⋅√2⋅γ   ⋅p⋅sin(θ)⋅cos(φ)   -8⋅√2⋅γ   ⋅p⋅sin(φ)⋅sin(θ)   8⋅√2⋅γ   ⋅p⋅cos(θ)⎥\n",
       "⎢───────────────────────────, ───────────────────────────, ──────────────────⎥\n",
       "⎢                  3                            3                        3   ⎥\n",
       "⎢         ⎛ 2    2⎞                    ⎛ 2    2⎞                ⎛ 2    2⎞    ⎥\n",
       "⎣       π⋅⎝γ  + p ⎠                  π⋅⎝γ  + p ⎠              π⋅⎝γ  + p ⎠    ⎦"
      ]
     },
     "execution_count": 32,
     "metadata": {},
     "output_type": "execute_result"
    }
   ],
   "source": [
    "[U2px, U2py, U2pz]"
   ]
  },
  {
   "cell_type": "code",
   "execution_count": 41,
   "metadata": {},
   "outputs": [
    {
     "data": {
      "text/latex": [
       "$\\displaystyle \\left[\\begin{matrix}\\frac{8 \\sqrt{2} i \\gamma^{\\frac{7}{2}} \\left(- \\gamma^{2} - 6 p^{2} \\sin^{2}{\\left(\\phi \\right)} \\sin^{2}{\\left(\\theta \\right)} + 6 p^{2} \\sin^{2}{\\left(\\theta \\right)} - p^{2}\\right)}{\\pi \\left(\\gamma^{2} + p^{2}\\right)^{4}}\\\\\\frac{48 \\sqrt{2} i \\gamma^{\\frac{7}{2}} p^{2} \\sin{\\left(\\phi \\right)} \\sin^{2}{\\left(\\theta \\right)} \\cos{\\left(\\phi \\right)}}{\\pi \\left(\\gamma^{2} + p^{2}\\right)^{4}}\\\\\\frac{12 \\sqrt{2} i \\gamma^{\\frac{7}{2}} p^{2} \\left(- \\sin{\\left(\\phi - 2 \\theta \\right)} + \\sin{\\left(\\phi + 2 \\theta \\right)}\\right)}{\\pi \\left(\\gamma^{2} + p^{2}\\right)^{4}}\\end{matrix}\\right]$"
      ],
      "text/plain": [
       "⎡        7/2 ⎛   2      2    2       2         2    2       2⎞⎤\n",
       "⎢8⋅√2⋅ⅈ⋅γ   ⋅⎝- γ  - 6⋅p ⋅sin (φ)⋅sin (θ) + 6⋅p ⋅sin (θ) - p ⎠⎥\n",
       "⎢─────────────────────────────────────────────────────────────⎥\n",
       "⎢                                   4                         ⎥\n",
       "⎢                          ⎛ 2    2⎞                          ⎥\n",
       "⎢                        π⋅⎝γ  + p ⎠                          ⎥\n",
       "⎢                                                             ⎥\n",
       "⎢                     7/2  2           2                      ⎥\n",
       "⎢            48⋅√2⋅ⅈ⋅γ   ⋅p ⋅sin(φ)⋅sin (θ)⋅cos(φ)            ⎥\n",
       "⎢            ─────────────────────────────────────            ⎥\n",
       "⎢                                   4                         ⎥\n",
       "⎢                          ⎛ 2    2⎞                          ⎥\n",
       "⎢                        π⋅⎝γ  + p ⎠                          ⎥\n",
       "⎢                                                             ⎥\n",
       "⎢                7/2  2                                       ⎥\n",
       "⎢       12⋅√2⋅ⅈ⋅γ   ⋅p ⋅(-sin(φ - 2⋅θ) + sin(φ + 2⋅θ))        ⎥\n",
       "⎢       ──────────────────────────────────────────────        ⎥\n",
       "⎢                                   4                         ⎥\n",
       "⎢                          ⎛ 2    2⎞                          ⎥\n",
       "⎣                        π⋅⎝γ  + p ⎠                          ⎦"
      ]
     },
     "execution_count": 41,
     "metadata": {},
     "output_type": "execute_result"
    }
   ],
   "source": [
    "vector_operation(spherical_to_cartesian_matrix * transition_dipole_spherical(U2px), sp.expand_trig, sp.trigsimp)"
   ]
  },
  {
   "cell_type": "code",
   "execution_count": 24,
   "metadata": {},
   "outputs": [
    {
     "data": {
      "text/latex": [
       "$\\displaystyle \\left[ \\left[\\begin{matrix}\\frac{8 \\sqrt{2} i \\gamma^{\\frac{7}{2}} \\left(- \\gamma^{2} + 5 p^{2}\\right) \\sin{\\left(\\theta \\right)} \\cos{\\left(\\phi \\right)}}{\\pi \\left(\\gamma^{2} + p^{2}\\right)^{4}}\\\\- \\frac{8 \\sqrt{2} i \\gamma^{\\frac{7}{2}} \\cos{\\left(\\phi \\right)} \\cos{\\left(\\theta \\right)}}{\\pi \\left(\\gamma^{2} + p^{2}\\right)^{3}}\\\\\\frac{8 \\sqrt{2} i \\gamma^{\\frac{7}{2}} \\sin{\\left(\\phi \\right)}}{\\pi \\left(\\gamma^{2} + p^{2}\\right)^{3}}\\end{matrix}\\right], \\  \\left[\\begin{matrix}\\frac{8 \\sqrt{2} i \\gamma^{\\frac{7}{2}} \\left(- \\gamma^{2} + 5 p^{2}\\right) \\sin{\\left(\\phi \\right)} \\sin{\\left(\\theta \\right)}}{\\pi \\left(\\gamma^{2} + p^{2}\\right)^{4}}\\\\- \\frac{8 \\sqrt{2} i \\gamma^{\\frac{7}{2}} \\sin{\\left(\\phi \\right)} \\cos{\\left(\\theta \\right)}}{\\pi \\left(\\gamma^{2} + p^{2}\\right)^{3}}\\\\- \\frac{8 \\sqrt{2} i \\gamma^{\\frac{7}{2}} \\cos{\\left(\\phi \\right)}}{\\pi \\left(\\gamma^{2} + p^{2}\\right)^{3}}\\end{matrix}\\right], \\  \\left[\\begin{matrix}- \\frac{8 \\sqrt{2} i \\gamma^{\\frac{7}{2}} \\left(- \\gamma^{2} + 5 p^{2}\\right) \\cos{\\left(\\theta \\right)}}{\\pi \\left(\\gamma^{2} + p^{2}\\right)^{4}}\\\\- \\frac{8 \\sqrt{2} i \\gamma^{\\frac{7}{2}} \\sin{\\left(\\theta \\right)}}{\\pi \\left(\\gamma^{2} + p^{2}\\right)^{3}}\\\\0\\end{matrix}\\right]\\right]$"
      ],
      "text/plain": [
       "⎡⎡        7/2 ⎛   2      2⎞              ⎤  ⎡        7/2 ⎛   2      2⎞         ↪\n",
       "⎢⎢8⋅√2⋅ⅈ⋅γ   ⋅⎝- γ  + 5⋅p ⎠⋅sin(θ)⋅cos(φ)⎥  ⎢8⋅√2⋅ⅈ⋅γ   ⋅⎝- γ  + 5⋅p ⎠⋅sin(φ)⋅ ↪\n",
       "⎢⎢───────────────────────────────────────⎥  ⎢───────────────────────────────── ↪\n",
       "⎢⎢                        4              ⎥  ⎢                        4         ↪\n",
       "⎢⎢               ⎛ 2    2⎞               ⎥  ⎢               ⎛ 2    2⎞          ↪\n",
       "⎢⎢             π⋅⎝γ  + p ⎠               ⎥  ⎢             π⋅⎝γ  + p ⎠          ↪\n",
       "⎢⎢                                       ⎥  ⎢                                  ↪\n",
       "⎢⎢               7/2                     ⎥  ⎢               7/2                ↪\n",
       "⎢⎢      -8⋅√2⋅ⅈ⋅γ   ⋅cos(φ)⋅cos(θ)       ⎥  ⎢      -8⋅√2⋅ⅈ⋅γ   ⋅sin(φ)⋅cos(θ)  ↪\n",
       "⎢⎢      ───────────────────────────      ⎥  ⎢      ─────────────────────────── ↪\n",
       "⎢⎢                        3              ⎥, ⎢                        3         ↪\n",
       "⎢⎢               ⎛ 2    2⎞               ⎥  ⎢               ⎛ 2    2⎞          ↪\n",
       "⎢⎢             π⋅⎝γ  + p ⎠               ⎥  ⎢             π⋅⎝γ  + p ⎠          ↪\n",
       "⎢⎢                                       ⎥  ⎢                                  ↪\n",
       "⎢⎢                  7/2                  ⎥  ⎢                  7/2             ↪\n",
       "⎢⎢          8⋅√2⋅ⅈ⋅γ   ⋅sin(φ)           ⎥  ⎢         -8⋅√2⋅ⅈ⋅γ   ⋅cos(φ)      ↪\n",
       "⎢⎢          ──────────────────           ⎥  ⎢         ────────────────────     ↪\n",
       "⎢⎢                        3              ⎥  ⎢                        3         ↪\n",
       "⎢⎢               ⎛ 2    2⎞               ⎥  ⎢               ⎛ 2    2⎞          ↪\n",
       "⎣⎣             π⋅⎝γ  + p ⎠               ⎦  ⎣             π⋅⎝γ  + p ⎠          ↪\n",
       "\n",
       "↪       ⎤                                      ⎤\n",
       "↪ sin(θ)⎥                                      ⎥\n",
       "↪ ──────⎥                                      ⎥\n",
       "↪       ⎥  ⎡         7/2 ⎛   2      2⎞        ⎤⎥\n",
       "↪       ⎥  ⎢-8⋅√2⋅ⅈ⋅γ   ⋅⎝- γ  + 5⋅p ⎠⋅cos(θ) ⎥⎥\n",
       "↪       ⎥  ⎢──────────────────────────────────⎥⎥\n",
       "↪       ⎥  ⎢                      4           ⎥⎥\n",
       "↪       ⎥  ⎢             ⎛ 2    2⎞            ⎥⎥\n",
       "↪       ⎥  ⎢           π⋅⎝γ  + p ⎠            ⎥⎥\n",
       "↪       ⎥  ⎢                                  ⎥⎥\n",
       "↪       ⎥, ⎢                7/2               ⎥⎥\n",
       "↪       ⎥  ⎢       -8⋅√2⋅ⅈ⋅γ   ⋅sin(θ)        ⎥⎥\n",
       "↪       ⎥  ⎢       ────────────────────       ⎥⎥\n",
       "↪       ⎥  ⎢                      3           ⎥⎥\n",
       "↪       ⎥  ⎢             ⎛ 2    2⎞            ⎥⎥\n",
       "↪       ⎥  ⎢           π⋅⎝γ  + p ⎠            ⎥⎥\n",
       "↪       ⎥  ⎢                                  ⎥⎥\n",
       "↪       ⎥  ⎣                0                 ⎦⎥\n",
       "↪       ⎥                                      ⎥\n",
       "↪       ⎦                                      ⎦"
      ]
     },
     "execution_count": 24,
     "metadata": {},
     "output_type": "execute_result"
    }
   ],
   "source": [
    "[transition_dipole_spherical(u) for u in [U2px, U2py, U2pz]]"
   ]
  },
  {
   "cell_type": "code",
   "execution_count": 35,
   "metadata": {},
   "outputs": [
    {
     "data": {
      "text/latex": [
       "$\\displaystyle \\left[ \\left[\\begin{matrix}\\frac{8 \\sqrt{2} i \\gamma^{\\frac{7}{2}} \\left(- \\gamma^{2} + 5 p^{2}\\right) \\sin^{2}{\\left(\\theta \\right)} \\cos^{2}{\\left(\\phi \\right)}}{\\pi \\left(\\gamma^{2} + p^{2}\\right)^{4}} - \\frac{8 \\sqrt{2} i \\gamma^{\\frac{7}{2}} \\sin^{2}{\\left(\\phi \\right)}}{\\pi \\left(\\gamma^{2} + p^{2}\\right)^{3}} - \\frac{8 \\sqrt{2} i \\gamma^{\\frac{7}{2}} \\cos^{2}{\\left(\\phi \\right)} \\cos^{2}{\\left(\\theta \\right)}}{\\pi \\left(\\gamma^{2} + p^{2}\\right)^{3}}\\\\\\frac{8 \\sqrt{2} i \\gamma^{\\frac{7}{2}} \\left(- \\gamma^{2} + 5 p^{2}\\right) \\sin{\\left(\\phi \\right)} \\sin^{2}{\\left(\\theta \\right)} \\cos{\\left(\\phi \\right)}}{\\pi \\left(\\gamma^{2} + p^{2}\\right)^{4}} - \\frac{8 \\sqrt{2} i \\gamma^{\\frac{7}{2}} \\sin{\\left(\\phi \\right)} \\cos{\\left(\\phi \\right)} \\cos^{2}{\\left(\\theta \\right)}}{\\pi \\left(\\gamma^{2} + p^{2}\\right)^{3}} + \\frac{8 \\sqrt{2} i \\gamma^{\\frac{7}{2}} \\sin{\\left(\\phi \\right)} \\cos{\\left(\\phi \\right)}}{\\pi \\left(\\gamma^{2} + p^{2}\\right)^{3}}\\\\\\frac{8 \\sqrt{2} i \\gamma^{\\frac{7}{2}} \\left(- \\gamma^{2} + 5 p^{2}\\right) \\sin{\\left(\\theta \\right)} \\cos{\\left(\\phi \\right)} \\cos{\\left(\\theta \\right)}}{\\pi \\left(\\gamma^{2} + p^{2}\\right)^{4}} + \\frac{8 \\sqrt{2} i \\gamma^{\\frac{7}{2}} \\sin{\\left(\\theta \\right)} \\cos{\\left(\\phi \\right)} \\cos{\\left(\\theta \\right)}}{\\pi \\left(\\gamma^{2} + p^{2}\\right)^{3}}\\end{matrix}\\right], \\  \\left[\\begin{matrix}\\frac{8 \\sqrt{2} i \\gamma^{\\frac{7}{2}} \\left(- \\gamma^{2} + 5 p^{2}\\right) \\sin{\\left(\\phi \\right)} \\sin^{2}{\\left(\\theta \\right)} \\cos{\\left(\\phi \\right)}}{\\pi \\left(\\gamma^{2} + p^{2}\\right)^{4}} - \\frac{8 \\sqrt{2} i \\gamma^{\\frac{7}{2}} \\sin{\\left(\\phi \\right)} \\cos{\\left(\\phi \\right)} \\cos^{2}{\\left(\\theta \\right)}}{\\pi \\left(\\gamma^{2} + p^{2}\\right)^{3}} + \\frac{8 \\sqrt{2} i \\gamma^{\\frac{7}{2}} \\sin{\\left(\\phi \\right)} \\cos{\\left(\\phi \\right)}}{\\pi \\left(\\gamma^{2} + p^{2}\\right)^{3}}\\\\\\frac{8 \\sqrt{2} i \\gamma^{\\frac{7}{2}} \\left(- \\gamma^{2} + 5 p^{2}\\right) \\sin^{2}{\\left(\\phi \\right)} \\sin^{2}{\\left(\\theta \\right)}}{\\pi \\left(\\gamma^{2} + p^{2}\\right)^{4}} - \\frac{8 \\sqrt{2} i \\gamma^{\\frac{7}{2}} \\sin^{2}{\\left(\\phi \\right)} \\cos^{2}{\\left(\\theta \\right)}}{\\pi \\left(\\gamma^{2} + p^{2}\\right)^{3}} - \\frac{8 \\sqrt{2} i \\gamma^{\\frac{7}{2}} \\cos^{2}{\\left(\\phi \\right)}}{\\pi \\left(\\gamma^{2} + p^{2}\\right)^{3}}\\\\\\frac{8 \\sqrt{2} i \\gamma^{\\frac{7}{2}} \\left(- \\gamma^{2} + 5 p^{2}\\right) \\sin{\\left(\\phi \\right)} \\sin{\\left(\\theta \\right)} \\cos{\\left(\\theta \\right)}}{\\pi \\left(\\gamma^{2} + p^{2}\\right)^{4}} + \\frac{8 \\sqrt{2} i \\gamma^{\\frac{7}{2}} \\sin{\\left(\\phi \\right)} \\sin{\\left(\\theta \\right)} \\cos{\\left(\\theta \\right)}}{\\pi \\left(\\gamma^{2} + p^{2}\\right)^{3}}\\end{matrix}\\right], \\  \\left[\\begin{matrix}- \\frac{8 \\sqrt{2} i \\gamma^{\\frac{7}{2}} \\left(- \\gamma^{2} + 5 p^{2}\\right) \\sin{\\left(\\theta \\right)} \\cos{\\left(\\phi \\right)} \\cos{\\left(\\theta \\right)}}{\\pi \\left(\\gamma^{2} + p^{2}\\right)^{4}} - \\frac{8 \\sqrt{2} i \\gamma^{\\frac{7}{2}} \\sin{\\left(\\theta \\right)} \\cos{\\left(\\phi \\right)} \\cos{\\left(\\theta \\right)}}{\\pi \\left(\\gamma^{2} + p^{2}\\right)^{3}}\\\\- \\frac{8 \\sqrt{2} i \\gamma^{\\frac{7}{2}} \\left(- \\gamma^{2} + 5 p^{2}\\right) \\sin{\\left(\\phi \\right)} \\sin{\\left(\\theta \\right)} \\cos{\\left(\\theta \\right)}}{\\pi \\left(\\gamma^{2} + p^{2}\\right)^{4}} - \\frac{8 \\sqrt{2} i \\gamma^{\\frac{7}{2}} \\sin{\\left(\\phi \\right)} \\sin{\\left(\\theta \\right)} \\cos{\\left(\\theta \\right)}}{\\pi \\left(\\gamma^{2} + p^{2}\\right)^{3}}\\\\- \\frac{8 \\sqrt{2} i \\gamma^{\\frac{7}{2}} \\left(- \\gamma^{2} + 5 p^{2}\\right) \\cos^{2}{\\left(\\theta \\right)}}{\\pi \\left(\\gamma^{2} + p^{2}\\right)^{4}} + \\frac{8 \\sqrt{2} i \\gamma^{\\frac{7}{2}} \\sin^{2}{\\left(\\theta \\right)}}{\\pi \\left(\\gamma^{2} + p^{2}\\right)^{3}}\\end{matrix}\\right]\\right]$"
      ],
      "text/plain": [
       "⎡⎡                 7/2 ⎛   2      2⎞    2       2              7/2    2        ↪\n",
       "⎢⎢         8⋅√2⋅ⅈ⋅γ   ⋅⎝- γ  + 5⋅p ⎠⋅sin (θ)⋅cos (φ)   8⋅√2⋅ⅈ⋅γ   ⋅sin (φ)   8 ↪\n",
       "⎢⎢         ───────────────────────────────────────── - ─────────────────── - ─ ↪\n",
       "⎢⎢                                  4                                3         ↪\n",
       "⎢⎢                         ⎛ 2    2⎞                        ⎛ 2    2⎞          ↪\n",
       "⎢⎢                       π⋅⎝γ  + p ⎠                      π⋅⎝γ  + p ⎠          ↪\n",
       "⎢⎢                                                                             ↪\n",
       "⎢⎢        7/2 ⎛   2      2⎞           2                     7/2                ↪\n",
       "⎢⎢8⋅√2⋅ⅈ⋅γ   ⋅⎝- γ  + 5⋅p ⎠⋅sin(φ)⋅sin (θ)⋅cos(φ)   8⋅√2⋅ⅈ⋅γ   ⋅sin(φ)⋅cos(φ)⋅ ↪\n",
       "⎢⎢─────────────────────────────────────────────── - ────────────────────────── ↪\n",
       "⎢⎢                            4                                          3     ↪\n",
       "⎢⎢                   ⎛ 2    2⎞                                  ⎛ 2    2⎞      ↪\n",
       "⎢⎢                 π⋅⎝γ  + p ⎠                                π⋅⎝γ  + p ⎠      ↪\n",
       "⎢⎢                                                                             ↪\n",
       "⎢⎢                       7/2 ⎛   2      2⎞                                7/2  ↪\n",
       "⎢⎢               8⋅√2⋅ⅈ⋅γ   ⋅⎝- γ  + 5⋅p ⎠⋅sin(θ)⋅cos(φ)⋅cos(θ)   8⋅√2⋅ⅈ⋅γ   ⋅ ↪\n",
       "⎢⎢               ────────────────────────────────────────────── + ──────────── ↪\n",
       "⎢⎢                                           4                                 ↪\n",
       "⎢⎢                                  ⎛ 2    2⎞                                  ↪\n",
       "⎣⎣                                π⋅⎝γ  + p ⎠                               π⋅ ↪\n",
       "\n",
       "↪        7/2    2       2            ⎤  ⎡        7/2 ⎛   2      2⎞           2 ↪\n",
       "↪ ⋅√2⋅ⅈ⋅γ   ⋅cos (φ)⋅cos (θ)         ⎥  ⎢8⋅√2⋅ⅈ⋅γ   ⋅⎝- γ  + 5⋅p ⎠⋅sin(φ)⋅sin  ↪\n",
       "↪ ──────────────────────────         ⎥  ⎢───────────────────────────────────── ↪\n",
       "↪                  3                 ⎥  ⎢                            4         ↪\n",
       "↪         ⎛ 2    2⎞                  ⎥  ⎢                   ⎛ 2    2⎞          ↪\n",
       "↪       π⋅⎝γ  + p ⎠                  ⎥  ⎢                 π⋅⎝γ  + p ⎠          ↪\n",
       "↪                                    ⎥  ⎢                                      ↪\n",
       "↪    2              7/2              ⎥  ⎢                 7/2 ⎛   2      2⎞    ↪\n",
       "↪ cos (θ)   8⋅√2⋅ⅈ⋅γ   ⋅sin(φ)⋅cos(φ)⎥  ⎢         8⋅√2⋅ⅈ⋅γ   ⋅⎝- γ  + 5⋅p ⎠⋅si ↪\n",
       "↪ ─────── + ─────────────────────────⎥  ⎢         ──────────────────────────── ↪\n",
       "↪                            3       ⎥, ⎢                                  4   ↪\n",
       "↪                   ⎛ 2    2⎞        ⎥  ⎢                         ⎛ 2    2⎞    ↪\n",
       "↪                 π⋅⎝γ  + p ⎠        ⎥  ⎢                       π⋅⎝γ  + p ⎠    ↪\n",
       "↪                                    ⎥  ⎢                                      ↪\n",
       "↪                                    ⎥  ⎢                       7/2 ⎛   2      ↪\n",
       "↪ sin(θ)⋅cos(φ)⋅cos(θ)               ⎥  ⎢               8⋅√2⋅ⅈ⋅γ   ⋅⎝- γ  + 5⋅ ↪\n",
       "↪ ────────────────────               ⎥  ⎢               ────────────────────── ↪\n",
       "↪          3                         ⎥  ⎢                                      ↪\n",
       "↪ ⎛ 2    2⎞                          ⎥  ⎢                                  ⎛ 2 ↪\n",
       "↪ ⎝γ  + p ⎠                          ⎦  ⎣                                π⋅⎝γ  ↪\n",
       "\n",
       "↪                      7/2                  2              7/2              ⎤  ↪\n",
       "↪ (θ)⋅cos(φ)   8⋅√2⋅ⅈ⋅γ   ⋅sin(φ)⋅cos(φ)⋅cos (θ)   8⋅√2⋅ⅈ⋅γ   ⋅sin(φ)⋅cos(φ)⎥  ↪\n",
       "↪ ────────── - ───────────────────────────────── + ─────────────────────────⎥  ↪\n",
       "↪                                   3                               3       ⎥  ↪\n",
       "↪                          ⎛ 2    2⎞                       ⎛ 2    2⎞        ⎥  ↪\n",
       "↪                        π⋅⎝γ  + p ⎠                     π⋅⎝γ  + p ⎠        ⎥  ↪\n",
       "↪                                                                           ⎥  ↪\n",
       "↪  2       2              7/2    2       2              7/2    2            ⎥  ↪\n",
       "↪ n (φ)⋅sin (θ)   8⋅√2⋅ⅈ⋅γ   ⋅sin (φ)⋅cos (θ)   8⋅√2⋅ⅈ⋅γ   ⋅cos (φ)         ⎥  ↪\n",
       "↪ ───────────── - ─────────────────────────── - ───────────────────         ⎥  ↪\n",
       "↪                                   3                         3             ⎥, ↪\n",
       "↪                          ⎛ 2    2⎞                 ⎛ 2    2⎞              ⎥  ↪\n",
       "↪                        π⋅⎝γ  + p ⎠               π⋅⎝γ  + p ⎠              ⎥  ↪\n",
       "↪                                                                           ⎥  ↪\n",
       "↪  2⎞                                7/2                                    ⎥  ↪\n",
       "↪ p ⎠⋅sin(φ)⋅sin(θ)⋅cos(θ)   8⋅√2⋅ⅈ⋅γ   ⋅sin(φ)⋅sin(θ)⋅cos(θ)               ⎥  ↪\n",
       "↪ ──────────────────────── + ────────────────────────────────               ⎥  ↪\n",
       "↪       4                                         3                         ⎥  ↪\n",
       "↪     2⎞                                 ⎛ 2    2⎞                          ⎥  ↪\n",
       "↪  + p ⎠                               π⋅⎝γ  + p ⎠                          ⎦  ↪\n",
       "\n",
       "↪  ⎡          7/2 ⎛   2      2⎞                                7/2             ↪\n",
       "↪  ⎢  8⋅√2⋅ⅈ⋅γ   ⋅⎝- γ  + 5⋅p ⎠⋅sin(θ)⋅cos(φ)⋅cos(θ)   8⋅√2⋅ⅈ⋅γ   ⋅sin(θ)⋅cos( ↪\n",
       "↪  ⎢- ────────────────────────────────────────────── - ─────────────────────── ↪\n",
       "↪  ⎢                              4                                         3  ↪\n",
       "↪  ⎢                     ⎛ 2    2⎞                                 ⎛ 2    2⎞   ↪\n",
       "↪  ⎢                   π⋅⎝γ  + p ⎠                               π⋅⎝γ  + p ⎠   ↪\n",
       "↪  ⎢                                                                           ↪\n",
       "↪  ⎢          7/2 ⎛   2      2⎞                                7/2             ↪\n",
       "↪  ⎢  8⋅√2⋅ⅈ⋅γ   ⋅⎝- γ  + 5⋅p ⎠⋅sin(φ)⋅sin(θ)⋅cos(θ)   8⋅√2⋅ⅈ⋅γ   ⋅sin(φ)⋅sin( ↪\n",
       "↪  ⎢- ────────────────────────────────────────────── - ─────────────────────── ↪\n",
       "↪  ⎢                              4                                         3  ↪\n",
       "↪  ⎢                     ⎛ 2    2⎞                                 ⎛ 2    2⎞   ↪\n",
       "↪  ⎢                   π⋅⎝γ  + p ⎠                               π⋅⎝γ  + p ⎠   ↪\n",
       "↪  ⎢                                                                           ↪\n",
       "↪  ⎢                       7/2 ⎛   2      2⎞    2              7/2    2        ↪\n",
       "↪  ⎢               8⋅√2⋅ⅈ⋅γ   ⋅⎝- γ  + 5⋅p ⎠⋅cos (θ)   8⋅√2⋅ⅈ⋅γ   ⋅sin (θ)     ↪\n",
       "↪  ⎢             - ───────────────────────────────── + ───────────────────     ↪\n",
       "↪  ⎢                                    4                            3         ↪\n",
       "↪  ⎢                           ⎛ 2    2⎞                    ⎛ 2    2⎞          ↪\n",
       "↪  ⎣                         π⋅⎝γ  + p ⎠                  π⋅⎝γ  + p ⎠          ↪\n",
       "\n",
       "↪          ⎤⎤\n",
       "↪ φ)⋅cos(θ)⎥⎥\n",
       "↪ ─────────⎥⎥\n",
       "↪          ⎥⎥\n",
       "↪          ⎥⎥\n",
       "↪          ⎥⎥\n",
       "↪          ⎥⎥\n",
       "↪          ⎥⎥\n",
       "↪ θ)⋅cos(θ)⎥⎥\n",
       "↪ ─────────⎥⎥\n",
       "↪          ⎥⎥\n",
       "↪          ⎥⎥\n",
       "↪          ⎥⎥\n",
       "↪          ⎥⎥\n",
       "↪          ⎥⎥\n",
       "↪          ⎥⎥\n",
       "↪          ⎥⎥\n",
       "↪          ⎥⎥\n",
       "↪          ⎥⎥\n",
       "↪          ⎦⎦"
      ]
     },
     "execution_count": 35,
     "metadata": {},
     "output_type": "execute_result"
    }
   ],
   "source": [
    "[spherical_to_cartesian_matrix * transition_dipole_spherical(u) for u in [U2px, U2py, U2pz]]"
   ]
  },
  {
   "cell_type": "code",
   "execution_count": 39,
   "metadata": {},
   "outputs": [
    {
     "data": {
      "text/latex": [
       "$\\displaystyle \\left[ \\left[\\begin{matrix}\\frac{8 \\sqrt{2} i \\gamma^{\\frac{7}{2}} \\left(- \\gamma^{2} - 6 p^{2} \\sin^{2}{\\left(\\phi \\right)} \\sin^{2}{\\left(\\theta \\right)} + 6 p^{2} \\sin^{2}{\\left(\\theta \\right)} - p^{2}\\right)}{\\pi \\left(\\gamma^{2} + p^{2}\\right)^{4}}\\\\\\frac{48 \\sqrt{2} i \\gamma^{\\frac{7}{2}} p^{2} \\sin{\\left(\\phi \\right)} \\sin^{2}{\\left(\\theta \\right)} \\cos{\\left(\\phi \\right)}}{\\pi \\left(\\gamma^{2} + p^{2}\\right)^{4}}\\\\\\frac{12 \\sqrt{2} i \\gamma^{\\frac{7}{2}} p^{2} \\left(- \\sin{\\left(\\phi - 2 \\theta \\right)} + \\sin{\\left(\\phi + 2 \\theta \\right)}\\right)}{\\pi \\left(\\gamma^{2} + p^{2}\\right)^{4}}\\end{matrix}\\right], \\  \\left[\\begin{matrix}\\frac{48 \\sqrt{2} i \\gamma^{\\frac{7}{2}} p^{2} \\sin{\\left(\\phi \\right)} \\sin^{2}{\\left(\\theta \\right)} \\cos{\\left(\\phi \\right)}}{\\pi \\left(\\gamma^{2} + p^{2}\\right)^{4}}\\\\\\frac{8 \\sqrt{2} i \\gamma^{\\frac{7}{2}} \\left(- \\gamma^{2} + 6 p^{2} \\sin^{2}{\\left(\\phi \\right)} \\sin^{2}{\\left(\\theta \\right)} - p^{2}\\right)}{\\pi \\left(\\gamma^{2} + p^{2}\\right)^{4}}\\\\\\frac{12 \\sqrt{2} i \\gamma^{\\frac{7}{2}} p^{2} \\left(\\cos{\\left(\\phi - 2 \\theta \\right)} - \\cos{\\left(\\phi + 2 \\theta \\right)}\\right)}{\\pi \\left(\\gamma^{2} + p^{2}\\right)^{4}}\\end{matrix}\\right], \\  \\left[\\begin{matrix}\\frac{12 \\sqrt{2} i \\gamma^{\\frac{7}{2}} p^{2} \\left(\\sin{\\left(\\phi - 2 \\theta \\right)} - \\sin{\\left(\\phi + 2 \\theta \\right)}\\right)}{\\pi \\left(\\gamma^{2} + p^{2}\\right)^{4}}\\\\\\frac{12 \\sqrt{2} i \\gamma^{\\frac{7}{2}} p^{2} \\left(- \\cos{\\left(\\phi - 2 \\theta \\right)} + \\cos{\\left(\\phi + 2 \\theta \\right)}\\right)}{\\pi \\left(\\gamma^{2} + p^{2}\\right)^{4}}\\\\\\frac{8 \\sqrt{2} i \\gamma^{\\frac{7}{2}} \\left(\\gamma^{2} + 6 p^{2} \\sin^{2}{\\left(\\theta \\right)} - 5 p^{2}\\right)}{\\pi \\left(\\gamma^{2} + p^{2}\\right)^{4}}\\end{matrix}\\right]\\right]$"
      ],
      "text/plain": [
       "⎡⎡        7/2 ⎛   2      2    2       2         2    2       2⎞⎤  ⎡            ↪\n",
       "⎢⎢8⋅√2⋅ⅈ⋅γ   ⋅⎝- γ  - 6⋅p ⋅sin (φ)⋅sin (θ) + 6⋅p ⋅sin (θ) - p ⎠⎥  ⎢    48⋅√2⋅ⅈ ↪\n",
       "⎢⎢─────────────────────────────────────────────────────────────⎥  ⎢    ─────── ↪\n",
       "⎢⎢                                   4                         ⎥  ⎢            ↪\n",
       "⎢⎢                          ⎛ 2    2⎞                          ⎥  ⎢            ↪\n",
       "⎢⎢                        π⋅⎝γ  + p ⎠                          ⎥  ⎢            ↪\n",
       "⎢⎢                                                             ⎥  ⎢            ↪\n",
       "⎢⎢                     7/2  2           2                      ⎥  ⎢        7/2 ↪\n",
       "⎢⎢            48⋅√2⋅ⅈ⋅γ   ⋅p ⋅sin(φ)⋅sin (θ)⋅cos(φ)            ⎥  ⎢8⋅√2⋅ⅈ⋅γ    ↪\n",
       "⎢⎢            ─────────────────────────────────────            ⎥  ⎢─────────── ↪\n",
       "⎢⎢                                   4                         ⎥, ⎢            ↪\n",
       "⎢⎢                          ⎛ 2    2⎞                          ⎥  ⎢            ↪\n",
       "⎢⎢                        π⋅⎝γ  + p ⎠                          ⎥  ⎢            ↪\n",
       "⎢⎢                                                             ⎥  ⎢            ↪\n",
       "⎢⎢                7/2  2                                       ⎥  ⎢         7/ ↪\n",
       "⎢⎢       12⋅√2⋅ⅈ⋅γ   ⋅p ⋅(-sin(φ - 2⋅θ) + sin(φ + 2⋅θ))        ⎥  ⎢12⋅√2⋅ⅈ⋅γ   ↪\n",
       "⎢⎢       ──────────────────────────────────────────────        ⎥  ⎢─────────── ↪\n",
       "⎢⎢                                   4                         ⎥  ⎢            ↪\n",
       "⎢⎢                          ⎛ 2    2⎞                          ⎥  ⎢            ↪\n",
       "⎣⎣                        π⋅⎝γ  + p ⎠                          ⎦  ⎣            ↪\n",
       "\n",
       "↪   7/2  2           2               ⎤  ⎡         7/2  2                       ↪\n",
       "↪ ⋅γ   ⋅p ⋅sin(φ)⋅sin (θ)⋅cos(φ)     ⎥  ⎢12⋅√2⋅ⅈ⋅γ   ⋅p ⋅(sin(φ - 2⋅θ) - sin(φ ↪\n",
       "↪ ──────────────────────────────     ⎥  ⎢───────────────────────────────────── ↪\n",
       "↪                 4                  ⎥  ⎢                           4          ↪\n",
       "↪        ⎛ 2    2⎞                   ⎥  ⎢                  ⎛ 2    2⎞           ↪\n",
       "↪      π⋅⎝γ  + p ⎠                   ⎥  ⎢                π⋅⎝γ  + p ⎠           ↪\n",
       "↪                                    ⎥  ⎢                                      ↪\n",
       "↪  ⎛   2      2    2       2       2⎞⎥  ⎢         7/2  2                       ↪\n",
       "↪ ⋅⎝- γ  + 6⋅p ⋅sin (φ)⋅sin (θ) - p ⎠⎥  ⎢12⋅√2⋅ⅈ⋅γ   ⋅p ⋅(-cos(φ - 2⋅θ) + cos( ↪\n",
       "↪ ───────────────────────────────────⎥  ⎢───────────────────────────────────── ↪\n",
       "↪                  4                 ⎥, ⎢                            4         ↪\n",
       "↪         ⎛ 2    2⎞                  ⎥  ⎢                   ⎛ 2    2⎞          ↪\n",
       "↪       π⋅⎝γ  + p ⎠                  ⎥  ⎢                 π⋅⎝γ  + p ⎠          ↪\n",
       "↪                                    ⎥  ⎢                                      ↪\n",
       "↪ 2  2                               ⎥  ⎢            7/2 ⎛ 2      2    2       ↪\n",
       "↪  ⋅p ⋅(cos(φ - 2⋅θ) - cos(φ + 2⋅θ)) ⎥  ⎢    8⋅√2⋅ⅈ⋅γ   ⋅⎝γ  + 6⋅p ⋅sin (θ) -  ↪\n",
       "↪ ────────────────────────────────── ⎥  ⎢    ───────────────────────────────── ↪\n",
       "↪                 4                  ⎥  ⎢                            4         ↪\n",
       "↪        ⎛ 2    2⎞                   ⎥  ⎢                   ⎛ 2    2⎞          ↪\n",
       "↪      π⋅⎝γ  + p ⎠                   ⎦  ⎣                 π⋅⎝γ  + p ⎠          ↪\n",
       "\n",
       "↪          ⎤⎤\n",
       "↪  + 2⋅θ)) ⎥⎥\n",
       "↪ ──────── ⎥⎥\n",
       "↪          ⎥⎥\n",
       "↪          ⎥⎥\n",
       "↪          ⎥⎥\n",
       "↪          ⎥⎥\n",
       "↪          ⎥⎥\n",
       "↪ φ + 2⋅θ))⎥⎥\n",
       "↪ ─────────⎥⎥\n",
       "↪          ⎥⎥\n",
       "↪          ⎥⎥\n",
       "↪          ⎥⎥\n",
       "↪          ⎥⎥\n",
       "↪    2⎞    ⎥⎥\n",
       "↪ 5⋅p ⎠    ⎥⎥\n",
       "↪ ─────    ⎥⎥\n",
       "↪          ⎥⎥\n",
       "↪          ⎥⎥\n",
       "↪          ⎦⎦"
      ]
     },
     "execution_count": 39,
     "metadata": {},
     "output_type": "execute_result"
    }
   ],
   "source": [
    "[vector_operation(spherical_to_cartesian_matrix * transition_dipole_spherical(u), sp.expand_trig, sp.trigsimp) for u in [U2px, U2py, U2pz]]"
   ]
  },
  {
   "cell_type": "code",
   "execution_count": 56,
   "metadata": {},
   "outputs": [
    {
     "data": {
      "text/latex": [
       "$\\displaystyle \\left[\\begin{matrix}\\frac{8 \\sqrt{2} i \\gamma^{\\frac{7}{2}} \\left(- \\gamma^{2} - 6 p^{2} \\sin^{2}{\\left(\\phi \\right)} \\sin^{2}{\\left(\\theta \\right)} + 6 p^{2} \\sin^{2}{\\left(\\theta \\right)} - p^{2}\\right)}{\\pi \\left(\\gamma^{2} + p^{2}\\right)^{4}}\\\\\\frac{48 \\sqrt{2} i \\gamma^{\\frac{7}{2}} p^{2} \\sin{\\left(\\phi \\right)} \\sin^{2}{\\left(\\theta \\right)} \\cos{\\left(\\phi \\right)}}{\\pi \\left(\\gamma^{2} + p^{2}\\right)^{4}}\\\\\\frac{12 \\sqrt{2} i \\gamma^{\\frac{7}{2}} p^{2} \\left(- \\sin{\\left(\\phi - 2 \\theta \\right)} + \\sin{\\left(\\phi + 2 \\theta \\right)}\\right)}{\\pi \\left(\\gamma^{2} + p^{2}\\right)^{4}}\\end{matrix}\\right]$"
      ],
      "text/plain": [
       "⎡        7/2 ⎛   2      2    2       2         2    2       2⎞⎤\n",
       "⎢8⋅√2⋅ⅈ⋅γ   ⋅⎝- γ  - 6⋅p ⋅sin (φ)⋅sin (θ) + 6⋅p ⋅sin (θ) - p ⎠⎥\n",
       "⎢─────────────────────────────────────────────────────────────⎥\n",
       "⎢                                   4                         ⎥\n",
       "⎢                          ⎛ 2    2⎞                          ⎥\n",
       "⎢                        π⋅⎝γ  + p ⎠                          ⎥\n",
       "⎢                                                             ⎥\n",
       "⎢                     7/2  2           2                      ⎥\n",
       "⎢            48⋅√2⋅ⅈ⋅γ   ⋅p ⋅sin(φ)⋅sin (θ)⋅cos(φ)            ⎥\n",
       "⎢            ─────────────────────────────────────            ⎥\n",
       "⎢                                   4                         ⎥\n",
       "⎢                          ⎛ 2    2⎞                          ⎥\n",
       "⎢                        π⋅⎝γ  + p ⎠                          ⎥\n",
       "⎢                                                             ⎥\n",
       "⎢                7/2  2                                       ⎥\n",
       "⎢       12⋅√2⋅ⅈ⋅γ   ⋅p ⋅(-sin(φ - 2⋅θ) + sin(φ + 2⋅θ))        ⎥\n",
       "⎢       ──────────────────────────────────────────────        ⎥\n",
       "⎢                                   4                         ⎥\n",
       "⎢                          ⎛ 2    2⎞                          ⎥\n",
       "⎣                        π⋅⎝γ  + p ⎠                          ⎦"
      ]
     },
     "execution_count": 56,
     "metadata": {},
     "output_type": "execute_result"
    }
   ],
   "source": [
    "vector_operation(spherical_to_cartesian_matrix * transition_dipole_spherical(U2px), sp.expand_trig, sp.trigsimp)"
   ]
  },
  {
   "cell_type": "code",
   "execution_count": 97,
   "metadata": {},
   "outputs": [
    {
     "data": {
      "text/latex": [
       "$\\displaystyle \\left[\\begin{matrix}8 \\sqrt{2} i \\gamma^{\\frac{7}{2}} \\left(\\frac{p_{x}^{2} \\left(- \\gamma^{2} + 5 p^{2}\\right)}{\\pi p^{2} \\left(\\gamma^{2} + p^{2}\\right)^{4}} - \\frac{p_{y}^{2}}{\\pi p^{2} \\left(1 - \\frac{p_{z}^{2}}{p^{2}}\\right) \\left(\\gamma^{2} + p^{2}\\right)^{3}} - \\frac{p_{x}^{2} p_{z}^{2}}{\\pi p^{4} \\left(1 - \\frac{p_{z}^{2}}{p^{2}}\\right) \\left(\\gamma^{2} + p^{2}\\right)^{3}}\\right)\\\\8 \\sqrt{2} i \\gamma^{\\frac{7}{2}} \\left(\\frac{p_{x} p_{y} \\left(- \\gamma^{2} + 5 p^{2}\\right)}{\\pi p^{2} \\left(\\gamma^{2} + p^{2}\\right)^{4}} + \\frac{p_{x} p_{y}}{\\pi p^{2} \\left(1 - \\frac{p_{z}^{2}}{p^{2}}\\right) \\left(\\gamma^{2} + p^{2}\\right)^{3}} - \\frac{p_{x} p_{y} p_{z}^{2}}{\\pi p^{4} \\left(1 - \\frac{p_{z}^{2}}{p^{2}}\\right) \\left(\\gamma^{2} + p^{2}\\right)^{3}}\\right)\\\\8 \\sqrt{2} i \\gamma^{\\frac{7}{2}} \\left(\\frac{p_{x} p_{z} \\left(- \\gamma^{2} + 5 p^{2}\\right)}{\\pi p^{2} \\left(\\gamma^{2} + p^{2}\\right)^{4}} + \\frac{p_{x} p_{z}}{\\pi p^{2} \\left(\\gamma^{2} + p^{2}\\right)^{3}}\\right)\\end{matrix}\\right]$"
      ],
      "text/plain": [
       "⎡             ⎛  2 ⎛   2      2⎞                 2                         2   ↪\n",
       "⎢         7/2 ⎜pₓ ⋅⎝- γ  + 5⋅p ⎠              p_y                        pₓ ⋅p ↪\n",
       "⎢ 8⋅√2⋅ⅈ⋅γ   ⋅⎜───────────────── - ────────────────────────── - ────────────── ↪\n",
       "⎢             ⎜               4         ⎛       2⎞          3        ⎛       2 ↪\n",
       "⎢             ⎜    2 ⎛ 2    2⎞        2 ⎜    p_z ⎟ ⎛ 2    2⎞       4 ⎜    p_z  ↪\n",
       "⎢             ⎜ π⋅p ⋅⎝γ  + p ⎠     π⋅p ⋅⎜1 - ────⎟⋅⎝γ  + p ⎠    π⋅p ⋅⎜1 - ──── ↪\n",
       "⎢             ⎜                         ⎜      2 ⎟                   ⎜      2  ↪\n",
       "⎢             ⎝                         ⎝     p  ⎠                   ⎝     p   ↪\n",
       "⎢                                                                              ↪\n",
       "⎢            ⎛       ⎛   2      2⎞                                             ↪\n",
       "⎢        7/2 ⎜pₓ⋅p_y⋅⎝- γ  + 5⋅p ⎠             pₓ⋅p_y                    pₓ⋅p_ ↪\n",
       "⎢8⋅√2⋅ⅈ⋅γ   ⋅⎜──────────────────── + ────────────────────────── - ──────────── ↪\n",
       "⎢            ⎜                4           ⎛       2⎞          3        ⎛       ↪\n",
       "⎢            ⎜     2 ⎛ 2    2⎞          2 ⎜    p_z ⎟ ⎛ 2    2⎞       4 ⎜    p_ ↪\n",
       "⎢            ⎜  π⋅p ⋅⎝γ  + p ⎠       π⋅p ⋅⎜1 - ────⎟⋅⎝γ  + p ⎠    π⋅p ⋅⎜1 - ── ↪\n",
       "⎢            ⎜                            ⎜      2 ⎟                   ⎜       ↪\n",
       "⎢            ⎝                            ⎝     p  ⎠                   ⎝     p ↪\n",
       "⎢                                                                              ↪\n",
       "⎢                                ⎛       ⎛   2      2⎞                  ⎞      ↪\n",
       "⎢                            7/2 ⎜pₓ⋅p_z⋅⎝- γ  + 5⋅p ⎠       pₓ⋅p_z     ⎟      ↪\n",
       "⎢                    8⋅√2⋅ⅈ⋅γ   ⋅⎜──────────────────── + ───────────────⎟      ↪\n",
       "⎢                                ⎜                4                    3⎟      ↪\n",
       "⎢                                ⎜     2 ⎛ 2    2⎞          2 ⎛ 2    2⎞ ⎟      ↪\n",
       "⎣                                ⎝  π⋅p ⋅⎝γ  + p ⎠       π⋅p ⋅⎝γ  + p ⎠ ⎠      ↪\n",
       "\n",
       "↪   2         ⎞  ⎤\n",
       "↪ _z          ⎟  ⎥\n",
       "↪ ────────────⎟  ⎥\n",
       "↪ ⎞          3⎟  ⎥\n",
       "↪ ⎟ ⎛ 2    2⎞ ⎟  ⎥\n",
       "↪ ⎟⋅⎝γ  + p ⎠ ⎟  ⎥\n",
       "↪ ⎟           ⎟  ⎥\n",
       "↪ ⎠           ⎠  ⎥\n",
       "↪                ⎥\n",
       "↪      2        ⎞⎥\n",
       "↪ y⋅p_z         ⎟⎥\n",
       "↪ ──────────────⎟⎥\n",
       "↪  2⎞          3⎟⎥\n",
       "↪ z ⎟ ⎛ 2    2⎞ ⎟⎥\n",
       "↪ ──⎟⋅⎝γ  + p ⎠ ⎟⎥\n",
       "↪ 2 ⎟           ⎟⎥\n",
       "↪   ⎠           ⎠⎥\n",
       "↪                ⎥\n",
       "↪                ⎥\n",
       "↪                ⎥\n",
       "↪                ⎥\n",
       "↪                ⎥\n",
       "↪                ⎥\n",
       "↪                ⎦"
      ]
     },
     "execution_count": 97,
     "metadata": {},
     "output_type": "execute_result"
    }
   ],
   "source": [
    "D = sp.Matrix([sp.collect(v.subs([\n",
    "        (cos_phi, p_x/(p*sin_theta)),\n",
    "        (sin_phi, p_y/(p*sin_theta)),\n",
    "        (sin_theta, sp.sqrt(1-cos_theta**2)), \n",
    "        (sin_theta*cos_phi, p_x/p), \n",
    "        (sin_theta*sin_phi, p_y/p), \n",
    "        (cos_theta, p_z/p),\n",
    "    ]), (8*sp.sqrt(2)*sp.I*gamma**sp.Rational(7,2))) for v in spherical_to_cartesian_matrix * transition_dipole_spherical(U2px)])\n",
    "D"
   ]
  },
  {
   "cell_type": "code",
   "execution_count": 130,
   "metadata": {},
   "outputs": [
    {
     "data": {
      "text/latex": [
       "$\\displaystyle \\left[\\begin{matrix}- \\frac{8 \\sqrt{2} i \\gamma^{\\frac{7}{2}} \\left(\\gamma^{2} + p^{2} - 6 p_{x}^{2}\\right)}{\\pi \\left(\\gamma^{2} + p^{2}\\right)^{4}}\\\\\\frac{48 \\sqrt{2} i \\gamma^{\\frac{7}{2}} p_{x} p_{y}}{\\pi \\left(\\gamma^{2} + p^{2}\\right)^{4}}\\\\\\frac{48 \\sqrt{2} i \\gamma^{\\frac{7}{2}} p_{x} p_{z}}{\\pi \\left(\\gamma^{2} + p^{2}\\right)^{4}}\\end{matrix}\\right]$"
      ],
      "text/plain": [
       "⎡         7/2 ⎛ 2    2       2⎞ ⎤\n",
       "⎢-8⋅√2⋅ⅈ⋅γ   ⋅⎝γ  + p  - 6⋅pₓ ⎠ ⎥\n",
       "⎢───────────────────────────────⎥\n",
       "⎢                    4          ⎥\n",
       "⎢           ⎛ 2    2⎞           ⎥\n",
       "⎢         π⋅⎝γ  + p ⎠           ⎥\n",
       "⎢                               ⎥\n",
       "⎢               7/2             ⎥\n",
       "⎢      48⋅√2⋅ⅈ⋅γ   ⋅pₓ⋅p_y      ⎥\n",
       "⎢      ───────────────────      ⎥\n",
       "⎢                    4          ⎥\n",
       "⎢           ⎛ 2    2⎞           ⎥\n",
       "⎢         π⋅⎝γ  + p ⎠           ⎥\n",
       "⎢                               ⎥\n",
       "⎢               7/2             ⎥\n",
       "⎢      48⋅√2⋅ⅈ⋅γ   ⋅pₓ⋅p_z      ⎥\n",
       "⎢      ───────────────────      ⎥\n",
       "⎢                    4          ⎥\n",
       "⎢           ⎛ 2    2⎞           ⎥\n",
       "⎣         π⋅⎝γ  + p ⎠           ⎦"
      ]
     },
     "execution_count": 130,
     "metadata": {},
     "output_type": "execute_result"
    }
   ],
   "source": [
    "sp.Matrix([v.subs(p_z,p_z) for v in \n",
    "    [\n",
    "        D[0, 0].subs([(p_z**2, p**2 - p_x**2 - p_y**2)]).simplify().factor(),\n",
    "        D[1, 0].simplify().factor(),\n",
    "        D[2, 0].simplify().factor(),\n",
    "    ]]\n",
    ")"
   ]
  },
  {
   "cell_type": "code",
   "execution_count": 109,
   "metadata": {},
   "outputs": [
    {
     "data": {
      "image/png": "[encoded data removed]",
      "text/latex": [
       "$\\displaystyle \\frac{48 \\sqrt{2} i \\gamma^{\\frac{7}{2}} p_{x} p_{y}}{\\pi \\left(\\gamma^{2} + p^{2}\\right)}$"
      ],
      "text/plain": [
       "         7/2       \n",
       "48⋅√2⋅ⅈ⋅γ   ⋅pₓ⋅p_y\n",
       "───────────────────\n",
       "      ⎛ 2    2⎞    \n",
       "    π⋅⎝γ  + p ⎠    "
      ]
     },
     "execution_count": 109,
     "metadata": {},
     "output_type": "execute_result"
    }
   ],
   "source": [
    "(D[1,0].subs([(p_z**2,p**2-p_x**2-p_y**2)])*(gamma**2+p**2)**3).simplify()/(gamma**2+p**2)**4"
   ]
  },
  {
   "cell_type": "code",
   "execution_count": 118,
   "metadata": {},
   "outputs": [
    {
     "data": {
      "image/png": "[encoded data removed]",
      "text/latex": [
       "$\\displaystyle \\frac{48 \\sqrt{2} i \\gamma^{\\frac{7}{2}} p_{x} p_{y}}{\\pi \\left(\\gamma^{2} + p^{2}\\right)^{4}}$"
      ],
      "text/plain": [
       "         7/2       \n",
       "48⋅√2⋅ⅈ⋅γ   ⋅pₓ⋅p_y\n",
       "───────────────────\n",
       "              4    \n",
       "     ⎛ 2    2⎞     \n",
       "   π⋅⎝γ  + p ⎠     "
      ]
     },
     "execution_count": 118,
     "metadata": {},
     "output_type": "execute_result"
    }
   ],
   "source": [
    "D[1,0].simplify().factor()"
   ]
  },
  {
   "cell_type": "code",
   "execution_count": 43,
   "metadata": {},
   "outputs": [
    {
     "data": {
      "text/plain": [
       "'Spherical transition dipole matrix elements: [d(2p_x), d(2p_y), d(2p_z)] = '"
      ]
     },
     "metadata": {},
     "output_type": "display_data"
    },
    {
     "data": {
      "text/latex": [
       "$\\displaystyle \\left[ \\left[\\begin{matrix}- \\frac{8 \\sqrt{2} i \\gamma^{\\frac{7}{2}} \\sin^{2}{\\left(\\phi \\right)}}{\\pi \\left(\\gamma^{2} + p^{2}\\right)^{3}} + \\frac{8 \\sqrt{2} i \\gamma^{\\frac{7}{2}} p_{x}^{2} \\left(- \\gamma^{2} + 5 p^{2}\\right)}{\\pi p^{2} \\left(\\gamma^{2} + p^{2}\\right)^{4}} - \\frac{8 \\sqrt{2} i \\gamma^{\\frac{7}{2}} p_{z}^{2} \\cos^{2}{\\left(\\phi \\right)}}{\\pi p^{2} \\left(\\gamma^{2} + p^{2}\\right)^{3}}\\\\\\frac{8 \\sqrt{2} i \\gamma^{\\frac{7}{2}} \\sin{\\left(\\phi \\right)} \\cos{\\left(\\phi \\right)}}{\\pi \\left(\\gamma^{2} + p^{2}\\right)^{3}} + \\frac{8 \\sqrt{2} i \\gamma^{\\frac{7}{2}} p_{x} p_{y} \\left(- \\gamma^{2} + 5 p^{2}\\right)}{\\pi p^{2} \\left(\\gamma^{2} + p^{2}\\right)^{4}} - \\frac{8 \\sqrt{2} i \\gamma^{\\frac{7}{2}} p_{z}^{2} \\sin{\\left(\\phi \\right)} \\cos{\\left(\\phi \\right)}}{\\pi p^{2} \\left(\\gamma^{2} + p^{2}\\right)^{3}}\\\\\\frac{8 \\sqrt{2} i \\gamma^{\\frac{7}{2}} p_{x} p_{z} \\left(- \\gamma^{2} + 5 p^{2}\\right)}{\\pi p^{2} \\left(\\gamma^{2} + p^{2}\\right)^{4}} + \\frac{8 \\sqrt{2} i \\gamma^{\\frac{7}{2}} p_{x} p_{z}}{\\pi p^{2} \\left(\\gamma^{2} + p^{2}\\right)^{3}}\\end{matrix}\\right], \\  \\left[\\begin{matrix}\\frac{8 \\sqrt{2} i \\gamma^{\\frac{7}{2}} \\sin{\\left(\\phi \\right)} \\cos{\\left(\\phi \\right)}}{\\pi \\left(\\gamma^{2} + p^{2}\\right)^{3}} + \\frac{8 \\sqrt{2} i \\gamma^{\\frac{7}{2}} p_{x} p_{y} \\left(- \\gamma^{2} + 5 p^{2}\\right)}{\\pi p^{2} \\left(\\gamma^{2} + p^{2}\\right)^{4}} - \\frac{8 \\sqrt{2} i \\gamma^{\\frac{7}{2}} p_{z}^{2} \\sin{\\left(\\phi \\right)} \\cos{\\left(\\phi \\right)}}{\\pi p^{2} \\left(\\gamma^{2} + p^{2}\\right)^{3}}\\\\- \\frac{8 \\sqrt{2} i \\gamma^{\\frac{7}{2}} \\cos^{2}{\\left(\\phi \\right)}}{\\pi \\left(\\gamma^{2} + p^{2}\\right)^{3}} + \\frac{8 \\sqrt{2} i \\gamma^{\\frac{7}{2}} p_{y}^{2} \\left(- \\gamma^{2} + 5 p^{2}\\right)}{\\pi p^{2} \\left(\\gamma^{2} + p^{2}\\right)^{4}} - \\frac{8 \\sqrt{2} i \\gamma^{\\frac{7}{2}} p_{z}^{2} \\sin^{2}{\\left(\\phi \\right)}}{\\pi p^{2} \\left(\\gamma^{2} + p^{2}\\right)^{3}}\\\\\\frac{8 \\sqrt{2} i \\gamma^{\\frac{7}{2}} p_{y} p_{z} \\left(- \\gamma^{2} + 5 p^{2}\\right)}{\\pi p^{2} \\left(\\gamma^{2} + p^{2}\\right)^{4}} + \\frac{8 \\sqrt{2} i \\gamma^{\\frac{7}{2}} p_{y} p_{z}}{\\pi p^{2} \\left(\\gamma^{2} + p^{2}\\right)^{3}}\\end{matrix}\\right], \\  \\left[\\begin{matrix}- \\frac{8 \\sqrt{2} i \\gamma^{\\frac{7}{2}} p_{x} p_{z} \\left(- \\gamma^{2} + 5 p^{2}\\right)}{\\pi p^{2} \\left(\\gamma^{2} + p^{2}\\right)^{4}} - \\frac{8 \\sqrt{2} i \\gamma^{\\frac{7}{2}} p_{x} p_{z}}{\\pi p^{2} \\left(\\gamma^{2} + p^{2}\\right)^{3}}\\\\- \\frac{8 \\sqrt{2} i \\gamma^{\\frac{7}{2}} p_{y} p_{z} \\left(- \\gamma^{2} + 5 p^{2}\\right)}{\\pi p^{2} \\left(\\gamma^{2} + p^{2}\\right)^{4}} - \\frac{8 \\sqrt{2} i \\gamma^{\\frac{7}{2}} p_{y} p_{z}}{\\pi p^{2} \\left(\\gamma^{2} + p^{2}\\right)^{3}}\\\\\\frac{8 \\sqrt{2} i \\gamma^{\\frac{7}{2}} \\sin^{2}{\\left(\\theta \\right)}}{\\pi \\left(\\gamma^{2} + p^{2}\\right)^{3}} - \\frac{8 \\sqrt{2} i \\gamma^{\\frac{7}{2}} p_{z}^{2} \\left(- \\gamma^{2} + 5 p^{2}\\right)}{\\pi p^{2} \\left(\\gamma^{2} + p^{2}\\right)^{4}}\\end{matrix}\\right]\\right]$"
      ],
      "text/plain": [
       "⎡⎡                7/2    2              7/2   2 ⎛   2      2⎞           7/2    ↪\n",
       "⎢⎢        8⋅√2⋅ⅈ⋅γ   ⋅sin (φ)   8⋅√2⋅ⅈ⋅γ   ⋅pₓ ⋅⎝- γ  + 5⋅p ⎠   8⋅√2⋅ⅈ⋅γ   ⋅p_ ↪\n",
       "⎢⎢      - ─────────────────── + ───────────────────────────── - ────────────── ↪\n",
       "⎢⎢                      3                            4                         ↪\n",
       "⎢⎢             ⎛ 2    2⎞                  2 ⎛ 2    2⎞                  2 ⎛ 2   ↪\n",
       "⎢⎢           π⋅⎝γ  + p ⎠               π⋅p ⋅⎝γ  + p ⎠               π⋅p ⋅⎝γ  + ↪\n",
       "⎢⎢                                                                             ↪\n",
       "⎢⎢        7/2                         7/2        ⎛   2      2⎞           7/2   ↪\n",
       "⎢⎢8⋅√2⋅ⅈ⋅γ   ⋅sin(φ)⋅cos(φ)   8⋅√2⋅ⅈ⋅γ   ⋅pₓ⋅p_y⋅⎝- γ  + 5⋅p ⎠   8⋅√2⋅ⅈ⋅γ   ⋅p ↪\n",
       "⎢⎢───────────────────────── + ──────────────────────────────── - ───────────── ↪\n",
       "⎢⎢                 3                                4                          ↪\n",
       "⎢⎢        ⎛ 2    2⎞                      2 ⎛ 2    2⎞                       2 ⎛ ↪\n",
       "⎢⎢      π⋅⎝γ  + p ⎠                   π⋅p ⋅⎝γ  + p ⎠                    π⋅p ⋅⎝ ↪\n",
       "⎢⎢                                                                             ↪\n",
       "⎢⎢                            7/2        ⎛   2      2⎞           7/2           ↪\n",
       "⎢⎢                    8⋅√2⋅ⅈ⋅γ   ⋅pₓ⋅p_z⋅⎝- γ  + 5⋅p ⎠   8⋅√2⋅ⅈ⋅γ   ⋅pₓ⋅p_z    ↪\n",
       "⎢⎢                    ──────────────────────────────── + ──────────────────    ↪\n",
       "⎢⎢                                          4                           3      ↪\n",
       "⎢⎢                               2 ⎛ 2    2⎞                 2 ⎛ 2    2⎞       ↪\n",
       "⎣⎣                            π⋅p ⋅⎝γ  + p ⎠              π⋅p ⋅⎝γ  + p ⎠       ↪\n",
       "\n",
       "↪  2    2          ⎤  ⎡        7/2                         7/2        ⎛   2    ↪\n",
       "↪ z ⋅cos (φ)       ⎥  ⎢8⋅√2⋅ⅈ⋅γ   ⋅sin(φ)⋅cos(φ)   8⋅√2⋅ⅈ⋅γ   ⋅pₓ⋅p_y⋅⎝- γ  +  ↪\n",
       "↪ ──────────       ⎥  ⎢───────────────────────── + ─────────────────────────── ↪\n",
       "↪     3            ⎥  ⎢                 3                                4     ↪\n",
       "↪   2⎞             ⎥  ⎢        ⎛ 2    2⎞                      2 ⎛ 2    2⎞      ↪\n",
       "↪  p ⎠             ⎥  ⎢      π⋅⎝γ  + p ⎠                   π⋅p ⋅⎝γ  + p ⎠      ↪\n",
       "↪                  ⎥  ⎢                                                        ↪\n",
       "↪   2              ⎥  ⎢                7/2    2              7/2    2 ⎛   2    ↪\n",
       "↪ _z ⋅sin(φ)⋅cos(φ)⎥  ⎢        8⋅√2⋅ⅈ⋅γ   ⋅cos (φ)   8⋅√2⋅ⅈ⋅γ   ⋅p_y ⋅⎝- γ  +  ↪\n",
       "↪ ─────────────────⎥  ⎢      - ─────────────────── + ───────────────────────── ↪\n",
       "↪         3        ⎥, ⎢                      3                            4    ↪\n",
       "↪  2    2⎞         ⎥  ⎢             ⎛ 2    2⎞                  2 ⎛ 2    2⎞     ↪\n",
       "↪ γ  + p ⎠         ⎥  ⎢           π⋅⎝γ  + p ⎠               π⋅p ⋅⎝γ  + p ⎠     ↪\n",
       "↪                  ⎥  ⎢                                                        ↪\n",
       "↪                  ⎥  ⎢                           7/2         ⎛   2      2⎞    ↪\n",
       "↪                  ⎥  ⎢                   8⋅√2⋅ⅈ⋅γ   ⋅p_y⋅p_z⋅⎝- γ  + 5⋅p ⎠    ↪\n",
       "↪                  ⎥  ⎢                   ───────────────────────────────── +  ↪\n",
       "↪                  ⎥  ⎢                                          4             ↪\n",
       "↪                  ⎥  ⎢                               2 ⎛ 2    2⎞              ↪\n",
       "↪                  ⎦  ⎣                            π⋅p ⋅⎝γ  + p ⎠              ↪\n",
       "\n",
       "↪    2⎞           7/2    2              ⎤  ⎡           7/2        ⎛   2      2 ↪\n",
       "↪ 5⋅p ⎠   8⋅√2⋅ⅈ⋅γ   ⋅p_z ⋅sin(φ)⋅cos(φ)⎥  ⎢   8⋅√2⋅ⅈ⋅γ   ⋅pₓ⋅p_z⋅⎝- γ  + 5⋅p  ↪\n",
       "↪ ───── - ──────────────────────────────⎥  ⎢ - ─────────────────────────────── ↪\n",
       "↪                              3        ⎥  ⎢                         4         ↪\n",
       "↪                   2 ⎛ 2    2⎞         ⎥  ⎢              2 ⎛ 2    2⎞          ↪\n",
       "↪                π⋅p ⋅⎝γ  + p ⎠         ⎥  ⎢           π⋅p ⋅⎝γ  + p ⎠          ↪\n",
       "↪                                       ⎥  ⎢                                   ↪\n",
       "↪    2⎞           7/2    2    2         ⎥  ⎢          7/2         ⎛   2      2 ↪\n",
       "↪ 5⋅p ⎠   8⋅√2⋅ⅈ⋅γ   ⋅p_z ⋅sin (φ)      ⎥  ⎢  8⋅√2⋅ⅈ⋅γ   ⋅p_y⋅p_z⋅⎝- γ  + 5⋅p  ↪\n",
       "↪ ───── - ────────────────────────      ⎥  ⎢- ──────────────────────────────── ↪\n",
       "↪                           3           ⎥, ⎢                         4         ↪\n",
       "↪                2 ⎛ 2    2⎞            ⎥  ⎢              2 ⎛ 2    2⎞          ↪\n",
       "↪             π⋅p ⋅⎝γ  + p ⎠            ⎥  ⎢           π⋅p ⋅⎝γ  + p ⎠          ↪\n",
       "↪                                       ⎥  ⎢                                   ↪\n",
       "↪         7/2                           ⎥  ⎢          7/2    2              7/ ↪\n",
       "↪ 8⋅√2⋅ⅈ⋅γ   ⋅p_y⋅p_z                   ⎥  ⎢  8⋅√2⋅ⅈ⋅γ   ⋅sin (θ)   8⋅√2⋅ⅈ⋅γ   ↪\n",
       "↪ ───────────────────                   ⎥  ⎢  ─────────────────── - ────────── ↪\n",
       "↪                 3                     ⎥  ⎢                3                  ↪\n",
       "↪      2 ⎛ 2    2⎞                      ⎥  ⎢       ⎛ 2    2⎞                   ↪\n",
       "↪   π⋅p ⋅⎝γ  + p ⎠                      ⎦  ⎣     π⋅⎝γ  + p ⎠               π⋅p ↪\n",
       "\n",
       "↪ ⎞           7/2        ⎤⎤\n",
       "↪ ⎠   8⋅√2⋅ⅈ⋅γ   ⋅pₓ⋅p_z ⎥⎥\n",
       "↪ ─ - ────────────────── ⎥⎥\n",
       "↪                    3   ⎥⎥\n",
       "↪         2 ⎛ 2    2⎞    ⎥⎥\n",
       "↪      π⋅p ⋅⎝γ  + p ⎠    ⎥⎥\n",
       "↪                        ⎥⎥\n",
       "↪ ⎞           7/2        ⎥⎥\n",
       "↪ ⎠   8⋅√2⋅ⅈ⋅γ   ⋅p_y⋅p_z⎥⎥\n",
       "↪ ─ - ───────────────────⎥⎥\n",
       "↪                     3  ⎥⎥\n",
       "↪          2 ⎛ 2    2⎞   ⎥⎥\n",
       "↪       π⋅p ⋅⎝γ  + p ⎠   ⎥⎥\n",
       "↪                        ⎥⎥\n",
       "↪ 2    2 ⎛   2      2⎞   ⎥⎥\n",
       "↪  ⋅p_z ⋅⎝- γ  + 5⋅p ⎠   ⎥⎥\n",
       "↪ ────────────────────   ⎥⎥\n",
       "↪            4           ⎥⎥\n",
       "↪ 2 ⎛ 2    2⎞            ⎥⎥\n",
       "↪  ⋅⎝γ  + p ⎠            ⎦⎦"
      ]
     },
     "execution_count": 43,
     "metadata": {},
     "output_type": "execute_result"
    }
   ],
   "source": [
    "# Transition dipole matrix elements (spherical coordinates)\n",
    "display(\"Spherical transition dipole matrix elements: [d(2p_x), d(2p_y), d(2p_z)] = \")\n",
    "[(spherical_to_cartesian_matrix*transition_dipole_spherical(u)).subs([(sin_theta*cos_phi, p_x/p), (sin_theta*sin_phi, p_y/p), (cos_theta, p_z/p)]) for u in [U2px, U2py, U2pz]]"
   ]
  },
  {
   "cell_type": "code",
   "execution_count": 20,
   "metadata": {},
   "outputs": [
    {
     "data": {
      "text/plain": [
       "'Cartesian transition dipole matrix elements: [d(2p_x), d(2p_y), d(2p_z)] = '"
      ]
     },
     "metadata": {},
     "output_type": "display_data"
    },
    {
     "data": {
      "text/latex": [
       "$\\displaystyle \\left[ \\left[\\begin{matrix}\\frac{8 \\sqrt{2} i \\gamma^{\\frac{7}{2}} \\left(p_{x}^{2} \\left(- \\gamma^{2} + 5 p^{2}\\right) + p_{y}^{2} \\left(- \\gamma^{2} - p^{2}\\right)\\right)}{\\pi p^{2} \\left(\\gamma^{2} + p^{2}\\right)^{4}}\\\\\\frac{48 \\sqrt{2} i \\gamma^{\\frac{7}{2}} p_{x} p_{y}}{\\pi \\left(\\gamma^{2} + p^{2}\\right)^{4}}\\\\0\\end{matrix}\\right], \\  \\left[\\begin{matrix}\\frac{48 \\sqrt{2} i \\gamma^{\\frac{7}{2}} p_{x} p_{y}}{\\pi \\left(\\gamma^{2} + p^{2}\\right)^{4}}\\\\- \\frac{8 \\sqrt{2} i \\gamma^{\\frac{7}{2}} \\left(p_{x}^{2} \\left(\\gamma^{2} + p^{2}\\right) + p_{y}^{2} \\left(\\gamma^{2} - 5 p^{2}\\right)\\right)}{\\pi p^{2} \\left(\\gamma^{2} + p^{2}\\right)^{4}}\\\\0\\end{matrix}\\right], \\  \\left[\\begin{matrix}0\\\\0\\\\\\frac{8 \\sqrt{2} i \\gamma^{\\frac{7}{2}}}{\\pi \\left(\\gamma^{2} + p^{2}\\right)^{3}}\\end{matrix}\\right]\\right]$"
      ],
      "text/plain": [
       "⎡⎡        7/2 ⎛  2 ⎛   2      2⎞      2 ⎛   2    2⎞⎞⎤  ⎡                       ↪\n",
       "⎢⎢8⋅√2⋅ⅈ⋅γ   ⋅⎝pₓ ⋅⎝- γ  + 5⋅p ⎠ + p_y ⋅⎝- γ  - p ⎠⎠⎥  ⎢              48⋅√2⋅ⅈ⋅ ↪\n",
       "⎢⎢──────────────────────────────────────────────────⎥  ⎢              ──────── ↪\n",
       "⎢⎢                               4                  ⎥  ⎢                       ↪\n",
       "⎢⎢                    2 ⎛ 2    2⎞                   ⎥  ⎢                   ⎛ 2 ↪\n",
       "⎢⎢                 π⋅p ⋅⎝γ  + p ⎠                   ⎥  ⎢                 π⋅⎝γ  ↪\n",
       "⎢⎢                                                  ⎥  ⎢                       ↪\n",
       "⎢⎢                        7/2                       ⎥, ⎢         7/2 ⎛  2 ⎛ 2  ↪\n",
       "⎢⎢               48⋅√2⋅ⅈ⋅γ   ⋅pₓ⋅p_y                ⎥  ⎢-8⋅√2⋅ⅈ⋅γ   ⋅⎝pₓ ⋅⎝γ   ↪\n",
       "⎢⎢               ───────────────────                ⎥  ⎢────────────────────── ↪\n",
       "⎢⎢                             4                    ⎥  ⎢                       ↪\n",
       "⎢⎢                    ⎛ 2    2⎞                     ⎥  ⎢                   2 ⎛ ↪\n",
       "⎢⎢                  π⋅⎝γ  + p ⎠                     ⎥  ⎢                π⋅p ⋅⎝ ↪\n",
       "⎢⎢                                                  ⎥  ⎢                       ↪\n",
       "⎣⎣                        0                         ⎦  ⎣                       ↪\n",
       "\n",
       "↪  7/2                      ⎤                ⎤\n",
       "↪ γ   ⋅pₓ⋅p_y               ⎥                ⎥\n",
       "↪ ───────────               ⎥  ⎡     0      ⎤⎥\n",
       "↪       4                   ⎥  ⎢            ⎥⎥\n",
       "↪     2⎞                    ⎥  ⎢     0      ⎥⎥\n",
       "↪  + p ⎠                    ⎥  ⎢            ⎥⎥\n",
       "↪                           ⎥  ⎢        7/2 ⎥⎥\n",
       "↪    2⎞      2 ⎛ 2      2⎞⎞ ⎥, ⎢8⋅√2⋅ⅈ⋅γ    ⎥⎥\n",
       "↪ + p ⎠ + p_y ⋅⎝γ  - 5⋅p ⎠⎠ ⎥  ⎢────────────⎥⎥\n",
       "↪ ──────────────────────────⎥  ⎢           3⎥⎥\n",
       "↪         4                 ⎥  ⎢  ⎛ 2    2⎞ ⎥⎥\n",
       "↪  2    2⎞                  ⎥  ⎣π⋅⎝γ  + p ⎠ ⎦⎥\n",
       "↪ γ  + p ⎠                  ⎥                ⎥\n",
       "↪                           ⎥                ⎥\n",
       "↪  0                        ⎦                ⎦"
      ]
     },
     "metadata": {},
     "output_type": "display_data"
    }
   ],
   "source": [
    "# Transition dipole matrix elements (Cartesian co-ordinates)\n",
    "display(\n",
    "    \"Cartesian transition dipole matrix elements: [d(2p_x), d(2p_y), d(2p_z)] = \",\n",
    "    [spherical_to_cartesian(d) for d in _],\n",
    ")"
   ]
  }
 ],
 "metadata": {
  "kernelspec": {
   "display_name": ".venv",
   "language": "python",
   "name": "python3"
  },
  "language_info": {
   "codemirror_mode": {
    "name": "ipython",
    "version": 3
   },
   "file_extension": ".py",
   "mimetype": "text/x-python",
   "name": "python",
   "nbconvert_exporter": "python",
   "pygments_lexer": "ipython3",
   "version": "3.13.5"
  },
  "toc-autonumbering": true,
  "toc-showcode": false,
  "toc-showmarkdowntxt": false,
  "toc-showtags": false
 },
 "nbformat": 4,
 "nbformat_minor": 4
}
