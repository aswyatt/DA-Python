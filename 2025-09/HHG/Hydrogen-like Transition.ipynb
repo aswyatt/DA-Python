{
 "cells": [
  {
   "cell_type": "markdown",
   "metadata": {},
   "source": [
    "<h1>Calculation of Dipole Transition Matrix Elements for Hydrogen-like Orbitals</h1>\n",
    "<h2>Background</h2>\n",
    "<h3>High Harmonic Generation</h3>\n",
    "\n",
    "According to the Lewenstein model [1], we can calculate the dipole moment as\n",
    "$$\\vec{x}(t_r) \\simeq 2\\mathbb{R}\\left\\{\\int_{t_i}^{t_r} \\mathrm{d}t\\, \n",
    "\\vec{d}^\\ast\\left(\\vec{p}_{st} + \\vec{A}(t_r)\\right)\n",
    "e^{-iS(\\vec{p}_{st}, t_r, t_i)}\n",
    "\\left[\\vec{E}(t_i)\\cdot\\vec{d}\\left(\\vec{p}_{st}+\\vec{A}(t_i)\\right)\\right]\\right\\}.$$\n",
    "\n",
    "The dipole transition matrix elements can be calculated using\n",
    "$$\\vec{d}(\\psi_f, \\psi_i) = \\langle\\psi_f|\\vec{r}|\\psi_i\\rangle.$$\n",
    "\n",
    "Under the strong-field approximation, we replace the final state as that of a plane wave with asymptotic momentum $\\vec{p}$, yielding\n",
    "$$\\begin{matrix}\n",
    "\\vec{d}(\\vec{p}) & \\simeq & \\int \\mathrm{d}\\vec{r}\\, e^{-i\\vec{p}\\cdot\\vec{r}}\\vec{r}\\psi_0(\\vec{r})\\\\\n",
    "& = & i\\nabla\\tilde{\\phi_0}(\\vec{p})\n",
    "\\end{matrix}.$$\n",
    "Thus we can approximate the dipole transition matrix elements using the gradient of the ground-state orbital in momentum space.\n",
    "\n",
    "<h3>Hydrogen-like Orbitals</h3>\n",
    "\n",
    "The momentum distribution of a hydrogen-like orbital in spherical co-ordinates is given as [2]\n",
    "$$\n",
    "\\varUpsilon_{nlm}\\left(p, \\theta,\\phi\\right) = \n",
    "\\frac{\\pi 2^{2l+4} l!}{\\left(2\\pi\\gamma\\right)^{3/2}}\n",
    "\\sqrt{\\frac{n(n-l-1)!}{(n+l)!}}\n",
    "\\frac{\\zeta^l}{(\\zeta^2+1)^{l+2}} C_{n-l-1}^{l+1}\\left(\\frac{\\zeta^2-1}{\\zeta^2+1}\\right)Z_l^m(\\theta, \\phi),\n",
    "$$\n",
    "whereby I have used the real forms of the spherical harmonics:\n",
    "$$\n",
    "Z_n^m(\\theta, \\phi) = \\left\\{\n",
    "\\begin{array}\\\\\n",
    "\\frac{1}{\\sqrt{2}}\\left[Y_n^m(\\theta, \\phi) + \\overline{Y_n^m}(\\theta, \\phi)\\right] & \\mbox{if } m>0\\\\\n",
    "Y_n^m(\\theta, \\phi) & \\mbox{if } m=0\\\\\n",
    "\\frac{1}{i\\sqrt{2}}\\left[Y_n^m(\\theta, \\phi) - \\overline{Y_n^m}(\\theta, \\phi)\\right] & \\mbox{if } m<0\n",
    "\\end{array}\n",
    "\\right.\n",
    "$$\n",
    "\n",
    "For s-orbitals, $l=m=0$ and for p-orbitals, $l=1$ and $m=\\{-1, 0, 1\\}$. For the real orbitals defined above, $m=1$ results in the $np_x$ orbital, $m=-1$ gives the $np_y$ orbital and $m=0$ gives the $np_z$ orbital whereby the subscript is the \"axis of revolution\" of the radial function.\n",
    "\n",
    "<ol>\n",
    "    <li>M. Lewenstein et al., Theory of high-harmonic generation by low-frequency laser fields. Phys. Rev. A. 49, 2117–2132 (1994).</li>\n",
    "    <li>B. Podolsky, L. Pauling, The momentum distribution in hydrogen-like atoms. Phys. Rev. 34, 109–116 (1929).</li>\n",
    "</ol>\n"
   ]
  },
  {
   "cell_type": "code",
   "execution_count": 1,
   "metadata": {},
   "outputs": [],
   "source": [
    "from sympy import *\n",
    "\n",
    "init_printing(use_latex=True)\n",
    "\n",
    "#n = Symbol(\"n\", positive=True, integer=True)\n",
    "#l = Symbol(\"l\", nonegative=True, integer=True)\n",
    "#m = Symbol(\"n\", integer=True)\n",
    "p = Symbol(\"p\", positive=True)\n",
    "theta = Symbol(\"theta\", real=True)\n",
    "phi = Symbol(\"phi\", real=True)\n",
    "Ip = Symbol(\"I_p\", positive=True)\n",
    "gamma = Symbol(\"gamma\", positive=True)"
   ]
  },
  {
   "cell_type": "markdown",
   "metadata": {},
   "source": [
    "<h2>Rotation Matrix</h2>\n",
    "Convert from Spherical to Cartesian vector. Note R<sup>-1</sup> = R<sup>T</sup>, but I've calculated the inverse of R<sub>C&rarr;S</sub>."
   ]
  },
  {
   "cell_type": "code",
   "execution_count": 2,
   "metadata": {},
   "outputs": [
    {
     "data": {
      "text/plain": [
       "'Rotation matrix (Cartesian --> Spherical):'"
      ]
     },
     "metadata": {},
     "output_type": "display_data"
    },
    {
     "data": {
      "text/latex": [
       "$\\displaystyle \\left[\\begin{matrix}\\sin{\\left(\\theta \\right)} \\cos{\\left(\\phi \\right)} & \\sin{\\left(\\phi \\right)} \\sin{\\left(\\theta \\right)} & \\cos{\\left(\\theta \\right)}\\\\\\cos{\\left(\\phi \\right)} \\cos{\\left(\\theta \\right)} & \\sin{\\left(\\phi \\right)} \\cos{\\left(\\theta \\right)} & - \\sin{\\left(\\theta \\right)}\\\\- \\sin{\\left(\\phi \\right)} & \\cos{\\left(\\phi \\right)} & 0\\end{matrix}\\right]$"
      ],
      "text/plain": [
       "⎡sin(θ)⋅cos(φ)  sin(φ)⋅sin(θ)  cos(θ) ⎤\n",
       "⎢                                     ⎥\n",
       "⎢cos(φ)⋅cos(θ)  sin(φ)⋅cos(θ)  -sin(θ)⎥\n",
       "⎢                                     ⎥\n",
       "⎣   -sin(φ)        cos(φ)         0   ⎦"
      ]
     },
     "metadata": {},
     "output_type": "display_data"
    },
    {
     "data": {
      "text/plain": [
       "'Rotation matrix (Spherical --> Cartesian):'"
      ]
     },
     "metadata": {},
     "output_type": "display_data"
    },
    {
     "data": {
      "text/latex": [
       "$\\displaystyle \\left[\\begin{matrix}\\sin{\\left(\\theta \\right)} \\cos{\\left(\\phi \\right)} & \\cos{\\left(\\phi \\right)} \\cos{\\left(\\theta \\right)} & - \\sin{\\left(\\phi \\right)}\\\\\\sin{\\left(\\phi \\right)} \\sin{\\left(\\theta \\right)} & \\sin{\\left(\\phi \\right)} \\cos{\\left(\\theta \\right)} & \\cos{\\left(\\phi \\right)}\\\\\\cos{\\left(\\theta \\right)} & - \\sin{\\left(\\theta \\right)} & 0\\end{matrix}\\right]$"
      ],
      "text/plain": [
       "⎡sin(θ)⋅cos(φ)  cos(φ)⋅cos(θ)  -sin(φ)⎤\n",
       "⎢                                     ⎥\n",
       "⎢sin(φ)⋅sin(θ)  sin(φ)⋅cos(θ)  cos(φ) ⎥\n",
       "⎢                                     ⎥\n",
       "⎣   cos(θ)         -sin(θ)        0   ⎦"
      ]
     },
     "metadata": {},
     "output_type": "display_data"
    }
   ],
   "source": [
    "R = Matrix([[sin(theta)*cos(phi), sin(theta)*sin(phi), cos(theta)],\n",
    "       [cos(theta)*cos(phi), cos(theta)*sin(phi), -sin(theta)],\n",
    "       [-sin(phi), cos(phi), 0]])\n",
    "display(\"Rotation matrix (Cartesian --> Spherical):\", R)\n",
    "R = simplify(R.inv())\n",
    "display(\"Rotation matrix (Spherical --> Cartesian):\", R)"
   ]
  },
  {
   "cell_type": "markdown",
   "metadata": {},
   "source": [
    "<h2>Hydrogen-like Orbital</h2>\n",
    "\n",
    "Define hydrogen-like orbital in spherical momentum space"
   ]
  },
  {
   "cell_type": "code",
   "execution_count": 3,
   "metadata": {},
   "outputs": [],
   "source": [
    "def Dipole(n, l, m, px=Symbol(\"p_x\", real=True), py=Symbol(\"p_y\", real=True)):\n",
    "    # Define some parameters\n",
    "    #gamma = sqrt(2*Ip)\n",
    "    zeta = p/gamma\n",
    "    Upsilon = (2**(2*l+4) * factorial(l) / (sqrt(pi)*(2*gamma)**Rational(3/2)) \\\n",
    "        * sqrt(n*factorial(n-l-1)/factorial(n+l)) \\\n",
    "        * (zeta**l/(zeta**2+1)**(l+2))*gegenbauer(n-l-1, l+1, (zeta**2-1)/(zeta**2+1)) \\\n",
    "        * Znm(l, m, theta, phi)).subs(zeta, p/gamma)\n",
    "    \n",
    "    # Hydrogen-like orbital\n",
    "    Upsilon = simplify(expand_func(Upsilon))\n",
    "    \n",
    "    # Dipole transition matrix element (in spherical co-ordinates)\n",
    "    Spherical = Matrix([diff(Upsilon, p),\n",
    "        diff(Upsilon, theta)/p,\n",
    "        diff(Upsilon, phi)/(p*sin(theta))])\n",
    "    \n",
    "    # Convert to Cartesian co-ordinates\n",
    "    Cartesian = R*Spherical\n",
    "    \n",
    "    # Substitute theta, phi\n",
    "    #Upsilon = simplify(factor(Upsilon.subs([(theta, pi/2), (cos(phi), px/p), (sin(phi), py/p)])))\n",
    "    Spherical = Matrix([simplify(factor(d.subs([(theta, pi/2), (cos(phi), px/p), (sin(phi), py/p)]))) for d in Spherical])\n",
    "    Cartesian = Matrix([simplify(factor(d.subs([(theta, pi/2), (cos(phi), px/p), (sin(phi), py/p)]))) for d in Cartesian])\n",
    "    Cartesian[0] = Cartesian[0].replace(py**2, p**2-px**2).simplify().factor().collect(px)\n",
    "    Cartesian[1] = Cartesian[1].replace(px**2, p**2-py**2).simplify().factor().collect(py)\n",
    "    return Cartesian, Spherical, Upsilon"
   ]
  },
  {
   "cell_type": "markdown",
   "metadata": {},
   "source": [
    "<h2>Dipole Transition Matrix Elements</h2>\n",
    "\n",
    "Note for $l>0$, $m=0$ and $\\vec{E}=\\alpha\\hat{x} + \\beta\\hat{y}$ we find $\\vec{d}_\\vec{p} = \\gamma\\hat{z}$ and thus $\\vec{E}\\cdot\\vec{d}_\\vec{p}=0$ so that this component can be neglected.\n",
    "\n",
    "For example, here are the results for the $2p_z$ orbital:"
   ]
  },
  {
   "cell_type": "code",
   "execution_count": 4,
   "metadata": {},
   "outputs": [
    {
     "data": {
      "text/plain": [
       "'2p_z orbital:'"
      ]
     },
     "metadata": {},
     "output_type": "display_data"
    },
    {
     "data": {
      "image/png": "[encoded data removed]",
      "text/latex": [
       "$\\displaystyle \\frac{8 \\sqrt{2} \\gamma^{\\frac{7}{2}} p \\cos{\\left(\\theta \\right)}}{\\pi \\left(\\gamma^{2} + p^{2}\\right)^{3}}$"
      ],
      "text/plain": [
       "      7/2         \n",
       "8⋅√2⋅γ   ⋅p⋅cos(θ)\n",
       "──────────────────\n",
       "              3   \n",
       "     ⎛ 2    2⎞    \n",
       "   π⋅⎝γ  + p ⎠    "
      ]
     },
     "metadata": {},
     "output_type": "display_data"
    },
    {
     "data": {
      "text/plain": [
       "'2p_z Transition (p, theta, phi):'"
      ]
     },
     "metadata": {},
     "output_type": "display_data"
    },
    {
     "data": {
      "text/latex": [
       "$\\displaystyle \\left[\\begin{matrix}0\\\\- \\frac{8 \\sqrt{2} \\gamma^{\\frac{7}{2}}}{\\pi \\left(\\gamma^{2} + p^{2}\\right)^{3}}\\\\0\\end{matrix}\\right]$"
      ],
      "text/plain": [
       "⎡     0      ⎤\n",
       "⎢            ⎥\n",
       "⎢       7/2  ⎥\n",
       "⎢-8⋅√2⋅γ     ⎥\n",
       "⎢────────────⎥\n",
       "⎢           3⎥\n",
       "⎢  ⎛ 2    2⎞ ⎥\n",
       "⎢π⋅⎝γ  + p ⎠ ⎥\n",
       "⎢            ⎥\n",
       "⎣     0      ⎦"
      ]
     },
     "metadata": {},
     "output_type": "display_data"
    },
    {
     "data": {
      "text/plain": [
       "'2p_z Transition (x, y, z):'"
      ]
     },
     "metadata": {},
     "output_type": "display_data"
    },
    {
     "data": {
      "text/latex": [
       "$\\displaystyle \\left[\\begin{matrix}0\\\\0\\\\\\frac{8 \\sqrt{2} \\gamma^{\\frac{7}{2}}}{\\pi \\left(\\gamma^{2} + p^{2}\\right)^{3}}\\end{matrix}\\right]$"
      ],
      "text/plain": [
       "⎡     0      ⎤\n",
       "⎢            ⎥\n",
       "⎢     0      ⎥\n",
       "⎢            ⎥\n",
       "⎢       7/2  ⎥\n",
       "⎢ 8⋅√2⋅γ     ⎥\n",
       "⎢────────────⎥\n",
       "⎢           3⎥\n",
       "⎢  ⎛ 2    2⎞ ⎥\n",
       "⎣π⋅⎝γ  + p ⎠ ⎦"
      ]
     },
     "metadata": {},
     "output_type": "display_data"
    }
   ],
   "source": [
    "DC, DS, U = Dipole(2,1,0)\n",
    "display(\"2p_z orbital:\", U, \"2p_z Transition (p, theta, phi):\", DS, \"2p_z Transition (x, y, z):\", DC)"
   ]
  },
  {
   "cell_type": "markdown",
   "metadata": {},
   "source": [
    "In the results below, the dipole transition matrix element vector is given in Cartesian co-ordinates (left) and spherical co-ordinates (right) for a given orbital.\n",
    "\n",
    "<h3>Linear Polarisation</h3>\n",
    "\n",
    "$$\n",
    "\\vec{E} = E_0f(t)\\cos(\\omega t)\\hat{x}\\\\\n",
    "\\vec{p} = p\\hat{x}\n",
    "$$"
   ]
  },
  {
   "cell_type": "code",
   "execution_count": 5,
   "metadata": {},
   "outputs": [
    {
     "data": {
      "text/latex": [
       "$\\displaystyle \\left[\\begin{matrix}\\frac{32 \\gamma^{\\frac{9}{2}} p \\left(- \\gamma^{2} + 3 p^{2}\\right)}{\\pi \\left(\\gamma^{2} + p^{2}\\right)^{5}}\\\\0\\\\0\\end{matrix}\\right]$"
      ],
      "text/plain": [
       "⎡    9/2   ⎛   2      2⎞⎤\n",
       "⎢32⋅γ   ⋅p⋅⎝- γ  + 3⋅p ⎠⎥\n",
       "⎢───────────────────────⎥\n",
       "⎢                5      ⎥\n",
       "⎢       ⎛ 2    2⎞       ⎥\n",
       "⎢     π⋅⎝γ  + p ⎠       ⎥\n",
       "⎢                       ⎥\n",
       "⎢           0           ⎥\n",
       "⎢                       ⎥\n",
       "⎣           0           ⎦"
      ]
     },
     "execution_count": 5,
     "metadata": {},
     "output_type": "execute_result"
    }
   ],
   "source": [
    "Dipole(3,2,0,p,0)[0]"
   ]
  },
  {
   "cell_type": "code",
   "execution_count": 6,
   "metadata": {},
   "outputs": [
    {
     "data": {
      "text/latex": [
       "$\\displaystyle \\left[ \\left[\\begin{matrix}x\\\\y\\\\z\\end{matrix}\\right], \\  \\left[\\begin{matrix}p\\\\\\theta\\\\\\phi\\end{matrix}\\right]\\right]$"
      ],
      "text/plain": [
       "⎡⎡x⎤  ⎡p⎤⎤\n",
       "⎢⎢ ⎥  ⎢ ⎥⎥\n",
       "⎢⎢y⎥, ⎢θ⎥⎥\n",
       "⎢⎢ ⎥  ⎢ ⎥⎥\n",
       "⎣⎣z⎦  ⎣φ⎦⎦"
      ]
     },
     "metadata": {},
     "output_type": "display_data"
    },
    {
     "data": {
      "text/plain": [
       "'========================================'"
      ]
     },
     "metadata": {},
     "output_type": "display_data"
    },
    {
     "data": {
      "text/plain": [
       "['n=1', 'l=0', 'm=0']"
      ]
     },
     "metadata": {},
     "output_type": "display_data"
    },
    {
     "data": {
      "text/latex": [
       "$\\displaystyle \\left[ \\left[\\begin{matrix}- \\frac{8 \\sqrt{2} \\gamma^{\\frac{5}{2}} p}{\\pi \\left(\\gamma^{2} + p^{2}\\right)^{3}}\\\\0\\\\0\\end{matrix}\\right], \\  \\left[\\begin{matrix}- \\frac{8 \\sqrt{2} \\gamma^{\\frac{5}{2}} p}{\\pi \\left(\\gamma^{2} + p^{2}\\right)^{3}}\\\\0\\\\0\\end{matrix}\\right]\\right]$"
      ],
      "text/plain": [
       "⎡⎡       5/2   ⎤  ⎡       5/2   ⎤⎤\n",
       "⎢⎢-8⋅√2⋅γ   ⋅p ⎥  ⎢-8⋅√2⋅γ   ⋅p ⎥⎥\n",
       "⎢⎢─────────────⎥  ⎢─────────────⎥⎥\n",
       "⎢⎢           3 ⎥  ⎢           3 ⎥⎥\n",
       "⎢⎢  ⎛ 2    2⎞  ⎥  ⎢  ⎛ 2    2⎞  ⎥⎥\n",
       "⎢⎢π⋅⎝γ  + p ⎠  ⎥, ⎢π⋅⎝γ  + p ⎠  ⎥⎥\n",
       "⎢⎢             ⎥  ⎢             ⎥⎥\n",
       "⎢⎢      0      ⎥  ⎢      0      ⎥⎥\n",
       "⎢⎢             ⎥  ⎢             ⎥⎥\n",
       "⎣⎣      0      ⎦  ⎣      0      ⎦⎦"
      ]
     },
     "metadata": {},
     "output_type": "display_data"
    },
    {
     "data": {
      "text/plain": [
       "'========================================'"
      ]
     },
     "metadata": {},
     "output_type": "display_data"
    },
    {
     "data": {
      "text/plain": [
       "['n=2', 'l=0', 'm=0']"
      ]
     },
     "metadata": {},
     "output_type": "display_data"
    },
    {
     "data": {
      "text/latex": [
       "$\\displaystyle \\left[ \\left[\\begin{matrix}- \\frac{16 \\sqrt{2} \\gamma^{\\frac{5}{2}} p \\left(- 2 \\gamma^{2} + p^{2}\\right)}{\\pi \\left(\\gamma^{2} + p^{2}\\right)^{4}}\\\\0\\\\0\\end{matrix}\\right], \\  \\left[\\begin{matrix}\\frac{16 \\sqrt{2} \\gamma^{\\frac{5}{2}} p \\left(2 \\gamma^{2} - p^{2}\\right)}{\\pi \\left(\\gamma^{2} + p^{2}\\right)^{4}}\\\\0\\\\0\\end{matrix}\\right]\\right]$"
      ],
      "text/plain": [
       "⎡⎡        5/2   ⎛     2    2⎞ ⎤  ⎡       5/2   ⎛   2    2⎞⎤⎤\n",
       "⎢⎢-16⋅√2⋅γ   ⋅p⋅⎝- 2⋅γ  + p ⎠ ⎥  ⎢16⋅√2⋅γ   ⋅p⋅⎝2⋅γ  - p ⎠⎥⎥\n",
       "⎢⎢────────────────────────────⎥  ⎢────────────────────────⎥⎥\n",
       "⎢⎢                   4        ⎥  ⎢                 4      ⎥⎥\n",
       "⎢⎢          ⎛ 2    2⎞         ⎥  ⎢        ⎛ 2    2⎞       ⎥⎥\n",
       "⎢⎢        π⋅⎝γ  + p ⎠         ⎥, ⎢      π⋅⎝γ  + p ⎠       ⎥⎥\n",
       "⎢⎢                            ⎥  ⎢                        ⎥⎥\n",
       "⎢⎢             0              ⎥  ⎢           0            ⎥⎥\n",
       "⎢⎢                            ⎥  ⎢                        ⎥⎥\n",
       "⎣⎣             0              ⎦  ⎣           0            ⎦⎦"
      ]
     },
     "metadata": {},
     "output_type": "display_data"
    },
    {
     "data": {
      "text/plain": [
       "'========================================'"
      ]
     },
     "metadata": {},
     "output_type": "display_data"
    },
    {
     "data": {
      "text/plain": [
       "['n=2', 'l=1', 'm=1']"
      ]
     },
     "metadata": {},
     "output_type": "display_data"
    },
    {
     "data": {
      "text/latex": [
       "$\\displaystyle \\left[ \\left[\\begin{matrix}\\frac{8 \\sqrt{2} \\gamma^{\\frac{7}{2}} \\left(- \\gamma^{2} + 5 p^{2}\\right)}{\\pi \\left(\\gamma^{2} + p^{2}\\right)^{4}}\\\\0\\\\0\\end{matrix}\\right], \\  \\left[\\begin{matrix}\\frac{8 \\sqrt{2} \\gamma^{\\frac{7}{2}} \\left(- \\gamma^{2} + 5 p^{2}\\right)}{\\pi \\left(\\gamma^{2} + p^{2}\\right)^{4}}\\\\0\\\\0\\end{matrix}\\right]\\right]$"
      ],
      "text/plain": [
       "⎡⎡      7/2 ⎛   2      2⎞⎤  ⎡      7/2 ⎛   2      2⎞⎤⎤\n",
       "⎢⎢8⋅√2⋅γ   ⋅⎝- γ  + 5⋅p ⎠⎥  ⎢8⋅√2⋅γ   ⋅⎝- γ  + 5⋅p ⎠⎥⎥\n",
       "⎢⎢───────────────────────⎥  ⎢───────────────────────⎥⎥\n",
       "⎢⎢                4      ⎥  ⎢                4      ⎥⎥\n",
       "⎢⎢       ⎛ 2    2⎞       ⎥  ⎢       ⎛ 2    2⎞       ⎥⎥\n",
       "⎢⎢     π⋅⎝γ  + p ⎠       ⎥, ⎢     π⋅⎝γ  + p ⎠       ⎥⎥\n",
       "⎢⎢                       ⎥  ⎢                       ⎥⎥\n",
       "⎢⎢           0           ⎥  ⎢           0           ⎥⎥\n",
       "⎢⎢                       ⎥  ⎢                       ⎥⎥\n",
       "⎣⎣           0           ⎦  ⎣           0           ⎦⎦"
      ]
     },
     "metadata": {},
     "output_type": "display_data"
    },
    {
     "data": {
      "text/plain": [
       "'========================================'"
      ]
     },
     "metadata": {},
     "output_type": "display_data"
    },
    {
     "data": {
      "text/plain": [
       "['n=3', 'l=0', 'm=0']"
      ]
     },
     "metadata": {},
     "output_type": "display_data"
    },
    {
     "data": {
      "text/latex": [
       "$\\displaystyle \\left[ \\left[\\begin{matrix}- \\frac{8 \\sqrt{2} \\gamma^{\\frac{5}{2}} p \\left(11 \\gamma^{4} - 18 \\gamma^{2} p^{2} + 3 p^{4}\\right)}{\\pi \\left(\\gamma^{2} + p^{2}\\right)^{5}}\\\\0\\\\0\\end{matrix}\\right], \\  \\left[\\begin{matrix}- \\frac{8 \\sqrt{2} \\gamma^{\\frac{5}{2}} p \\left(11 \\gamma^{4} - 18 \\gamma^{2} p^{2} + 3 p^{4}\\right)}{\\pi \\left(\\gamma^{2} + p^{2}\\right)^{5}}\\\\0\\\\0\\end{matrix}\\right]\\right]$"
      ],
      "text/plain": [
       "⎡⎡       5/2   ⎛    4       2  2      4⎞ ⎤  ⎡       5/2   ⎛    4       2  2    ↪\n",
       "⎢⎢-8⋅√2⋅γ   ⋅p⋅⎝11⋅γ  - 18⋅γ ⋅p  + 3⋅p ⎠ ⎥  ⎢-8⋅√2⋅γ   ⋅p⋅⎝11⋅γ  - 18⋅γ ⋅p  +  ↪\n",
       "⎢⎢───────────────────────────────────────⎥  ⎢───────────────────────────────── ↪\n",
       "⎢⎢                        5              ⎥  ⎢                        5         ↪\n",
       "⎢⎢               ⎛ 2    2⎞               ⎥  ⎢               ⎛ 2    2⎞          ↪\n",
       "⎢⎢             π⋅⎝γ  + p ⎠               ⎥, ⎢             π⋅⎝γ  + p ⎠          ↪\n",
       "⎢⎢                                       ⎥  ⎢                                  ↪\n",
       "⎢⎢                   0                   ⎥  ⎢                   0              ↪\n",
       "⎢⎢                                       ⎥  ⎢                                  ↪\n",
       "⎣⎣                   0                   ⎦  ⎣                   0              ↪\n",
       "\n",
       "↪    4⎞ ⎤⎤\n",
       "↪ 3⋅p ⎠ ⎥⎥\n",
       "↪ ──────⎥⎥\n",
       "↪       ⎥⎥\n",
       "↪       ⎥⎥\n",
       "↪       ⎥⎥\n",
       "↪       ⎥⎥\n",
       "↪       ⎥⎥\n",
       "↪       ⎥⎥\n",
       "↪       ⎦⎦"
      ]
     },
     "metadata": {},
     "output_type": "display_data"
    },
    {
     "data": {
      "text/plain": [
       "'========================================'"
      ]
     },
     "metadata": {},
     "output_type": "display_data"
    },
    {
     "data": {
      "text/plain": [
       "['n=3', 'l=1', 'm=1']"
      ]
     },
     "metadata": {},
     "output_type": "display_data"
    },
    {
     "data": {
      "text/latex": [
       "$\\displaystyle \\left[ \\left[\\begin{matrix}\\frac{16 \\sqrt{3} \\gamma^{\\frac{7}{2}} \\left(\\gamma^{4} - 10 \\gamma^{2} p^{2} + 5 p^{4}\\right)}{\\pi \\left(\\gamma^{2} + p^{2}\\right)^{5}}\\\\0\\\\0\\end{matrix}\\right], \\  \\left[\\begin{matrix}\\frac{16 \\sqrt{3} \\gamma^{\\frac{7}{2}} \\left(\\gamma^{4} - 10 \\gamma^{2} p^{2} + 5 p^{4}\\right)}{\\pi \\left(\\gamma^{2} + p^{2}\\right)^{5}}\\\\0\\\\0\\end{matrix}\\right]\\right]$"
      ],
      "text/plain": [
       "⎡⎡       7/2 ⎛ 4       2  2      4⎞⎤  ⎡       7/2 ⎛ 4       2  2      4⎞⎤⎤\n",
       "⎢⎢16⋅√3⋅γ   ⋅⎝γ  - 10⋅γ ⋅p  + 5⋅p ⎠⎥  ⎢16⋅√3⋅γ   ⋅⎝γ  - 10⋅γ ⋅p  + 5⋅p ⎠⎥⎥\n",
       "⎢⎢─────────────────────────────────⎥  ⎢─────────────────────────────────⎥⎥\n",
       "⎢⎢                     5           ⎥  ⎢                     5           ⎥⎥\n",
       "⎢⎢            ⎛ 2    2⎞            ⎥  ⎢            ⎛ 2    2⎞            ⎥⎥\n",
       "⎢⎢          π⋅⎝γ  + p ⎠            ⎥, ⎢          π⋅⎝γ  + p ⎠            ⎥⎥\n",
       "⎢⎢                                 ⎥  ⎢                                 ⎥⎥\n",
       "⎢⎢                0                ⎥  ⎢                0                ⎥⎥\n",
       "⎢⎢                                 ⎥  ⎢                                 ⎥⎥\n",
       "⎣⎣                0                ⎦  ⎣                0                ⎦⎦"
      ]
     },
     "metadata": {},
     "output_type": "display_data"
    },
    {
     "data": {
      "text/plain": [
       "'========================================'"
      ]
     },
     "metadata": {},
     "output_type": "display_data"
    },
    {
     "data": {
      "text/plain": [
       "['n=4', 'l=0', 'm=0']"
      ]
     },
     "metadata": {},
     "output_type": "display_data"
    },
    {
     "data": {
      "text/latex": [
       "$\\displaystyle \\left[ \\left[\\begin{matrix}- \\frac{32 \\sqrt{2} \\gamma^{\\frac{5}{2}} p \\left(- 6 \\gamma^{6} + 21 \\gamma^{4} p^{2} - 12 \\gamma^{2} p^{4} + p^{6}\\right)}{\\pi \\left(\\gamma^{2} + p^{2}\\right)^{6}}\\\\0\\\\0\\end{matrix}\\right], \\  \\left[\\begin{matrix}\\frac{32 \\sqrt{2} \\gamma^{\\frac{5}{2}} p \\left(6 \\gamma^{6} - 21 \\gamma^{4} p^{2} + 12 \\gamma^{2} p^{4} - p^{6}\\right)}{\\pi \\left(\\gamma^{2} + p^{2}\\right)^{6}}\\\\0\\\\0\\end{matrix}\\right]\\right]$"
      ],
      "text/plain": [
       "⎡⎡        5/2   ⎛     6       4  2       2  4    6⎞ ⎤  ⎡       5/2   ⎛   6     ↪\n",
       "⎢⎢-32⋅√2⋅γ   ⋅p⋅⎝- 6⋅γ  + 21⋅γ ⋅p  - 12⋅γ ⋅p  + p ⎠ ⎥  ⎢32⋅√2⋅γ   ⋅p⋅⎝6⋅γ  - 2 ↪\n",
       "⎢⎢──────────────────────────────────────────────────⎥  ⎢────────────────────── ↪\n",
       "⎢⎢                              6                   ⎥  ⎢                       ↪\n",
       "⎢⎢                     ⎛ 2    2⎞                    ⎥  ⎢                   ⎛ 2 ↪\n",
       "⎢⎢                   π⋅⎝γ  + p ⎠                    ⎥, ⎢                 π⋅⎝γ  ↪\n",
       "⎢⎢                                                  ⎥  ⎢                       ↪\n",
       "⎢⎢                        0                         ⎥  ⎢                       ↪\n",
       "⎢⎢                                                  ⎥  ⎢                       ↪\n",
       "⎣⎣                        0                         ⎦  ⎣                       ↪\n",
       "\n",
       "↪    4  2       2  4    6⎞⎤⎤\n",
       "↪ 1⋅γ ⋅p  + 12⋅γ ⋅p  - p ⎠⎥⎥\n",
       "↪ ────────────────────────⎥⎥\n",
       "↪       6                 ⎥⎥\n",
       "↪     2⎞                  ⎥⎥\n",
       "↪  + p ⎠                  ⎥⎥\n",
       "↪                         ⎥⎥\n",
       "↪ 0                       ⎥⎥\n",
       "↪                         ⎥⎥\n",
       "↪ 0                       ⎦⎦"
      ]
     },
     "metadata": {},
     "output_type": "display_data"
    },
    {
     "data": {
      "text/plain": [
       "'========================================'"
      ]
     },
     "metadata": {},
     "output_type": "display_data"
    },
    {
     "data": {
      "text/plain": [
       "['n=4', 'l=1', 'm=1']"
      ]
     },
     "metadata": {},
     "output_type": "display_data"
    },
    {
     "data": {
      "text/latex": [
       "$\\displaystyle \\left[ \\left[\\begin{matrix}\\frac{16 \\sqrt{10} \\gamma^{\\frac{7}{2}} \\left(- 5 \\gamma^{6} + 87 \\gamma^{4} p^{2} - 123 \\gamma^{2} p^{4} + 25 p^{6}\\right)}{5 \\pi \\left(\\gamma^{2} + p^{2}\\right)^{6}}\\\\0\\\\0\\end{matrix}\\right], \\  \\left[\\begin{matrix}\\frac{16 \\sqrt{10} \\gamma^{\\frac{7}{2}} \\left(- 5 \\gamma^{6} + 87 \\gamma^{4} p^{2} - 123 \\gamma^{2} p^{4} + 25 p^{6}\\right)}{5 \\pi \\left(\\gamma^{2} + p^{2}\\right)^{6}}\\\\0\\\\0\\end{matrix}\\right]\\right]$"
      ],
      "text/plain": [
       "⎡⎡        7/2 ⎛     6       4  2        2  4       6⎞⎤  ⎡        7/2 ⎛     6   ↪\n",
       "⎢⎢16⋅√10⋅γ   ⋅⎝- 5⋅γ  + 87⋅γ ⋅p  - 123⋅γ ⋅p  + 25⋅p ⎠⎥  ⎢16⋅√10⋅γ   ⋅⎝- 5⋅γ  + ↪\n",
       "⎢⎢───────────────────────────────────────────────────⎥  ⎢───────────────────── ↪\n",
       "⎢⎢                               6                   ⎥  ⎢                      ↪\n",
       "⎢⎢                      ⎛ 2    2⎞                    ⎥  ⎢                      ↪\n",
       "⎢⎢                  5⋅π⋅⎝γ  + p ⎠                    ⎥, ⎢                  5⋅π ↪\n",
       "⎢⎢                                                   ⎥  ⎢                      ↪\n",
       "⎢⎢                         0                         ⎥  ⎢                      ↪\n",
       "⎢⎢                                                   ⎥  ⎢                      ↪\n",
       "⎣⎣                         0                         ⎦  ⎣                      ↪\n",
       "\n",
       "↪      4  2        2  4       6⎞⎤⎤\n",
       "↪  87⋅γ ⋅p  - 123⋅γ ⋅p  + 25⋅p ⎠⎥⎥\n",
       "↪ ──────────────────────────────⎥⎥\n",
       "↪           6                   ⎥⎥\n",
       "↪  ⎛ 2    2⎞                    ⎥⎥\n",
       "↪ ⋅⎝γ  + p ⎠                    ⎥⎥\n",
       "↪                               ⎥⎥\n",
       "↪     0                         ⎥⎥\n",
       "↪                               ⎥⎥\n",
       "↪     0                         ⎦⎦"
      ]
     },
     "metadata": {},
     "output_type": "display_data"
    },
    {
     "data": {
      "text/plain": [
       "'========================================'"
      ]
     },
     "metadata": {},
     "output_type": "display_data"
    },
    {
     "data": {
      "text/plain": [
       "['n=5', 'l=0', 'm=0']"
      ]
     },
     "metadata": {},
     "output_type": "display_data"
    },
    {
     "data": {
      "text/latex": [
       "$\\displaystyle \\left[ \\left[\\begin{matrix}- \\frac{8 \\sqrt{2} \\gamma^{\\frac{5}{2}} p \\left(- 3 \\gamma^{2} + p^{2}\\right) \\left(- 15 \\gamma^{6} + 87 \\gamma^{4} p^{2} - 85 \\gamma^{2} p^{4} + 5 p^{6}\\right)}{\\pi \\left(\\gamma^{2} + p^{2}\\right)^{7}}\\\\0\\\\0\\end{matrix}\\right], \\  \\left[\\begin{matrix}- \\frac{8 \\sqrt{2} \\gamma^{\\frac{5}{2}} p \\left(3 \\gamma^{2} - p^{2}\\right) \\left(15 \\gamma^{6} - 87 \\gamma^{4} p^{2} + 85 \\gamma^{2} p^{4} - 5 p^{6}\\right)}{\\pi \\left(\\gamma^{2} + p^{2}\\right)^{7}}\\\\0\\\\0\\end{matrix}\\right]\\right]$"
      ],
      "text/plain": [
       "⎡⎡       5/2   ⎛     2    2⎞ ⎛      6       4  2       2  4      6⎞ ⎤  ⎡       ↪\n",
       "⎢⎢-8⋅√2⋅γ   ⋅p⋅⎝- 3⋅γ  + p ⎠⋅⎝- 15⋅γ  + 87⋅γ ⋅p  - 85⋅γ ⋅p  + 5⋅p ⎠ ⎥  ⎢-8⋅√2⋅ ↪\n",
       "⎢⎢──────────────────────────────────────────────────────────────────⎥  ⎢────── ↪\n",
       "⎢⎢                                      7                           ⎥  ⎢       ↪\n",
       "⎢⎢                             ⎛ 2    2⎞                            ⎥  ⎢       ↪\n",
       "⎢⎢                           π⋅⎝γ  + p ⎠                            ⎥, ⎢       ↪\n",
       "⎢⎢                                                                  ⎥  ⎢       ↪\n",
       "⎢⎢                                0                                 ⎥  ⎢       ↪\n",
       "⎢⎢                                                                  ⎥  ⎢       ↪\n",
       "⎣⎣                                0                                 ⎦  ⎣       ↪\n",
       "\n",
       "↪  5/2   ⎛   2    2⎞ ⎛    6       4  2       2  4      6⎞ ⎤⎤\n",
       "↪ γ   ⋅p⋅⎝3⋅γ  - p ⎠⋅⎝15⋅γ  - 87⋅γ ⋅p  + 85⋅γ ⋅p  - 5⋅p ⎠ ⎥⎥\n",
       "↪ ────────────────────────────────────────────────────────⎥⎥\n",
       "↪                               7                         ⎥⎥\n",
       "↪                      ⎛ 2    2⎞                          ⎥⎥\n",
       "↪                    π⋅⎝γ  + p ⎠                          ⎥⎥\n",
       "↪                                                         ⎥⎥\n",
       "↪                         0                               ⎥⎥\n",
       "↪                                                         ⎥⎥\n",
       "↪                         0                               ⎦⎦"
      ]
     },
     "metadata": {},
     "output_type": "display_data"
    },
    {
     "data": {
      "text/plain": [
       "'========================================'"
      ]
     },
     "metadata": {},
     "output_type": "display_data"
    },
    {
     "data": {
      "text/plain": [
       "['n=5', 'l=1', 'm=1']"
      ]
     },
     "metadata": {},
     "output_type": "display_data"
    },
    {
     "data": {
      "text/latex": [
       "$\\displaystyle \\left[ \\left[\\begin{matrix}\\frac{16 \\gamma^{\\frac{7}{2}} \\left(5 \\gamma^{8} - 136 \\gamma^{6} p^{2} + 378 \\gamma^{4} p^{4} - 224 \\gamma^{2} p^{6} + 25 p^{8}\\right)}{\\pi \\left(\\gamma^{2} + p^{2}\\right)^{7}}\\\\0\\\\0\\end{matrix}\\right], \\  \\left[\\begin{matrix}\\frac{\\gamma^{\\frac{7}{2}} \\left(80 \\gamma^{8} - 2176 \\gamma^{6} p^{2} + 6048 \\gamma^{4} p^{4} - 3584 \\gamma^{2} p^{6} + 400 p^{8}\\right)}{\\pi \\left(\\gamma^{2} + p^{2}\\right)^{7}}\\\\0\\\\0\\end{matrix}\\right]\\right]$"
      ],
      "text/plain": [
       "⎡⎡    7/2 ⎛   8        6  2        4  4        2  6       8⎞⎤  ⎡ 7/2 ⎛    8    ↪\n",
       "⎢⎢16⋅γ   ⋅⎝5⋅γ  - 136⋅γ ⋅p  + 378⋅γ ⋅p  - 224⋅γ ⋅p  + 25⋅p ⎠⎥  ⎢γ   ⋅⎝80⋅γ  -  ↪\n",
       "⎢⎢──────────────────────────────────────────────────────────⎥  ⎢────────────── ↪\n",
       "⎢⎢                                  7                       ⎥  ⎢               ↪\n",
       "⎢⎢                         ⎛ 2    2⎞                        ⎥  ⎢               ↪\n",
       "⎢⎢                       π⋅⎝γ  + p ⎠                        ⎥, ⎢               ↪\n",
       "⎢⎢                                                          ⎥  ⎢               ↪\n",
       "⎢⎢                            0                             ⎥  ⎢               ↪\n",
       "⎢⎢                                                          ⎥  ⎢               ↪\n",
       "⎣⎣                            0                             ⎦  ⎣               ↪\n",
       "\n",
       "↪       6  2         4  4         2  6        8⎞⎤⎤\n",
       "↪ 2176⋅γ ⋅p  + 6048⋅γ ⋅p  - 3584⋅γ ⋅p  + 400⋅p ⎠⎥⎥\n",
       "↪ ──────────────────────────────────────────────⎥⎥\n",
       "↪                      7                        ⎥⎥\n",
       "↪             ⎛ 2    2⎞                         ⎥⎥\n",
       "↪           π⋅⎝γ  + p ⎠                         ⎥⎥\n",
       "↪                                               ⎥⎥\n",
       "↪                0                              ⎥⎥\n",
       "↪                                               ⎥⎥\n",
       "↪                0                              ⎦⎦"
      ]
     },
     "metadata": {},
     "output_type": "display_data"
    },
    {
     "data": {
      "text/plain": [
       "'========================================'"
      ]
     },
     "metadata": {},
     "output_type": "display_data"
    }
   ],
   "source": [
    "sep = \"\".join([\"=\" for n in range(40)])\n",
    "display([Matrix([\"x\", \"y\", \"z\"]), Matrix([\"p\", \"theta\", \"phi\"])], sep)\n",
    "for n in range(6):\n",
    "    for l in range(min(n, 2)):\n",
    "        for m in range(0, l+1):\n",
    "            if l>0 and m==0: continue\n",
    "            DC, DS, _ = Dipole(n, l, m, p, 0)\n",
    "            display([\"n=\"+str(n), \"l=\"+str(l), \"m=\"+str(m)], [DC, DS], sep)"
   ]
  },
  {
   "cell_type": "markdown",
   "metadata": {},
   "source": [
    "<h3>Elliptical Polarisation</h3>\n",
    "$$\n",
    "\\vec{E} = \\frac{E_0 f(t)}{\\sqrt{1+\\varepsilon}}\\left[\\cos(\\omega t)\\hat{x} + \\varepsilon\\sin(\\omega t)\\hat{y}\\right]\\\\\n",
    "\\vec{p} = p_x\\hat{x} + p_y\\hat{y}\n",
    "$$"
   ]
  },
  {
   "cell_type": "code",
   "execution_count": 7,
   "metadata": {},
   "outputs": [
    {
     "data": {
      "text/latex": [
       "$\\displaystyle \\left[ \\left[\\begin{matrix}x\\\\y\\\\z\\end{matrix}\\right], \\  \\left[\\begin{matrix}p\\\\\\theta\\\\\\phi\\end{matrix}\\right]\\right]$"
      ],
      "text/plain": [
       "⎡⎡x⎤  ⎡p⎤⎤\n",
       "⎢⎢ ⎥  ⎢ ⎥⎥\n",
       "⎢⎢y⎥, ⎢θ⎥⎥\n",
       "⎢⎢ ⎥  ⎢ ⎥⎥\n",
       "⎣⎣z⎦  ⎣φ⎦⎦"
      ]
     },
     "metadata": {},
     "output_type": "display_data"
    },
    {
     "data": {
      "text/plain": [
       "'========================================'"
      ]
     },
     "metadata": {},
     "output_type": "display_data"
    },
    {
     "data": {
      "text/plain": [
       "['n=1', 'l=0', 'm=0']"
      ]
     },
     "metadata": {},
     "output_type": "display_data"
    },
    {
     "data": {
      "text/latex": [
       "$\\displaystyle \\left[ \\left[\\begin{matrix}- \\frac{8 \\sqrt{2} \\gamma^{\\frac{5}{2}} p_{x}}{\\pi \\left(\\gamma^{2} + p^{2}\\right)^{3}}\\\\- \\frac{8 \\sqrt{2} \\gamma^{\\frac{5}{2}} p_{y}}{\\pi \\left(\\gamma^{2} + p^{2}\\right)^{3}}\\\\0\\end{matrix}\\right], \\  \\left[\\begin{matrix}- \\frac{8 \\sqrt{2} \\gamma^{\\frac{5}{2}} p}{\\pi \\left(\\gamma^{2} + p^{2}\\right)^{3}}\\\\0\\\\0\\end{matrix}\\right]\\right]$"
      ],
      "text/plain": [
       "⎡⎡       5/2     ⎤                 ⎤\n",
       "⎢⎢-8⋅√2⋅γ   ⋅pₓ  ⎥                 ⎥\n",
       "⎢⎢────────────── ⎥  ⎡       5/2   ⎤⎥\n",
       "⎢⎢            3  ⎥  ⎢-8⋅√2⋅γ   ⋅p ⎥⎥\n",
       "⎢⎢   ⎛ 2    2⎞   ⎥  ⎢─────────────⎥⎥\n",
       "⎢⎢ π⋅⎝γ  + p ⎠   ⎥  ⎢           3 ⎥⎥\n",
       "⎢⎢               ⎥  ⎢  ⎛ 2    2⎞  ⎥⎥\n",
       "⎢⎢       5/2     ⎥, ⎢π⋅⎝γ  + p ⎠  ⎥⎥\n",
       "⎢⎢-8⋅√2⋅γ   ⋅p_y ⎥  ⎢             ⎥⎥\n",
       "⎢⎢───────────────⎥  ⎢      0      ⎥⎥\n",
       "⎢⎢            3  ⎥  ⎢             ⎥⎥\n",
       "⎢⎢   ⎛ 2    2⎞   ⎥  ⎣      0      ⎦⎥\n",
       "⎢⎢ π⋅⎝γ  + p ⎠   ⎥                 ⎥\n",
       "⎢⎢               ⎥                 ⎥\n",
       "⎣⎣       0       ⎦                 ⎦"
      ]
     },
     "metadata": {},
     "output_type": "display_data"
    },
    {
     "data": {
      "text/plain": [
       "'========================================'"
      ]
     },
     "metadata": {},
     "output_type": "display_data"
    },
    {
     "data": {
      "text/plain": [
       "['n=2', 'l=0', 'm=0']"
      ]
     },
     "metadata": {},
     "output_type": "display_data"
    },
    {
     "data": {
      "text/latex": [
       "$\\displaystyle \\left[ \\left[\\begin{matrix}- \\frac{16 \\sqrt{2} \\gamma^{\\frac{5}{2}} p_{x} \\left(- 2 \\gamma^{2} + p^{2}\\right)}{\\pi \\left(\\gamma^{2} + p^{2}\\right)^{4}}\\\\- \\frac{16 \\sqrt{2} \\gamma^{\\frac{5}{2}} p_{y} \\left(- 2 \\gamma^{2} + p^{2}\\right)}{\\pi \\left(\\gamma^{2} + p^{2}\\right)^{4}}\\\\0\\end{matrix}\\right], \\  \\left[\\begin{matrix}\\frac{16 \\sqrt{2} \\gamma^{\\frac{5}{2}} p \\left(2 \\gamma^{2} - p^{2}\\right)}{\\pi \\left(\\gamma^{2} + p^{2}\\right)^{4}}\\\\0\\\\0\\end{matrix}\\right]\\right]$"
      ],
      "text/plain": [
       "⎡⎡        5/2    ⎛     2    2⎞  ⎤                            ⎤\n",
       "⎢⎢-16⋅√2⋅γ   ⋅pₓ⋅⎝- 2⋅γ  + p ⎠  ⎥                            ⎥\n",
       "⎢⎢───────────────────────────── ⎥  ⎡       5/2   ⎛   2    2⎞⎤⎥\n",
       "⎢⎢                   4          ⎥  ⎢16⋅√2⋅γ   ⋅p⋅⎝2⋅γ  - p ⎠⎥⎥\n",
       "⎢⎢          ⎛ 2    2⎞           ⎥  ⎢────────────────────────⎥⎥\n",
       "⎢⎢        π⋅⎝γ  + p ⎠           ⎥  ⎢                 4      ⎥⎥\n",
       "⎢⎢                              ⎥  ⎢        ⎛ 2    2⎞       ⎥⎥\n",
       "⎢⎢        5/2     ⎛     2    2⎞ ⎥, ⎢      π⋅⎝γ  + p ⎠       ⎥⎥\n",
       "⎢⎢-16⋅√2⋅γ   ⋅p_y⋅⎝- 2⋅γ  + p ⎠ ⎥  ⎢                        ⎥⎥\n",
       "⎢⎢──────────────────────────────⎥  ⎢           0            ⎥⎥\n",
       "⎢⎢                    4         ⎥  ⎢                        ⎥⎥\n",
       "⎢⎢           ⎛ 2    2⎞          ⎥  ⎣           0            ⎦⎥\n",
       "⎢⎢         π⋅⎝γ  + p ⎠          ⎥                            ⎥\n",
       "⎢⎢                              ⎥                            ⎥\n",
       "⎣⎣              0               ⎦                            ⎦"
      ]
     },
     "metadata": {},
     "output_type": "display_data"
    },
    {
     "data": {
      "text/plain": [
       "'========================================'"
      ]
     },
     "metadata": {},
     "output_type": "display_data"
    },
    {
     "data": {
      "text/plain": [
       "['n=2', 'l=1', 'm=-1']"
      ]
     },
     "metadata": {},
     "output_type": "display_data"
    },
    {
     "data": {
      "text/latex": [
       "$\\displaystyle \\left[ \\left[\\begin{matrix}\\frac{48 \\sqrt{2} \\gamma^{\\frac{7}{2}} p_{x} p_{y}}{\\pi \\left(\\gamma^{2} + p^{2}\\right)^{4}}\\\\- \\frac{8 \\sqrt{2} \\gamma^{\\frac{7}{2}} \\left(\\gamma^{2} + p^{2} - 6 p_{y}^{2}\\right)}{\\pi \\left(\\gamma^{2} + p^{2}\\right)^{4}}\\\\0\\end{matrix}\\right], \\  \\left[\\begin{matrix}- \\frac{8 \\sqrt{2} \\gamma^{\\frac{7}{2}} p_{y} \\left(\\gamma^{2} - 5 p^{2}\\right)}{\\pi p \\left(\\gamma^{2} + p^{2}\\right)^{4}}\\\\0\\\\- \\frac{8 \\sqrt{2} \\gamma^{\\frac{7}{2}} p_{x}}{\\pi p \\left(\\gamma^{2} + p^{2}\\right)^{3}}\\end{matrix}\\right]\\right]$"
      ],
      "text/plain": [
       "⎡⎡             7/2              ⎤  ⎡       7/2     ⎛ 2      2⎞ ⎤⎤\n",
       "⎢⎢      48⋅√2⋅γ   ⋅pₓ⋅p_y       ⎥  ⎢-8⋅√2⋅γ   ⋅p_y⋅⎝γ  - 5⋅p ⎠ ⎥⎥\n",
       "⎢⎢      ─────────────────       ⎥  ⎢───────────────────────────⎥⎥\n",
       "⎢⎢                   4          ⎥  ⎢                   4       ⎥⎥\n",
       "⎢⎢          ⎛ 2    2⎞           ⎥  ⎢          ⎛ 2    2⎞        ⎥⎥\n",
       "⎢⎢        π⋅⎝γ  + p ⎠           ⎥  ⎢      π⋅p⋅⎝γ  + p ⎠        ⎥⎥\n",
       "⎢⎢                              ⎥  ⎢                           ⎥⎥\n",
       "⎢⎢       7/2 ⎛ 2    2        2⎞ ⎥, ⎢             0             ⎥⎥\n",
       "⎢⎢-8⋅√2⋅γ   ⋅⎝γ  + p  - 6⋅p_y ⎠ ⎥  ⎢                           ⎥⎥\n",
       "⎢⎢──────────────────────────────⎥  ⎢             7/2           ⎥⎥\n",
       "⎢⎢                    4         ⎥  ⎢      -8⋅√2⋅γ   ⋅pₓ        ⎥⎥\n",
       "⎢⎢           ⎛ 2    2⎞          ⎥  ⎢      ──────────────       ⎥⎥\n",
       "⎢⎢         π⋅⎝γ  + p ⎠          ⎥  ⎢                   3       ⎥⎥\n",
       "⎢⎢                              ⎥  ⎢          ⎛ 2    2⎞        ⎥⎥\n",
       "⎣⎣              0               ⎦  ⎣      π⋅p⋅⎝γ  + p ⎠        ⎦⎦"
      ]
     },
     "metadata": {},
     "output_type": "display_data"
    },
    {
     "data": {
      "text/plain": [
       "'========================================'"
      ]
     },
     "metadata": {},
     "output_type": "display_data"
    },
    {
     "data": {
      "text/plain": [
       "['n=2', 'l=1', 'm=1']"
      ]
     },
     "metadata": {},
     "output_type": "display_data"
    },
    {
     "data": {
      "text/latex": [
       "$\\displaystyle \\left[ \\left[\\begin{matrix}- \\frac{8 \\sqrt{2} \\gamma^{\\frac{7}{2}} \\left(\\gamma^{2} + p^{2} - 6 p_{x}^{2}\\right)}{\\pi \\left(\\gamma^{2} + p^{2}\\right)^{4}}\\\\\\frac{48 \\sqrt{2} \\gamma^{\\frac{7}{2}} p_{x} p_{y}}{\\pi \\left(\\gamma^{2} + p^{2}\\right)^{4}}\\\\0\\end{matrix}\\right], \\  \\left[\\begin{matrix}- \\frac{8 \\sqrt{2} \\gamma^{\\frac{7}{2}} p_{x} \\left(\\gamma^{2} - 5 p^{2}\\right)}{\\pi p \\left(\\gamma^{2} + p^{2}\\right)^{4}}\\\\0\\\\\\frac{8 \\sqrt{2} \\gamma^{\\frac{7}{2}} p_{y}}{\\pi p \\left(\\gamma^{2} + p^{2}\\right)^{3}}\\end{matrix}\\right]\\right]$"
      ],
      "text/plain": [
       "⎡⎡       7/2 ⎛ 2    2       2⎞ ⎤  ⎡       7/2    ⎛ 2      2⎞ ⎤⎤\n",
       "⎢⎢-8⋅√2⋅γ   ⋅⎝γ  + p  - 6⋅pₓ ⎠ ⎥  ⎢-8⋅√2⋅γ   ⋅pₓ⋅⎝γ  - 5⋅p ⎠ ⎥⎥\n",
       "⎢⎢─────────────────────────────⎥  ⎢──────────────────────────⎥⎥\n",
       "⎢⎢                   4         ⎥  ⎢                   4      ⎥⎥\n",
       "⎢⎢          ⎛ 2    2⎞          ⎥  ⎢          ⎛ 2    2⎞       ⎥⎥\n",
       "⎢⎢        π⋅⎝γ  + p ⎠          ⎥  ⎢      π⋅p⋅⎝γ  + p ⎠       ⎥⎥\n",
       "⎢⎢                             ⎥  ⎢                          ⎥⎥\n",
       "⎢⎢             7/2             ⎥, ⎢            0             ⎥⎥\n",
       "⎢⎢      48⋅√2⋅γ   ⋅pₓ⋅p_y      ⎥  ⎢                          ⎥⎥\n",
       "⎢⎢      ─────────────────      ⎥  ⎢            7/2           ⎥⎥\n",
       "⎢⎢                   4         ⎥  ⎢      8⋅√2⋅γ   ⋅p_y       ⎥⎥\n",
       "⎢⎢          ⎛ 2    2⎞          ⎥  ⎢      ──────────────      ⎥⎥\n",
       "⎢⎢        π⋅⎝γ  + p ⎠          ⎥  ⎢                   3      ⎥⎥\n",
       "⎢⎢                             ⎥  ⎢          ⎛ 2    2⎞       ⎥⎥\n",
       "⎣⎣              0              ⎦  ⎣      π⋅p⋅⎝γ  + p ⎠       ⎦⎦"
      ]
     },
     "metadata": {},
     "output_type": "display_data"
    },
    {
     "data": {
      "text/plain": [
       "'========================================'"
      ]
     },
     "metadata": {},
     "output_type": "display_data"
    },
    {
     "data": {
      "text/plain": [
       "['n=3', 'l=0', 'm=0']"
      ]
     },
     "metadata": {},
     "output_type": "display_data"
    },
    {
     "data": {
      "text/latex": [
       "$\\displaystyle \\left[ \\left[\\begin{matrix}- \\frac{8 \\sqrt{2} \\gamma^{\\frac{5}{2}} p_{x} \\left(11 \\gamma^{4} - 18 \\gamma^{2} p^{2} + 3 p^{4}\\right)}{\\pi \\left(\\gamma^{2} + p^{2}\\right)^{5}}\\\\- \\frac{8 \\sqrt{2} \\gamma^{\\frac{5}{2}} p_{y} \\left(11 \\gamma^{4} - 18 \\gamma^{2} p^{2} + 3 p^{4}\\right)}{\\pi \\left(\\gamma^{2} + p^{2}\\right)^{5}}\\\\0\\end{matrix}\\right], \\  \\left[\\begin{matrix}- \\frac{8 \\sqrt{2} \\gamma^{\\frac{5}{2}} p \\left(11 \\gamma^{4} - 18 \\gamma^{2} p^{2} + 3 p^{4}\\right)}{\\pi \\left(\\gamma^{2} + p^{2}\\right)^{5}}\\\\0\\\\0\\end{matrix}\\right]\\right]$"
      ],
      "text/plain": [
       "⎡⎡       5/2    ⎛    4       2  2      4⎞  ⎤                                   ↪\n",
       "⎢⎢-8⋅√2⋅γ   ⋅pₓ⋅⎝11⋅γ  - 18⋅γ ⋅p  + 3⋅p ⎠  ⎥                                   ↪\n",
       "⎢⎢──────────────────────────────────────── ⎥  ⎡       5/2   ⎛    4       2  2  ↪\n",
       "⎢⎢                         5               ⎥  ⎢-8⋅√2⋅γ   ⋅p⋅⎝11⋅γ  - 18⋅γ ⋅p   ↪\n",
       "⎢⎢                ⎛ 2    2⎞                ⎥  ⎢─────────────────────────────── ↪\n",
       "⎢⎢              π⋅⎝γ  + p ⎠                ⎥  ⎢                        5       ↪\n",
       "⎢⎢                                         ⎥  ⎢               ⎛ 2    2⎞        ↪\n",
       "⎢⎢       5/2     ⎛    4       2  2      4⎞ ⎥, ⎢             π⋅⎝γ  + p ⎠        ↪\n",
       "⎢⎢-8⋅√2⋅γ   ⋅p_y⋅⎝11⋅γ  - 18⋅γ ⋅p  + 3⋅p ⎠ ⎥  ⎢                                ↪\n",
       "⎢⎢─────────────────────────────────────────⎥  ⎢                   0            ↪\n",
       "⎢⎢                         5               ⎥  ⎢                                ↪\n",
       "⎢⎢                ⎛ 2    2⎞                ⎥  ⎣                   0            ↪\n",
       "⎢⎢              π⋅⎝γ  + p ⎠                ⎥                                   ↪\n",
       "⎢⎢                                         ⎥                                   ↪\n",
       "⎣⎣                    0                    ⎦                                   ↪\n",
       "\n",
       "↪          ⎤\n",
       "↪          ⎥\n",
       "↪      4⎞ ⎤⎥\n",
       "↪ + 3⋅p ⎠ ⎥⎥\n",
       "↪ ────────⎥⎥\n",
       "↪         ⎥⎥\n",
       "↪         ⎥⎥\n",
       "↪         ⎥⎥\n",
       "↪         ⎥⎥\n",
       "↪         ⎥⎥\n",
       "↪         ⎥⎥\n",
       "↪         ⎦⎥\n",
       "↪          ⎥\n",
       "↪          ⎥\n",
       "↪          ⎦"
      ]
     },
     "metadata": {},
     "output_type": "display_data"
    },
    {
     "data": {
      "text/plain": [
       "'========================================'"
      ]
     },
     "metadata": {},
     "output_type": "display_data"
    },
    {
     "data": {
      "text/plain": [
       "['n=3', 'l=1', 'm=-1']"
      ]
     },
     "metadata": {},
     "output_type": "display_data"
    },
    {
     "data": {
      "text/latex": [
       "$\\displaystyle \\left[ \\left[\\begin{matrix}\\frac{32 \\sqrt{3} \\gamma^{\\frac{7}{2}} p_{x} p_{y} \\left(- 5 \\gamma^{2} + 3 p^{2}\\right)}{\\pi \\left(\\gamma^{2} + p^{2}\\right)^{5}}\\\\- \\frac{16 \\sqrt{3} \\gamma^{\\frac{7}{2}} \\left(- \\gamma^{4} + p^{4} + p_{y}^{2} \\left(10 \\gamma^{2} - 6 p^{2}\\right)\\right)}{\\pi \\left(\\gamma^{2} + p^{2}\\right)^{5}}\\\\0\\end{matrix}\\right], \\  \\left[\\begin{matrix}\\frac{16 \\sqrt{3} \\gamma^{\\frac{7}{2}} p_{y} \\left(\\gamma^{4} - 10 \\gamma^{2} p^{2} + 5 p^{4}\\right)}{\\pi p \\left(\\gamma^{2} + p^{2}\\right)^{5}}\\\\0\\\\\\frac{16 \\sqrt{3} \\gamma^{\\frac{7}{2}} p_{x} \\left(\\gamma - p\\right) \\left(\\gamma + p\\right)}{\\pi p \\left(\\gamma^{2} + p^{2}\\right)^{4}}\\end{matrix}\\right]\\right]$"
      ],
      "text/plain": [
       "⎡⎡             7/2        ⎛     2      2⎞       ⎤  ⎡       7/2     ⎛ 4       2 ↪\n",
       "⎢⎢      32⋅√3⋅γ   ⋅pₓ⋅p_y⋅⎝- 5⋅γ  + 3⋅p ⎠       ⎥  ⎢16⋅√3⋅γ   ⋅p_y⋅⎝γ  - 10⋅γ  ↪\n",
       "⎢⎢      ─────────────────────────────────       ⎥  ⎢────────────────────────── ↪\n",
       "⎢⎢                           5                  ⎥  ⎢                        5  ↪\n",
       "⎢⎢                  ⎛ 2    2⎞                   ⎥  ⎢               ⎛ 2    2⎞   ↪\n",
       "⎢⎢                π⋅⎝γ  + p ⎠                   ⎥  ⎢           π⋅p⋅⎝γ  + p ⎠   ↪\n",
       "⎢⎢                                              ⎥  ⎢                           ↪\n",
       "⎢⎢        7/2 ⎛   4    4      2 ⎛    2      2⎞⎞ ⎥, ⎢                  0        ↪\n",
       "⎢⎢-16⋅√3⋅γ   ⋅⎝- γ  + p  + p_y ⋅⎝10⋅γ  - 6⋅p ⎠⎠ ⎥  ⎢                           ↪\n",
       "⎢⎢──────────────────────────────────────────────⎥  ⎢           7/2             ↪\n",
       "⎢⎢                            5                 ⎥  ⎢    16⋅√3⋅γ   ⋅pₓ⋅(γ - p)⋅ ↪\n",
       "⎢⎢                   ⎛ 2    2⎞                  ⎥  ⎢    ────────────────────── ↪\n",
       "⎢⎢                 π⋅⎝γ  + p ⎠                  ⎥  ⎢                        4  ↪\n",
       "⎢⎢                                              ⎥  ⎢               ⎛ 2    2⎞   ↪\n",
       "⎣⎣                      0                       ⎦  ⎣           π⋅p⋅⎝γ  + p ⎠   ↪\n",
       "\n",
       "↪   2      4⎞⎤⎤\n",
       "↪ ⋅p  + 5⋅p ⎠⎥⎥\n",
       "↪ ───────────⎥⎥\n",
       "↪            ⎥⎥\n",
       "↪            ⎥⎥\n",
       "↪            ⎥⎥\n",
       "↪            ⎥⎥\n",
       "↪            ⎥⎥\n",
       "↪            ⎥⎥\n",
       "↪            ⎥⎥\n",
       "↪ (γ + p)    ⎥⎥\n",
       "↪ ───────    ⎥⎥\n",
       "↪            ⎥⎥\n",
       "↪            ⎥⎥\n",
       "↪            ⎦⎦"
      ]
     },
     "metadata": {},
     "output_type": "display_data"
    },
    {
     "data": {
      "text/plain": [
       "'========================================'"
      ]
     },
     "metadata": {},
     "output_type": "display_data"
    },
    {
     "data": {
      "text/plain": [
       "['n=3', 'l=1', 'm=1']"
      ]
     },
     "metadata": {},
     "output_type": "display_data"
    },
    {
     "data": {
      "text/latex": [
       "$\\displaystyle \\left[ \\left[\\begin{matrix}- \\frac{16 \\sqrt{3} \\gamma^{\\frac{7}{2}} \\left(- \\gamma^{4} + p^{4} + p_{x}^{2} \\left(10 \\gamma^{2} - 6 p^{2}\\right)\\right)}{\\pi \\left(\\gamma^{2} + p^{2}\\right)^{5}}\\\\\\frac{32 \\sqrt{3} \\gamma^{\\frac{7}{2}} p_{x} p_{y} \\left(- 5 \\gamma^{2} + 3 p^{2}\\right)}{\\pi \\left(\\gamma^{2} + p^{2}\\right)^{5}}\\\\0\\end{matrix}\\right], \\  \\left[\\begin{matrix}\\frac{16 \\sqrt{3} \\gamma^{\\frac{7}{2}} p_{x} \\left(\\gamma^{4} - 10 \\gamma^{2} p^{2} + 5 p^{4}\\right)}{\\pi p \\left(\\gamma^{2} + p^{2}\\right)^{5}}\\\\0\\\\- \\frac{16 \\sqrt{3} \\gamma^{\\frac{7}{2}} p_{y} \\left(\\gamma - p\\right) \\left(\\gamma + p\\right)}{\\pi p \\left(\\gamma^{2} + p^{2}\\right)^{4}}\\end{matrix}\\right]\\right]$"
      ],
      "text/plain": [
       "⎡⎡        7/2 ⎛   4    4     2 ⎛    2      2⎞⎞ ⎤  ⎡       7/2    ⎛ 4       2   ↪\n",
       "⎢⎢-16⋅√3⋅γ   ⋅⎝- γ  + p  + pₓ ⋅⎝10⋅γ  - 6⋅p ⎠⎠ ⎥  ⎢16⋅√3⋅γ   ⋅pₓ⋅⎝γ  - 10⋅γ ⋅p ↪\n",
       "⎢⎢─────────────────────────────────────────────⎥  ⎢─────────────────────────── ↪\n",
       "⎢⎢                           5                 ⎥  ⎢                        5   ↪\n",
       "⎢⎢                  ⎛ 2    2⎞                  ⎥  ⎢               ⎛ 2    2⎞    ↪\n",
       "⎢⎢                π⋅⎝γ  + p ⎠                  ⎥  ⎢           π⋅p⋅⎝γ  + p ⎠    ↪\n",
       "⎢⎢                                             ⎥  ⎢                            ↪\n",
       "⎢⎢             7/2        ⎛     2      2⎞      ⎥, ⎢                 0          ↪\n",
       "⎢⎢      32⋅√3⋅γ   ⋅pₓ⋅p_y⋅⎝- 5⋅γ  + 3⋅p ⎠      ⎥  ⎢                            ↪\n",
       "⎢⎢      ─────────────────────────────────      ⎥  ⎢          7/2               ↪\n",
       "⎢⎢                           5                 ⎥  ⎢  -16⋅√3⋅γ   ⋅p_y⋅(γ - p)⋅( ↪\n",
       "⎢⎢                  ⎛ 2    2⎞                  ⎥  ⎢  ───────────────────────── ↪\n",
       "⎢⎢                π⋅⎝γ  + p ⎠                  ⎥  ⎢                        4   ↪\n",
       "⎢⎢                                             ⎥  ⎢               ⎛ 2    2⎞    ↪\n",
       "⎣⎣                      0                      ⎦  ⎣           π⋅p⋅⎝γ  + p ⎠    ↪\n",
       "\n",
       "↪ 2      4⎞⎤⎤\n",
       "↪   + 5⋅p ⎠⎥⎥\n",
       "↪ ─────────⎥⎥\n",
       "↪          ⎥⎥\n",
       "↪          ⎥⎥\n",
       "↪          ⎥⎥\n",
       "↪          ⎥⎥\n",
       "↪          ⎥⎥\n",
       "↪          ⎥⎥\n",
       "↪          ⎥⎥\n",
       "↪ γ + p)   ⎥⎥\n",
       "↪ ───────  ⎥⎥\n",
       "↪          ⎥⎥\n",
       "↪          ⎥⎥\n",
       "↪          ⎦⎦"
      ]
     },
     "metadata": {},
     "output_type": "display_data"
    },
    {
     "data": {
      "text/plain": [
       "'========================================'"
      ]
     },
     "metadata": {},
     "output_type": "display_data"
    }
   ],
   "source": [
    "display([Matrix([\"x\", \"y\", \"z\"]), Matrix([\"p\", \"theta\", \"phi\"])], sep)\n",
    "sep = \"\".join([\"=\" for n in range(40)])\n",
    "for n in range(4):\n",
    "    for l in range(min(n, 2)):\n",
    "        for m in range(-l, l+1):\n",
    "            if l>0 and m==0: continue\n",
    "            DC, DS, _ = Dipole(n, l, m)\n",
    "            display([\"n=\"+str(n), \"l=\"+str(l), \"m=\"+str(m)], [DC, DS], sep)"
   ]
  }
 ],
 "metadata": {
  "kernelspec": {
   "display_name": ".venv",
   "language": "python",
   "name": "python3"
  },
  "language_info": {
   "codemirror_mode": {
    "name": "ipython",
    "version": 3
   },
   "file_extension": ".py",
   "mimetype": "text/x-python",
   "name": "python",
   "nbconvert_exporter": "python",
   "pygments_lexer": "ipython3",
   "version": "3.13.5"
  }
 },
 "nbformat": 4,
 "nbformat_minor": 4
}
