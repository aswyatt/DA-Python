{
 "cells": [
  {
   "cell_type": "code",
   "execution_count": 6,
   "id": "13ef4dd6",
   "metadata": {},
   "outputs": [
    {
     "data": {
      "text/latex": [
       "$\\displaystyle \\left[\\begin{matrix}\\frac{N \\left(\\gamma^{2} - 5 px^{2} + py^{2} + pz^{2}\\right)}{\\left(\\gamma^{2} + px^{2} + py^{2} + pz^{2}\\right)^{4}}\\\\- \\frac{6 N px py}{\\left(\\gamma^{2} + px^{2} + py^{2} + pz^{2}\\right)^{4}}\\\\- \\frac{6 N px pz}{\\left(\\gamma^{2} + px^{2} + py^{2} + pz^{2}\\right)^{4}}\\end{matrix}\\right]$"
      ],
      "text/plain": [
       "Matrix([\n",
       "[N*(gamma**2 - 5*px**2 + py**2 + pz**2)/(gamma**2 + px**2 + py**2 + pz**2)**4],\n",
       "[                            -6*N*px*py/(gamma**2 + px**2 + py**2 + pz**2)**4],\n",
       "[                            -6*N*px*pz/(gamma**2 + px**2 + py**2 + pz**2)**4]])"
      ]
     },
     "metadata": {},
     "output_type": "display_data"
    }
   ],
   "source": [
    "# SymPy derivation for the 2p_x transition dipole:\n",
    "# - starts from ψ̃_{2p_x}(p,θ,φ) in spherical momentum coords\n",
    "# - applies the spherical gradient operator\n",
    "# - rotates to Cartesian basis\n",
    "# - removes all trig using identities to express the result purely in (px, py, pz)\n",
    "# NOTE: no output/printing; results are stored in variables.\n",
    "\n",
    "import sympy as sp\n",
    "\n",
    "# Symbols\n",
    "p, theta, phi, gamma = sp.symbols('p theta phi gamma', positive=True, real=True)\n",
    "px, py, pz = sp.symbols('px py pz', real=True)\n",
    "N = sp.symbols('N', real=True)  # e.g., N = 8*sqrt(2)*gamma**(sp.Rational(7,2))/pi if desired\n",
    "\n",
    "# Spherical unit vectors (as Cartesian components)\n",
    "e_r = sp.Matrix([sp.sin(theta)*sp.cos(phi),\n",
    "                 sp.sin(theta)*sp.sin(phi),\n",
    "                 sp.cos(theta)])\n",
    "e_theta = sp.Matrix([sp.cos(theta)*sp.cos(phi),\n",
    "                     sp.cos(theta)*sp.sin(phi),\n",
    "                     -sp.sin(theta)])\n",
    "e_phi = sp.Matrix([-sp.sin(phi), sp.cos(phi), 0])\n",
    "\n",
    "# Spherical→Cartesian rotation matrix (columns are e_r, e_theta, e_phi)\n",
    "R = sp.Matrix.hstack(e_r, e_theta, e_phi)\n",
    "\n",
    "# Real momentum-space 2p_x orbital: ψ̃_{2p_x}(p,θ,φ)\n",
    "psi_tilde_2px = N * p * sp.sin(theta) * sp.cos(phi) / (gamma**2 + p**2)**3\n",
    "\n",
    "# Spherical gradient components of ψ̃ (v_r, v_theta, v_phi):\n",
    "df_dp     = sp.diff(psi_tilde_2px, p)\n",
    "df_dtheta = sp.diff(psi_tilde_2px, theta)\n",
    "df_dphi   = sp.diff(psi_tilde_2px, phi)\n",
    "\n",
    "v_r     = df_dp\n",
    "v_theta = df_dtheta / p\n",
    "v_phi   = df_dphi   / (p * sp.sin(theta))\n",
    "\n",
    "v_sph = sp.Matrix([v_r, v_theta, v_phi])\n",
    "\n",
    "# Rotate spherical components into Cartesian basis (still in terms of p,θ,φ)\n",
    "dipole_2px_cart_angles = sp.simplify(R * v_sph)\n",
    "\n",
    "# Substitute angles → Cartesian momentum components and remove residual trig\n",
    "p_norm = sp.sqrt(px**2 + py**2 + pz**2)\n",
    "\n",
    "subs_rules = {\n",
    "    # basic relations\n",
    "    p: p_norm,\n",
    "    sp.sin(theta)*sp.cos(phi): px/p_norm,\n",
    "    sp.sin(theta)*sp.sin(phi): py/p_norm,\n",
    "    sp.cos(theta):             pz/p_norm,\n",
    "    sp.sin(theta)**2:          (px**2 + py**2)/p_norm**2,\n",
    "\n",
    "    # identities that appear after rotation (no square-roots needed)\n",
    "    sp.sin(phi - 2*theta) - sp.sin(phi + 2*theta): -4*px*pz/p_norm**2,\n",
    "    sp.cos(phi - 2*theta) - sp.cos(phi + 2*theta):  4*py*pz/p_norm**2,\n",
    "}\n",
    "\n",
    "dipole_2px_cart = sp.simplify(sp.together(dipole_2px_cart_angles.subs(subs_rules)))\n",
    "\n",
    "# Optional: factor/organize (kept as separate variables, still no output)\n",
    "dipole_2px_cart_factored = sp.simplify(sp.factor(dipole_2px_cart))\n",
    "dipole_2px_cart_components = [sp.simplify(sp.together(c)) for c in dipole_2px_cart_factored]\n",
    "\n",
    "# Optional: in-plane specialization (pz = 0), if needed later\n",
    "dipole_2px_inplane = [sp.simplify(c.subs({pz: 0})) for c in dipole_2px_cart_components]\n",
    "\n",
    "display(dipole_2px_cart_factored)"
   ]
  }
 ],
 "metadata": {
  "kernelspec": {
   "display_name": ".venv",
   "language": "python",
   "name": "python3"
  },
  "language_info": {
   "codemirror_mode": {
    "name": "ipython",
    "version": 3
   },
   "file_extension": ".py",
   "mimetype": "text/x-python",
   "name": "python",
   "nbconvert_exporter": "python",
   "pygments_lexer": "ipython3",
   "version": "3.13.5"
  }
 },
 "nbformat": 4,
 "nbformat_minor": 5
}
